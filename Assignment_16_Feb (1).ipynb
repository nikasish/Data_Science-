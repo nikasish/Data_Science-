{
 "cells": [
  {
   "cell_type": "markdown",
   "id": "a822a550-9fb1-415f-b444-1f6155bd1f94",
   "metadata": {},
   "source": [
    "### Assignment 16th Feb "
   ]
  },
  {
   "cell_type": "markdown",
   "id": "8a43764b-6beb-4638-877a-52759e2fb70a",
   "metadata": {},
   "source": [
    "### Q1 "
   ]
  },
  {
   "cell_type": "markdown",
   "id": "e12244a7-aeb5-4743-81b9-242411a9a679",
   "metadata": {},
   "source": [
    "#### database is an organised collection of structured data or information. \n",
    "\n",
    "#### SQL stands for structured query language it is worked on relations, thats why we called sql is an relational database management system. sql works on raw and tables. sql have fixed schema or pattern. sql follow acid property. \n",
    "\n",
    "#### NOSQL is not depend on any relation thats why it is an non relational database. nosql dont have any schema or pattern means dynamic schema. nosql follow cap theoram. "
   ]
  },
  {
   "cell_type": "code",
   "execution_count": null,
   "id": "8f64f0f6-6edb-40ca-8c58-3840ff58c2f5",
   "metadata": {},
   "outputs": [],
   "source": []
  },
  {
   "cell_type": "markdown",
   "id": "9f9901b9-d3ae-4daa-aa36-da489822873f",
   "metadata": {},
   "source": [
    "### Q2 "
   ]
  },
  {
   "cell_type": "markdown",
   "id": "bbd14186-5322-4285-8532-fa76afecc2f1",
   "metadata": {},
   "source": [
    "## DDL is data defination language in sql. this is a sub language it deals with objects in database. "
   ]
  },
  {
   "cell_type": "markdown",
   "id": "d2b38802-4609-474b-b808-11d1b3243f6e",
   "metadata": {},
   "source": [
    "### create() :->> create is used to create table, create database in database. "
   ]
  },
  {
   "cell_type": "markdown",
   "id": "3ddbc258-1e52-4559-89d3-ac10e1e43b15",
   "metadata": {},
   "source": [
    "#### create database databaseName(myfirstdatabase)\n",
    "#### create table tableName( column name with data type )"
   ]
  },
  {
   "cell_type": "code",
   "execution_count": null,
   "id": "fbcb0caa-e503-4ab2-bc99-2d09ed89cb39",
   "metadata": {},
   "outputs": [],
   "source": []
  },
  {
   "cell_type": "markdown",
   "id": "70b2819e-5262-4407-abb6-41838f7f61c4",
   "metadata": {},
   "source": [
    "### drop :->> drop is used to drop / delete a particular table "
   ]
  },
  {
   "cell_type": "markdown",
   "id": "cd811851-7411-4b8b-9a09-a35f9add8e4d",
   "metadata": {},
   "source": [
    "#### drop tableName( column name with data type )"
   ]
  },
  {
   "cell_type": "code",
   "execution_count": null,
   "id": "3b0d11fb-7196-4008-85b6-faff09fa587e",
   "metadata": {},
   "outputs": [],
   "source": []
  },
  {
   "cell_type": "markdown",
   "id": "0207701c-0a3b-44c2-8d3a-0d7ceac3b011",
   "metadata": {},
   "source": [
    "### alter :->> alter allow us to perform aultering operation in any objects of database. like add a raw, remove a raw etc. "
   ]
  },
  {
   "cell_type": "markdown",
   "id": "53607252-e1ba-455b-8f60-628eb94b62d7",
   "metadata": {},
   "source": [
    "#### ALTER TABLE table_name DROP cmark2\n",
    "#### ALTER TABLE table_name RENAME COLUMN cmark1 to science\n",
    "#### ALTER TABLE table_name RENAME to new_table \n",
    "### ALTER TABLE table_name ADD (cmark1 INT, cmark2 INT)"
   ]
  },
  {
   "cell_type": "code",
   "execution_count": null,
   "id": "e2104793-b132-4d23-9e72-981052cafb26",
   "metadata": {},
   "outputs": [],
   "source": []
  },
  {
   "cell_type": "markdown",
   "id": "c06e7ac1-90e5-426c-ab86-0a6b8b126c4c",
   "metadata": {},
   "source": [
    "### truncate :->> is used to delete the table data / info after running the truncate command.  "
   ]
  },
  {
   "cell_type": "markdown",
   "id": "090d1f8b-bcee-49fd-be37-32daecb4e3e2",
   "metadata": {},
   "source": [
    "### Q3 "
   ]
  },
  {
   "cell_type": "markdown",
   "id": "0618b2d5-8daa-4d3f-8f64-af3b30889543",
   "metadata": {},
   "source": [
    "### DML ->> is data Manipulation language, its deals with the database objects. it will allow us to Manipulate/changes database data.   "
   ]
  },
  {
   "cell_type": "markdown",
   "id": "3832191c-a4a7-431f-90b3-1e23a8e1a469",
   "metadata": {},
   "source": [
    "#### insert ->> it is used to add data in table columns "
   ]
  },
  {
   "cell_type": "markdown",
   "id": "f445282c-15f3-432a-bdf6-9e1b881f1272",
   "metadata": {
    "tags": []
   },
   "source": [
    "#### 1. insert into table_name values 'ram'\n",
    "#### 2. insert into table_name values ('ram', 20, 700252222332 ) "
   ]
  },
  {
   "cell_type": "code",
   "execution_count": null,
   "id": "8890f5ec-9714-452b-b473-4c551f630179",
   "metadata": {},
   "outputs": [],
   "source": []
  },
  {
   "cell_type": "markdown",
   "id": "a1a57e4c-55a6-4b0c-bf53-06805a481418",
   "metadata": {},
   "source": [
    "### update ->> it will allow us to update the table data "
   ]
  },
  {
   "cell_type": "markdown",
   "id": "6dfa7e97-1950-4437-ba47-a42cd26f168f",
   "metadata": {},
   "source": [
    "#### update table_name set column_name='value' where age = 20"
   ]
  },
  {
   "cell_type": "code",
   "execution_count": null,
   "id": "db06f945-6165-4fae-8da2-35cc694eae42",
   "metadata": {},
   "outputs": [],
   "source": []
  },
  {
   "cell_type": "markdown",
   "id": "54ed505e-54fa-4074-a054-47c8900fdc83",
   "metadata": {},
   "source": [
    "### delete ->> it help us to delete table data from database table "
   ]
  },
  {
   "cell_type": "markdown",
   "id": "b71e1be0-bb3d-4cc3-93fb-485583744264",
   "metadata": {},
   "source": [
    "#### delete from table_name (for all table data deleting )\n",
    "#### delete from table_name where age=10 (with a condition deleting )"
   ]
  },
  {
   "cell_type": "code",
   "execution_count": null,
   "id": "6d6500b6-86ef-4bd3-a34d-d9df11f55af5",
   "metadata": {},
   "outputs": [],
   "source": []
  },
  {
   "cell_type": "markdown",
   "id": "4180ca7b-74fd-44c9-8ff3-3138d266da24",
   "metadata": {},
   "source": [
    "### DQL ->> Data Query Language,  it is used to retrive information from database.  "
   ]
  },
  {
   "cell_type": "markdown",
   "id": "86fe21f5-a670-4e21-8027-840ec0533bb7",
   "metadata": {},
   "source": [
    "#### select * from table_name \n",
    "#### selct (name) from {maindata (table name)}"
   ]
  },
  {
   "cell_type": "code",
   "execution_count": null,
   "id": "aa4c9d3f-389a-4dc4-afb5-a4823a1e62ec",
   "metadata": {},
   "outputs": [],
   "source": []
  },
  {
   "cell_type": "markdown",
   "id": "9f82d9dc-eeed-4b70-b131-0bac5b5eed56",
   "metadata": {},
   "source": [
    "### Q5"
   ]
  },
  {
   "cell_type": "markdown",
   "id": "b5bd08d6-62ec-41eb-a314-0f81ff788711",
   "metadata": {},
   "source": [
    "### Primary Key "
   ]
  },
  {
   "cell_type": "markdown",
   "id": "b841ea74-acc3-4a13-be46-259e6ddf14bc",
   "metadata": {},
   "source": [
    "#### using primary key we will set the restriction of data in any columns. like primary key do not allow us to store duplicate values in applying columns as well as do not allow to store null values. means if a i will use primary key constraint in any columns i can not store any duuplicate and null value and also i have use primary key one time in a columns of a table. "
   ]
  },
  {
   "cell_type": "markdown",
   "id": "9715933a-2beb-44ee-9027-a6a0441bb267",
   "metadata": {},
   "source": [
    "#### alter table tablename modify/add column comlumn_name column_datatype primary key"
   ]
  },
  {
   "cell_type": "markdown",
   "id": "3eccd5a0-96a6-4d07-bab6-1d77d7270925",
   "metadata": {},
   "source": [
    "### Foregin key"
   ]
  },
  {
   "cell_type": "markdown",
   "id": "44143ff7-57e2-4d80-8fc7-7890498633f0",
   "metadata": {},
   "source": [
    "#### foregin key is a referance which can allow us to create relationship between two table with columns."
   ]
  },
  {
   "cell_type": "markdown",
   "id": "35e3ede8-d780-4ee9-af39-3cf77e19359d",
   "metadata": {},
   "source": [
    "#### table1 columns:-  slno primary key, name, addess "
   ]
  },
  {
   "cell_type": "markdown",
   "id": "521572a4-e78d-4662-a548-04ecb247c4ac",
   "metadata": {},
   "source": [
    "#### table2 columns:-  dept_id unique key, name, addess "
   ]
  },
  {
   "cell_type": "markdown",
   "id": "1073ed5e-73c0-4c0c-93bc-b202d05b2d37",
   "metadata": {},
   "source": [
    "#### select * from table2 where dept_id in(select slno from table1 where name = 'sales' )"
   ]
  },
  {
   "cell_type": "code",
   "execution_count": null,
   "id": "4639567f-fe00-474f-85b0-9d5fcf35e5fc",
   "metadata": {},
   "outputs": [],
   "source": []
  },
  {
   "cell_type": "markdown",
   "id": "9c28b095-3ed3-4226-98a6-4a6dd25c99d7",
   "metadata": {},
   "source": [
    "### Q6"
   ]
  },
  {
   "cell_type": "code",
   "execution_count": 4,
   "id": "f36cc94d-bbcc-4463-b123-21f3990f0723",
   "metadata": {},
   "outputs": [
    {
     "ename": "ModuleNotFoundError",
     "evalue": "No module named 'mysql'",
     "output_type": "error",
     "traceback": [
      "\u001b[0;31m---------------------------------------------------------------------------\u001b[0m",
      "\u001b[0;31mModuleNotFoundError\u001b[0m                       Traceback (most recent call last)",
      "Cell \u001b[0;32mIn[4], line 1\u001b[0m\n\u001b[0;32m----> 1\u001b[0m \u001b[38;5;28;01mimport\u001b[39;00m \u001b[38;5;21;01mmysql\u001b[39;00m\n",
      "\u001b[0;31mModuleNotFoundError\u001b[0m: No module named 'mysql'"
     ]
    }
   ],
   "source": []
  },
  {
   "cell_type": "code",
   "execution_count": 2,
   "id": "b32cf67d-e700-4e23-9c50-46f213ccd739",
   "metadata": {},
   "outputs": [
    {
     "ename": "NameError",
     "evalue": "name 'mysql' is not defined",
     "output_type": "error",
     "traceback": [
      "\u001b[0;31m---------------------------------------------------------------------------\u001b[0m",
      "\u001b[0;31mNameError\u001b[0m                                 Traceback (most recent call last)",
      "Cell \u001b[0;32mIn[2], line 1\u001b[0m\n\u001b[0;32m----> 1\u001b[0m connection_name \u001b[38;5;241m=\u001b[39m \u001b[43mmysql\u001b[49m\u001b[38;5;241m.\u001b[39mconnector\u001b[38;5;241m.\u001b[39mconnect(\n\u001b[1;32m      2\u001b[0m host \u001b[38;5;241m=\u001b[39m \u001b[38;5;124m'\u001b[39m\u001b[38;5;124mlocalhost\u001b[39m\u001b[38;5;124m'\u001b[39m,\n\u001b[1;32m      3\u001b[0m user \u001b[38;5;241m=\u001b[39m \u001b[38;5;124m'\u001b[39m\u001b[38;5;124mabc\u001b[39m\u001b[38;5;124m'\u001b[39m,\n\u001b[1;32m      4\u001b[0m password \u001b[38;5;241m=\u001b[39m \u001b[38;5;124m'\u001b[39m\u001b[38;5;124mpassword\u001b[39m\u001b[38;5;124m'\u001b[39m\n\u001b[1;32m      5\u001b[0m )\n\u001b[1;32m      7\u001b[0m mycursor \u001b[38;5;241m=\u001b[39m connection_name\u001b[38;5;241m.\u001b[39mcursor()\n\u001b[1;32m      9\u001b[0m mycursor\u001b[38;5;241m.\u001b[39mexecute(\u001b[38;5;124m'\u001b[39m\u001b[38;5;124m type here what you want execute \u001b[39m\u001b[38;5;124m'\u001b[39m)\n",
      "\u001b[0;31mNameError\u001b[0m: name 'mysql' is not defined"
     ]
    }
   ],
   "source": [
    "import mysql.connector\n",
    "connection_name = mysql.connector.connect(\n",
    "host = 'localhost',\n",
    "user = 'abc',\n",
    "password = 'password'\n",
    ")\n",
    "\n",
    "mycursor = connection_name.cursor()\n",
    "\n",
    "mycursor.execute(' type here what you want execute ')\n",
    "\n",
    "### for printing mycursor data \n",
    "for i in mycursor:\n",
    "    print(i)"
   ]
  },
  {
   "cell_type": "markdown",
   "id": "a2849027-8c46-4a34-a66e-9be62d179d53",
   "metadata": {},
   "source": [
    "### cursor() ->> it is help us to read the data line by line. by the using of cursor we can find out the cursor actual position to find the spefic data. we can say we will print data using cursor. "
   ]
  },
  {
   "cell_type": "markdown",
   "id": "caea733d-f135-4ab4-862e-31e39026ced5",
   "metadata": {},
   "source": [
    "### execute ->> it will help us to execute the functions / methods / database query. "
   ]
  },
  {
   "cell_type": "markdown",
   "id": "5226d187-5b3d-4477-bc87-3f8e45bd5259",
   "metadata": {},
   "source": [
    "### Q7 "
   ]
  },
  {
   "cell_type": "markdown",
   "id": "5d8f5a49-9d53-4597-8167-1c4bd051b989",
   "metadata": {},
   "source": [
    "#### FROM: The FROM clause specifies the tables or views from which the data is retrieved. It identifies the data sources for the query.\n",
    "\n",
    "#### WHERE: The WHERE clause is used to filter the rows based on specific conditions. It is applied after the FROM clause and before the other clauses.\n",
    "\n",
    "#### GROUP BY: The GROUP BY clause is used to group the result set by one or more columns. It combines rows that have the same values in the specified columns.\n",
    "\n",
    "#### HAVING: The HAVING clause is used to filter the grouped rows based on specific conditions. It is applied after the GROUP BY clause.\n",
    "\n",
    "#### SELECT: The SELECT clause is used to specify the columns to be included in the result set. It retrieves the desired columns from the specified tables or views.\n",
    "\n",
    "#### DISTINCT: The DISTINCT keyword is used to eliminate duplicate rows from the result set. It ensures that each row in the result set is unique.\n",
    "\n",
    "#### ORDER BY: The ORDER BY clause is used to sort the result set based on one or more columns. It arranges the rows in a specified order (ascending or descending).\n",
    "\n",
    "#### LIMIT/OFFSET: The LIMIT and OFFSET clauses are used for pagination or to restrict the number of rows returned by the query. The LIMIT clause specifies the maximum number of rows to be returned, while the OFFSET clause skips a specified number of rows before returning the results."
   ]
  },
  {
   "cell_type": "code",
   "execution_count": null,
   "id": "620be8f9-45a6-4d7c-a0e7-2a200015cd2f",
   "metadata": {},
   "outputs": [],
   "source": []
  }
 ],
 "metadata": {
  "kernelspec": {
   "display_name": "Python 3 (ipykernel)",
   "language": "python",
   "name": "python3"
  },
  "language_info": {
   "codemirror_mode": {
    "name": "ipython",
    "version": 3
   },
   "file_extension": ".py",
   "mimetype": "text/x-python",
   "name": "python",
   "nbconvert_exporter": "python",
   "pygments_lexer": "ipython3",
   "version": "3.10.8"
  }
 },
 "nbformat": 4,
 "nbformat_minor": 5
}
