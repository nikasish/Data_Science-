{
 "cells": [
  {
   "cell_type": "markdown",
   "id": "baca48bd-5e3c-44a8-8575-3b31df16e23b",
   "metadata": {},
   "source": [
    "## Question 1"
   ]
  },
  {
   "cell_type": "markdown",
   "id": "6ff2db8e-c232-4260-b05e-d8b09f943755",
   "metadata": {},
   "source": [
    "### Def Keyword is used to create a function in python "
   ]
  },
  {
   "cell_type": "code",
   "execution_count": 3,
   "id": "bcd91a22-ad7a-4a65-b4ad-1aadb92b0813",
   "metadata": {},
   "outputs": [],
   "source": [
    "lis = list(range(1, 26))"
   ]
  },
  {
   "cell_type": "code",
   "execution_count": 28,
   "id": "b296d09b-ad14-40f2-aa30-d94836b15cc4",
   "metadata": {},
   "outputs": [],
   "source": [
    "l1 = [] \n",
    "def func():\n",
    "    for i in lis:\n",
    "        if i%2==0:\n",
    "            l1.append(i)\n",
    "    return l1"
   ]
  },
  {
   "cell_type": "code",
   "execution_count": 29,
   "id": "ac2fa780-d624-40ad-82e0-48edeb564280",
   "metadata": {},
   "outputs": [
    {
     "data": {
      "text/plain": [
       "[2, 4, 6, 8, 10, 12, 14, 16, 18, 20, 22, 24]"
      ]
     },
     "execution_count": 29,
     "metadata": {},
     "output_type": "execute_result"
    }
   ],
   "source": [
    "func()"
   ]
  },
  {
   "cell_type": "markdown",
   "id": "a72b94d1-e5c7-40e0-ac95-a4aa030ca9e7",
   "metadata": {},
   "source": [
    "## Question 2"
   ]
  },
  {
   "cell_type": "markdown",
   "id": "6bba14c5-fef2-4564-a1f9-1805571fb79a",
   "metadata": {},
   "source": [
    "### args and kwargs is used to pass an argument in a function, using this both we can pass Nth No argument in function"
   ]
  },
  {
   "cell_type": "code",
   "execution_count": 63,
   "id": "a1bc0819-fce2-41cb-81df-93d4ff1d7cd0",
   "metadata": {},
   "outputs": [],
   "source": [
    "def func1(*args):\n",
    "    return args"
   ]
  },
  {
   "cell_type": "code",
   "execution_count": 64,
   "id": "604fef37-c5a3-499c-95c9-879e6eb45f94",
   "metadata": {},
   "outputs": [
    {
     "data": {
      "text/plain": [
       "(1, 2, 3, 4, 5, (5, 4, 3), 'ram')"
      ]
     },
     "execution_count": 64,
     "metadata": {},
     "output_type": "execute_result"
    }
   ],
   "source": [
    "func1(1,2,3,4,5, (5,4,3),  \"ram\") "
   ]
  },
  {
   "cell_type": "code",
   "execution_count": 74,
   "id": "6bde8e57-3d64-4eac-9ad2-e48e460110af",
   "metadata": {},
   "outputs": [],
   "source": [
    "def func2(**kwargs):\n",
    "    return kwargs"
   ]
  },
  {
   "cell_type": "code",
   "execution_count": 77,
   "id": "833e7e3b-cc2f-424c-b6d2-fecbb82a3bc4",
   "metadata": {},
   "outputs": [
    {
     "data": {
      "text/plain": [
       "{'name': 'Nikasish', 'Qualification': 'BA'}"
      ]
     },
     "execution_count": 77,
     "metadata": {},
     "output_type": "execute_result"
    }
   ],
   "source": [
    "func2( name = \"Nikasish\",  Qualification = \"BA\",) "
   ]
  },
  {
   "cell_type": "markdown",
   "id": "4cf3f2ac-e46f-460a-a596-d6fb76d5f730",
   "metadata": {},
   "source": [
    "### Question No 3"
   ]
  },
  {
   "cell_type": "markdown",
   "id": "3f7e8093-079a-4987-949f-661781390163",
   "metadata": {},
   "source": [
    "### An iterator is an object that contains a countable number of values."
   ]
  },
  {
   "cell_type": "code",
   "execution_count": 24,
   "id": "aeefe49b-b987-49a6-aae8-33baf7959750",
   "metadata": {},
   "outputs": [
    {
     "name": "stdout",
     "output_type": "stream",
     "text": [
      "2\n",
      "4\n",
      "6\n",
      "8\n",
      "10\n"
     ]
    }
   ],
   "source": [
    "lis = [2, 4, 6, 8, 10, 12, 14, 16, 18, 20]\n",
    "lis1 = iter(lis)\n",
    "\n",
    "for i in range(5):\n",
    "    print(next(lis1))"
   ]
  },
  {
   "cell_type": "markdown",
   "id": "15dfcfbc-d752-4d87-836c-e4bea9ddbf6e",
   "metadata": {},
   "source": [
    "### Question 4 "
   ]
  },
  {
   "cell_type": "markdown",
   "id": "f86a6da2-da80-423c-929d-06f9c0e381a4",
   "metadata": {},
   "source": [
    "### Generator function is a function that dont have return keyword. and yield keyword is used to produce the data from a generator function.. "
   ]
  },
  {
   "cell_type": "code",
   "execution_count": 5,
   "id": "727be1bd-4eec-4517-ad95-9982c1fb9044",
   "metadata": {},
   "outputs": [],
   "source": [
    "def function(n):\n",
    "    for i in range(n):\n",
    "        yield i"
   ]
  },
  {
   "cell_type": "code",
   "execution_count": 14,
   "id": "01c38c21-92fd-44c8-8a69-5eedb31246f0",
   "metadata": {},
   "outputs": [
    {
     "name": "stdout",
     "output_type": "stream",
     "text": [
      "0\n",
      "1\n",
      "2\n",
      "3\n",
      "4\n",
      "5\n",
      "6\n",
      "7\n",
      "8\n",
      "9\n"
     ]
    }
   ],
   "source": [
    "for i in function(10):\n",
    "    print(i)"
   ]
  },
  {
   "cell_type": "markdown",
   "id": "b85d62d0-4d8f-4cb6-a094-50fc14ef9a6b",
   "metadata": {},
   "source": [
    "### Question 5 "
   ]
  },
  {
   "cell_type": "code",
   "execution_count": 2,
   "id": "c9402bb4-caf4-4d03-9560-a9c3f67e8a63",
   "metadata": {},
   "outputs": [],
   "source": [
    "def getPrimes(n): \n",
    "    i =2\n",
    "    while i < n :\n",
    "        prime = True \n",
    "        for a in range(2, i):\n",
    "            if i%a == 0: \n",
    "                prime = False\n",
    "                break\n",
    "                \n",
    "        if prime:    \n",
    "            yield i\n",
    "        i += 1 \n",
    "        \n",
    "        \n",
    "prime_gen = getPrimes(20)\n",
    "# next(prime_gen)"
   ]
  },
  {
   "cell_type": "code",
   "execution_count": 10,
   "id": "698f65d2-1698-41e0-81d3-a3f5163f1d2a",
   "metadata": {},
   "outputs": [
    {
     "data": {
      "text/plain": [
       "19"
      ]
     },
     "execution_count": 10,
     "metadata": {},
     "output_type": "execute_result"
    }
   ],
   "source": [
    "next(prime_gen)"
   ]
  },
  {
   "cell_type": "markdown",
   "id": "96a46fa9-6d71-4ebb-aa7c-305d1a421e84",
   "metadata": {},
   "source": [
    "### Question 6"
   ]
  },
  {
   "cell_type": "code",
   "execution_count": 7,
   "id": "276bcea3-7e18-4f92-b98e-82cffed7ab3a",
   "metadata": {},
   "outputs": [
    {
     "name": "stdin",
     "output_type": "stream",
     "text": [
      "Enter Your No for Fibonacci Series 10\n"
     ]
    },
    {
     "name": "stdout",
     "output_type": "stream",
     "text": [
      "0\n",
      "1\n",
      "1\n",
      "2\n",
      "3\n",
      "5\n",
      "8\n"
     ]
    }
   ],
   "source": [
    "n = int(input(\"Enter Your No for Fibonacci Series\"))\n",
    "\n",
    "x,y,z = 0, 1, 0\n",
    "\n",
    "while z <= n:\n",
    "    print(z) \n",
    "    x = y\n",
    "    y = z\n",
    "    z = x+y\n",
    "    # z = z+1\n",
    "    \n",
    "    "
   ]
  },
  {
   "cell_type": "markdown",
   "id": "5ee33bbd-5738-42ab-b8fe-c4a1c180b2ce",
   "metadata": {},
   "source": [
    "### Question No 7"
   ]
  },
  {
   "cell_type": "code",
   "execution_count": 22,
   "id": "503d3533-59fd-46a0-a14f-369b9fe7da1a",
   "metadata": {},
   "outputs": [
    {
     "data": {
      "text/plain": [
       "['P', 'W', 'S', 'K', 'I', 'L', 'L', 'S']"
      ]
     },
     "execution_count": 22,
     "metadata": {},
     "output_type": "execute_result"
    }
   ],
   "source": [
    "data = \"pwskills\" \n",
    "\n",
    "[i for i in data ]"
   ]
  },
  {
   "cell_type": "markdown",
   "id": "55cfd063-16bb-4441-a14e-042b103e55ee",
   "metadata": {},
   "source": [
    "### Question 8"
   ]
  },
  {
   "cell_type": "code",
   "execution_count": 24,
   "id": "1ae9b788-c962-41e5-b329-a4df9d306cc1",
   "metadata": {},
   "outputs": [
    {
     "name": "stdin",
     "output_type": "stream",
     "text": [
      "Enter your No to check No is palindrom or not  774\n"
     ]
    },
    {
     "name": "stdout",
     "output_type": "stream",
     "text": [
      "774 Is Not Palindrome No\n"
     ]
    }
   ],
   "source": [
    "n = int(input(\"Enter your No to check No is palindrom or not \")) \n",
    "\n",
    "org =n \n",
    "rev = 0 \n",
    "\n",
    "while n>0:\n",
    "    rev = (rev*10) + n%10\n",
    "    n = n//10\n",
    "    \n",
    "if org==rev:\n",
    "    print (org ,\"Is Palindrome No \")\n",
    "else:\n",
    "    print(org, \"Is Not Palindrome No\" )"
   ]
  },
  {
   "cell_type": "markdown",
   "id": "fb0ee40f-f27a-4ea7-afec-8702312e1843",
   "metadata": {},
   "source": [
    "### Question 9"
   ]
  },
  {
   "cell_type": "code",
   "execution_count": 15,
   "id": "ee26cf08-2c41-4352-b24b-75151fba9d49",
   "metadata": {},
   "outputs": [
    {
     "data": {
      "text/plain": [
       "[1,\n",
       " 3,\n",
       " 5,\n",
       " 7,\n",
       " 9,\n",
       " 11,\n",
       " 13,\n",
       " 15,\n",
       " 17,\n",
       " 19,\n",
       " 21,\n",
       " 23,\n",
       " 25,\n",
       " 27,\n",
       " 29,\n",
       " 31,\n",
       " 33,\n",
       " 35,\n",
       " 37,\n",
       " 39,\n",
       " 41,\n",
       " 43,\n",
       " 45,\n",
       " 47,\n",
       " 49,\n",
       " 51,\n",
       " 53,\n",
       " 55,\n",
       " 57,\n",
       " 59,\n",
       " 61,\n",
       " 63,\n",
       " 65,\n",
       " 67,\n",
       " 69,\n",
       " 71,\n",
       " 73,\n",
       " 75,\n",
       " 77,\n",
       " 79,\n",
       " 81,\n",
       " 83,\n",
       " 85,\n",
       " 87,\n",
       " 89,\n",
       " 91,\n",
       " 93,\n",
       " 95,\n",
       " 97,\n",
       " 99]"
      ]
     },
     "execution_count": 15,
     "metadata": {},
     "output_type": "execute_result"
    }
   ],
   "source": [
    "d = list(range(1,101))\n",
    "\n",
    "\n",
    "[i for i in d if i%2==1]"
   ]
  }
 ],
 "metadata": {
  "kernelspec": {
   "display_name": "Python 3 (ipykernel)",
   "language": "python",
   "name": "python3"
  },
  "language_info": {
   "codemirror_mode": {
    "name": "ipython",
    "version": 3
   },
   "file_extension": ".py",
   "mimetype": "text/x-python",
   "name": "python",
   "nbconvert_exporter": "python",
   "pygments_lexer": "ipython3",
   "version": "3.10.8"
  }
 },
 "nbformat": 4,
 "nbformat_minor": 5
}
