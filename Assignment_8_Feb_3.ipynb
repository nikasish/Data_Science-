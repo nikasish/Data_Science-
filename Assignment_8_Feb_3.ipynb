{
 "cells": [
  {
   "cell_type": "markdown",
   "id": "6f2f5eb9-b2bb-478b-8e03-f093dfd7d2b8",
   "metadata": {},
   "source": [
    "### Assignment 8 FEB"
   ]
  },
  {
   "cell_type": "markdown",
   "id": "667fc0c9-e90d-4153-a24e-ce88a8c7870b",
   "metadata": {},
   "source": [
    "### Q1"
   ]
  },
  {
   "cell_type": "markdown",
   "id": "e301578c-9ef8-40cd-83e3-18df796601f0",
   "metadata": {},
   "source": [
    "#### Abstruction is a class, using this class we can hide the implementing part or sensitive part of coding . in a single word we can say, only the ui partwe can see not the implimenting part. Abstruction is used to create the bule print or schaleton of a programme."
   ]
  },
  {
   "cell_type": "markdown",
   "id": "e7a393be-b631-4f84-8846-5021bb811517",
   "metadata": {},
   "source": [
    "### Example:- a car, we know the cards fetures, we know how to start the car or the visible part of a card but we can not see the implimenting part or the processing part"
   ]
  },
  {
   "cell_type": "code",
   "execution_count": 24,
   "id": "f8304e56-3446-4888-94a7-9a118927edbb",
   "metadata": {},
   "outputs": [],
   "source": [
    "import abc\n",
    "class car:\n",
    "    @abc.abstractclassmethod\n",
    "    def Thar(self):\n",
    "        self.car_name = 'Thar'\n",
    "        self.car_color = 'Red'\n",
    "        self.car_price = 12000\n",
    "        return self.car_name, self.car_color, self.car_price\n",
    "    \n",
    "    @abc.abstractclassmethod\n",
    "    def Enova(self):\n",
    "        self.car_name = 'Enova'\n",
    "        self.car_color = 'Blue'\n",
    "        self.car_price = 15000\n",
    "        return self.car_name, self.car_color, self.car_price"
   ]
  },
  {
   "cell_type": "code",
   "execution_count": 25,
   "id": "ec5be50c-fb97-4d78-84b9-b7e522a4d065",
   "metadata": {},
   "outputs": [],
   "source": [
    "class Thar(car):\n",
    "    def get_car(self):\n",
    "        return self.Thar()"
   ]
  },
  {
   "cell_type": "code",
   "execution_count": 26,
   "id": "7ac85184-831a-48ba-9f0d-cb3940b76909",
   "metadata": {},
   "outputs": [],
   "source": [
    "class Enova(car):\n",
    "    def get_car(self):\n",
    "        return self.Enova()"
   ]
  },
  {
   "cell_type": "code",
   "execution_count": 27,
   "id": "76332f7d-1632-4784-9a39-0be1b37ab3c8",
   "metadata": {},
   "outputs": [],
   "source": [
    "get_Thar = Thar()"
   ]
  },
  {
   "cell_type": "code",
   "execution_count": 28,
   "id": "dad32edb-83ec-4f3a-80f5-cd54b838ede4",
   "metadata": {},
   "outputs": [
    {
     "data": {
      "text/plain": [
       "('Thar', 'Red', 12000)"
      ]
     },
     "execution_count": 28,
     "metadata": {},
     "output_type": "execute_result"
    }
   ],
   "source": [
    "get_Thar.Thar()"
   ]
  },
  {
   "cell_type": "code",
   "execution_count": 29,
   "id": "f7b86c1d-b5db-4b38-ab3a-742fe8e45a5d",
   "metadata": {},
   "outputs": [],
   "source": [
    "get_Enova = Enova()"
   ]
  },
  {
   "cell_type": "code",
   "execution_count": 30,
   "id": "6ff64dc1-4d96-485e-856b-aba2ca614485",
   "metadata": {},
   "outputs": [
    {
     "data": {
      "text/plain": [
       "('Enova', 'Blue', 15000)"
      ]
     },
     "execution_count": 30,
     "metadata": {},
     "output_type": "execute_result"
    }
   ],
   "source": [
    "get_Enova.Enova()"
   ]
  },
  {
   "cell_type": "code",
   "execution_count": null,
   "id": "6604b121-b09d-47ae-a27d-0cd3bb5b982f",
   "metadata": {},
   "outputs": [],
   "source": []
  },
  {
   "cell_type": "markdown",
   "id": "722fed2d-b4ba-4237-ad26-e2bd906a0c76",
   "metadata": {},
   "source": [
    "### Q2 "
   ]
  },
  {
   "cell_type": "markdown",
   "id": "a90d0c81-110e-4e4b-90c3-b0c839963070",
   "metadata": {},
   "source": [
    "#### Abstraction is a design level process and it is used to reduce the complexity at the designing stage of a project.\n",
    "#### Encaplusation is a process that can help us for privacy and maintaining the controll of a project. in a sort language we can say encapluation is used to protect the data and it is used to related the privacy of a programme."
   ]
  },
  {
   "cell_type": "markdown",
   "id": "ce9fd82e-aa52-43fa-8579-f376363829b4",
   "metadata": {},
   "source": [
    "### Example of Abstruction "
   ]
  },
  {
   "cell_type": "code",
   "execution_count": 1,
   "id": "02da4fc3-6422-4248-bdbb-893e13c9a59c",
   "metadata": {},
   "outputs": [],
   "source": [
    "import abc\n",
    "class car:\n",
    "    @abc.abstractclassmethod\n",
    "    def Thar(self):\n",
    "        self.car_name = 'Thar'\n",
    "        self.car_color = 'Red'\n",
    "        self.car_price = 12000\n",
    "        return self.car_name, self.car_color, self.car_price\n",
    "    \n",
    "    @abc.abstractclassmethod\n",
    "    def Enova(self):\n",
    "        self.car_name = 'Enova'\n",
    "        self.car_color = 'Blue'\n",
    "        self.car_price = 15000\n",
    "        return self.car_name, self.car_color, self.car_price"
   ]
  },
  {
   "cell_type": "markdown",
   "id": "4f131bb8-2c5f-4638-a7b1-0f29d0cb0504",
   "metadata": {},
   "source": [
    "### Example of encaplusation "
   ]
  },
  {
   "cell_type": "code",
   "execution_count": 15,
   "id": "0613f0aa-9d7f-4550-b5e6-b197813c89fe",
   "metadata": {},
   "outputs": [],
   "source": [
    "class info:\n",
    "    def __init__(self):\n",
    "        self.__price = 3500\n",
    "        self.course_name = 'Data Science'\n",
    "     \n",
    "    @property\n",
    "    def get_course_info(self):\n",
    "        return self.__price"
   ]
  },
  {
   "cell_type": "code",
   "execution_count": 16,
   "id": "1f768885-fe81-4f57-ae30-8cf014ed3be0",
   "metadata": {},
   "outputs": [],
   "source": [
    "info = info()"
   ]
  },
  {
   "cell_type": "code",
   "execution_count": 11,
   "id": "30434393-fc8d-4719-bbaf-6a7db2495b9b",
   "metadata": {},
   "outputs": [
    {
     "data": {
      "text/plain": [
       "3500"
      ]
     },
     "execution_count": 11,
     "metadata": {},
     "output_type": "execute_result"
    }
   ],
   "source": [
    "info._info__price"
   ]
  },
  {
   "cell_type": "code",
   "execution_count": 18,
   "id": "329edfcc-8644-49a4-ba27-49b073a8e32b",
   "metadata": {},
   "outputs": [
    {
     "data": {
      "text/plain": [
       "3500"
      ]
     },
     "execution_count": 18,
     "metadata": {},
     "output_type": "execute_result"
    }
   ],
   "source": [
    "info.get_course_info"
   ]
  },
  {
   "cell_type": "code",
   "execution_count": null,
   "id": "b4723c11-33a5-4533-8844-20a02a358d69",
   "metadata": {},
   "outputs": [],
   "source": []
  },
  {
   "cell_type": "markdown",
   "id": "6895b399-e28e-4eed-a394-d6487601867a",
   "metadata": {},
   "source": [
    "### Q3 "
   ]
  },
  {
   "cell_type": "markdown",
   "id": "bd0aa82e-691e-479c-8d97-91634c4f25f5",
   "metadata": {},
   "source": [
    "### In python abc module is a module available in python, it is a predefined module, it is used to abstruct the function and a programme.¶"
   ]
  },
  {
   "cell_type": "code",
   "execution_count": 22,
   "id": "3f9af88c-cfb4-4d2d-b32e-2ae37a5de502",
   "metadata": {},
   "outputs": [],
   "source": [
    "import abc \n",
    "\n",
    "class abc:\n",
    "    @abc.abstractclassmethod\n",
    "    def abc_ref(self):\n",
    "        pass"
   ]
  },
  {
   "cell_type": "code",
   "execution_count": null,
   "id": "197d9bac-9c26-4459-aa05-918a52e56a65",
   "metadata": {},
   "outputs": [],
   "source": []
  },
  {
   "cell_type": "markdown",
   "id": "864be017-b253-49ba-8ba5-4fd80c989d5a",
   "metadata": {},
   "source": [
    "### Q4"
   ]
  },
  {
   "cell_type": "markdown",
   "id": "363b3f67-8768-4a2b-b075-655c9511f14a",
   "metadata": {},
   "source": [
    "#### we will achive data abstruction importing abc module @abc.abstractclassmethod"
   ]
  },
  {
   "cell_type": "code",
   "execution_count": null,
   "id": "c44cd6ca-e04b-4d75-9302-df9dfcc93f6c",
   "metadata": {},
   "outputs": [],
   "source": []
  },
  {
   "cell_type": "markdown",
   "id": "3f61b029-4556-475b-bb39-f02c80ea0c9d",
   "metadata": {},
   "source": [
    "### Q5"
   ]
  },
  {
   "cell_type": "markdown",
   "id": "61f8bd28-39a9-46e6-9427-f20eaf6edaf2",
   "metadata": {},
   "source": [
    "#### No we can not create instance object of an abstruct class because abstruct class has no body and it is protected and there is nothing define in this class, that's why we can not create an object of a abstruct class¶"
   ]
  },
  {
   "cell_type": "code",
   "execution_count": null,
   "id": "3687de94-8f0b-4801-8ae5-680123e7e405",
   "metadata": {},
   "outputs": [],
   "source": []
  }
 ],
 "metadata": {
  "kernelspec": {
   "display_name": "Python 3 (ipykernel)",
   "language": "python",
   "name": "python3"
  },
  "language_info": {
   "codemirror_mode": {
    "name": "ipython",
    "version": 3
   },
   "file_extension": ".py",
   "mimetype": "text/x-python",
   "name": "python",
   "nbconvert_exporter": "python",
   "pygments_lexer": "ipython3",
   "version": "3.10.8"
  }
 },
 "nbformat": 4,
 "nbformat_minor": 5
}
