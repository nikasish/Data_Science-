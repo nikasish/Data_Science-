{
 "cells": [
  {
   "cell_type": "markdown",
   "id": "443741a7-d05e-48c1-ba56-dc885487acea",
   "metadata": {},
   "source": [
    "### Question 1 "
   ]
  },
  {
   "cell_type": "markdown",
   "id": "225cdda9-0ae8-4d9a-82f1-fda6defeca30",
   "metadata": {},
   "source": [
    "#### Guido van Rossum"
   ]
  },
  {
   "cell_type": "markdown",
   "id": "14fbec1f-ff91-4566-9778-8bf9f0d282ee",
   "metadata": {},
   "source": [
    "### Q2"
   ]
  },
  {
   "cell_type": "markdown",
   "id": "20ba195b-b85c-46f7-8e1b-f3fa5054d957",
   "metadata": {},
   "source": [
    "#### supporting -- object-oriented, structured, and functional programming"
   ]
  },
  {
   "cell_type": "markdown",
   "id": "c1558644-48db-48a8-8cc9-aad50cf17e63",
   "metadata": {},
   "source": [
    "### Q3 "
   ]
  },
  {
   "cell_type": "markdown",
   "id": "98df3a54-e0c9-47bb-b28d-46d57d403953",
   "metadata": {},
   "source": [
    "#### Yes, Python is a case-sensitive language and  its assosiated to identifiers "
   ]
  },
  {
   "cell_type": "markdown",
   "id": "7e178985-2f06-42c8-ad5d-0b4a049b9666",
   "metadata": {},
   "source": [
    "### Q4"
   ]
  },
  {
   "cell_type": "markdown",
   "id": "3ba4d077-5299-4b17-9883-e91674817220",
   "metadata": {},
   "source": [
    "#### .py"
   ]
  },
  {
   "cell_type": "markdown",
   "id": "a698287d-1b75-4bf9-ac6b-92e702c70df9",
   "metadata": {},
   "source": [
    "### Q5"
   ]
  },
  {
   "cell_type": "markdown",
   "id": "fd02aa52-e469-47a3-b40f-b8548a0a3807",
   "metadata": {},
   "source": [
    "#### interpreted"
   ]
  },
  {
   "cell_type": "markdown",
   "id": "ac948e8e-1169-4c03-b936-f307d4e1e8de",
   "metadata": {},
   "source": [
    "### Q6"
   ]
  },
  {
   "cell_type": "markdown",
   "id": "01842917-bb97-4d8d-a47c-b013b360a162",
   "metadata": {},
   "source": [
    "#### a module, a function body, and a class definition"
   ]
  },
  {
   "cell_type": "markdown",
   "id": "04f2decf-4083-419b-8776-21fa022a57df",
   "metadata": {},
   "source": [
    "### Q7 "
   ]
  },
  {
   "cell_type": "markdown",
   "id": "5990670d-9661-49fb-81cf-9d2227622c66",
   "metadata": {},
   "source": [
    "#### #Hello Python"
   ]
  },
  {
   "cell_type": "markdown",
   "id": "5efb72c8-ad54-4592-a91e-d86b5d4c90c5",
   "metadata": {},
   "source": [
    "### Q8 "
   ]
  },
  {
   "cell_type": "markdown",
   "id": "de66503e-ff6f-43d5-827c-13f462ba72c8",
   "metadata": {},
   "source": [
    "#### --version"
   ]
  },
  {
   "cell_type": "markdown",
   "id": "590dcfb2-4163-4468-8dd9-db5819ca1d7c",
   "metadata": {},
   "source": [
    "### Q9"
   ]
  },
  {
   "cell_type": "markdown",
   "id": "7d1ac91c-a942-43ec-be7c-a2140f9413fb",
   "metadata": {},
   "source": [
    "#### lambda function cos lambda anonyus function"
   ]
  },
  {
   "cell_type": "markdown",
   "id": "eea83794-d307-4838-b34c-dca750892ba7",
   "metadata": {},
   "source": [
    "### Q10"
   ]
  },
  {
   "cell_type": "markdown",
   "id": "2d2183f0-12ba-4e9d-a747-00ed12aeb28f",
   "metadata": {},
   "source": [
    "#### Preferred Installer Program"
   ]
  },
  {
   "cell_type": "markdown",
   "id": "a5559ce2-1365-44ec-b927-e9c91d6ec372",
   "metadata": {},
   "source": [
    "### Q11 "
   ]
  },
  {
   "cell_type": "markdown",
   "id": "b5a1f83f-0283-4753-b9c0-427d00ed292e",
   "metadata": {},
   "source": [
    "#### print, int, str, range, input etc "
   ]
  },
  {
   "cell_type": "markdown",
   "id": "30da6169-a4fd-45e5-9aac-c81c67afe8e1",
   "metadata": {},
   "source": [
    "### Q12"
   ]
  },
  {
   "cell_type": "markdown",
   "id": "cb7c3711-ccbd-44b3-8f20-172d41f98c51",
   "metadata": {},
   "source": [
    "#### 79 i hope "
   ]
  },
  {
   "cell_type": "markdown",
   "id": "f33add7d-261b-4428-8b48-475bbd4327d0",
   "metadata": {},
   "source": [
    "### Q13"
   ]
  },
  {
   "cell_type": "markdown",
   "id": "8ae800ef-6ba5-404e-bc5d-31de4c106639",
   "metadata": {},
   "source": [
    "### there are many more benefits of like data science, mathematical computing, game development, etc many more "
   ]
  },
  {
   "cell_type": "markdown",
   "id": "6e7aa77f-b745-4199-bf81-35a1604938cc",
   "metadata": {},
   "source": [
    "### Q14 "
   ]
  },
  {
   "cell_type": "markdown",
   "id": "b33395e5-fd94-444e-8c70-7f41f99e1a83",
   "metadata": {},
   "source": [
    "#### internally by the Python memory manager"
   ]
  },
  {
   "cell_type": "markdown",
   "id": "d14f3260-6c39-4af5-b8a4-5c0bb2f084e9",
   "metadata": {},
   "source": [
    "### Q15 "
   ]
  },
  {
   "cell_type": "markdown",
   "id": "0a6e3746-cf95-4829-943c-956742bcc7ba",
   "metadata": {},
   "source": [
    "#### visiting the official web site of phthon and click install button as per system configure it will automatically install. \n",
    "#### right click on the pc select or click on the advance system setting,  click enviroment variable, click path variable and edit it, and paste the existing copyed path already copy from c drive python folder"
   ]
  },
  {
   "cell_type": "markdown",
   "id": "cf9e00d1-85c6-442d-b1c8-269ea0b28f47",
   "metadata": {},
   "source": [
    "### Q16 "
   ]
  },
  {
   "cell_type": "markdown",
   "id": "ea16b2c3-66a7-4c6c-8135-345f72e5c5fd",
   "metadata": {},
   "source": [
    "#### indentation in Python is very important"
   ]
  },
  {
   "cell_type": "code",
   "execution_count": null,
   "id": "287a3e50-40f9-426e-a2c0-0161fd5577ad",
   "metadata": {},
   "outputs": [],
   "source": []
  }
 ],
 "metadata": {
  "kernelspec": {
   "display_name": "Python 3 (ipykernel)",
   "language": "python",
   "name": "python3"
  },
  "language_info": {
   "codemirror_mode": {
    "name": "ipython",
    "version": 3
   },
   "file_extension": ".py",
   "mimetype": "text/x-python",
   "name": "python",
   "nbconvert_exporter": "python",
   "pygments_lexer": "ipython3",
   "version": "3.10.8"
  }
 },
 "nbformat": 4,
 "nbformat_minor": 5
}
