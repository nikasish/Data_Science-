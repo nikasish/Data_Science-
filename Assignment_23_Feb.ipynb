{
 "cells": [
  {
   "cell_type": "markdown",
   "id": "70cdd26e-8dcf-4a94-b60f-5e7298d56d7a",
   "metadata": {},
   "source": [
    "### Assignment 23 Feb "
   ]
  },
  {
   "cell_type": "markdown",
   "id": "819b2d0d-e6a1-422b-a574-352b9ad2c96f",
   "metadata": {},
   "source": [
    "### Q1"
   ]
  },
  {
   "cell_type": "code",
   "execution_count": 1,
   "id": "62118261-beb2-4b0d-b281-3a1dc0f7ced8",
   "metadata": {},
   "outputs": [],
   "source": [
    "import pandas as pd "
   ]
  },
  {
   "cell_type": "code",
   "execution_count": 2,
   "id": "524dff74-20cf-442d-8a95-9cb4f0925fba",
   "metadata": {},
   "outputs": [
    {
     "data": {
      "text/plain": [
       "0     4\n",
       "1     8\n",
       "2    15\n",
       "3    16\n",
       "4    23\n",
       "5    42\n",
       "dtype: int64"
      ]
     },
     "execution_count": 2,
     "metadata": {},
     "output_type": "execute_result"
    }
   ],
   "source": [
    "pandas_series_data = pd.Series( [4, 8, 15, 16, 23,42])\n",
    "pandas_series_data"
   ]
  },
  {
   "cell_type": "markdown",
   "id": "1e0d9b39-bb7e-4d34-88a3-b6306ac3a77e",
   "metadata": {},
   "source": [
    "### Q2"
   ]
  },
  {
   "cell_type": "code",
   "execution_count": 18,
   "id": "a1fb1d56-c4d5-459f-aff7-215cad42caa8",
   "metadata": {},
   "outputs": [
    {
     "data": {
      "text/plain": [
       "list"
      ]
     },
     "execution_count": 18,
     "metadata": {},
     "output_type": "execute_result"
    }
   ],
   "source": [
    "data = [1,2,3,4,5,6,7,8,9,10]\n",
    "type(data)"
   ]
  },
  {
   "cell_type": "code",
   "execution_count": 16,
   "id": "b873adde-9f67-4554-a384-b94d2bb17052",
   "metadata": {},
   "outputs": [
    {
     "data": {
      "text/plain": [
       "0     1\n",
       "1     2\n",
       "2     3\n",
       "3     4\n",
       "4     5\n",
       "5     6\n",
       "6     7\n",
       "7     8\n",
       "8     9\n",
       "9    10\n",
       "dtype: int64"
      ]
     },
     "execution_count": 16,
     "metadata": {},
     "output_type": "execute_result"
    }
   ],
   "source": [
    "series_data = pd.Series(data)\n",
    "series_data"
   ]
  },
  {
   "cell_type": "markdown",
   "id": "80f64a5a-d82d-4761-9bea-de817751b27f",
   "metadata": {},
   "source": [
    "### Q3"
   ]
  },
  {
   "cell_type": "code",
   "execution_count": 6,
   "id": "10251493-85ae-4dd5-80e2-18068f63f74e",
   "metadata": {},
   "outputs": [],
   "source": [
    "data = {\n",
    "    'Name': ['Alice', 'Bob', 'Charlie'],\n",
    "    'Age': [25, 30, 35],\n",
    "    'City': ['New York', 'London', 'Paris']\n",
    "}"
   ]
  },
  {
   "cell_type": "code",
   "execution_count": 7,
   "id": "08954ef4-bfdf-4311-8799-8e31a90ef596",
   "metadata": {},
   "outputs": [
    {
     "data": {
      "text/plain": [
       "{'Name': ['Alice', 'Bob', 'Charlie'],\n",
       " 'Age': [25, 30, 35],\n",
       " 'City': ['New York', 'London', 'Paris']}"
      ]
     },
     "execution_count": 7,
     "metadata": {},
     "output_type": "execute_result"
    }
   ],
   "source": []
  },
  {
   "cell_type": "code",
   "execution_count": 8,
   "id": "88cad161-500f-407e-974f-ce6515a56451",
   "metadata": {},
   "outputs": [],
   "source": [
    "df = pd.DataFrame(data)"
   ]
  },
  {
   "cell_type": "code",
   "execution_count": 9,
   "id": "4a16bba7-bd7c-40ef-b346-f1a916645b97",
   "metadata": {},
   "outputs": [
    {
     "data": {
      "text/html": [
       "<div>\n",
       "<style scoped>\n",
       "    .dataframe tbody tr th:only-of-type {\n",
       "        vertical-align: middle;\n",
       "    }\n",
       "\n",
       "    .dataframe tbody tr th {\n",
       "        vertical-align: top;\n",
       "    }\n",
       "\n",
       "    .dataframe thead th {\n",
       "        text-align: right;\n",
       "    }\n",
       "</style>\n",
       "<table border=\"1\" class=\"dataframe\">\n",
       "  <thead>\n",
       "    <tr style=\"text-align: right;\">\n",
       "      <th></th>\n",
       "      <th>Name</th>\n",
       "      <th>Age</th>\n",
       "      <th>City</th>\n",
       "    </tr>\n",
       "  </thead>\n",
       "  <tbody>\n",
       "    <tr>\n",
       "      <th>0</th>\n",
       "      <td>Alice</td>\n",
       "      <td>25</td>\n",
       "      <td>New York</td>\n",
       "    </tr>\n",
       "    <tr>\n",
       "      <th>1</th>\n",
       "      <td>Bob</td>\n",
       "      <td>30</td>\n",
       "      <td>London</td>\n",
       "    </tr>\n",
       "    <tr>\n",
       "      <th>2</th>\n",
       "      <td>Charlie</td>\n",
       "      <td>35</td>\n",
       "      <td>Paris</td>\n",
       "    </tr>\n",
       "  </tbody>\n",
       "</table>\n",
       "</div>"
      ],
      "text/plain": [
       "      Name  Age      City\n",
       "0    Alice   25  New York\n",
       "1      Bob   30    London\n",
       "2  Charlie   35     Paris"
      ]
     },
     "execution_count": 9,
     "metadata": {},
     "output_type": "execute_result"
    }
   ],
   "source": [
    "df"
   ]
  },
  {
   "cell_type": "markdown",
   "id": "cb3416ab-e2f5-454e-8caf-47152cb089d6",
   "metadata": {},
   "source": [
    "### Q4"
   ]
  },
  {
   "cell_type": "markdown",
   "id": "21b2d682-d4c5-4b8d-88f2-b7cf00b0aeba",
   "metadata": {},
   "source": [
    "####  DataFrame is a two-dimensional array that have rows and columns. that can contain multiple type of datas and it is an object of python pandas. on the other hand series is an one dimensional array it can also have contain one types multiple data as well. "
   ]
  },
  {
   "cell_type": "markdown",
   "id": "9dced162-accf-45e2-abcb-e7cbbb6e644a",
   "metadata": {},
   "source": [
    "#### series contain one type of datas where is Dataframe contain multi types of data.  \n",
    "#### series size immutable where is Dataframe size is mutable. \n",
    "#### series data mutable where is Dataframe data also same. "
   ]
  },
  {
   "cell_type": "markdown",
   "id": "24bbcc36-e370-4247-b79a-14ebf9693bfc",
   "metadata": {},
   "source": [
    "### Example :- "
   ]
  },
  {
   "cell_type": "code",
   "execution_count": 11,
   "id": "2bab3f64-bb2c-49e4-867a-d2016c52deb6",
   "metadata": {},
   "outputs": [
    {
     "data": {
      "text/html": [
       "<div>\n",
       "<style scoped>\n",
       "    .dataframe tbody tr th:only-of-type {\n",
       "        vertical-align: middle;\n",
       "    }\n",
       "\n",
       "    .dataframe tbody tr th {\n",
       "        vertical-align: top;\n",
       "    }\n",
       "\n",
       "    .dataframe thead th {\n",
       "        text-align: right;\n",
       "    }\n",
       "</style>\n",
       "<table border=\"1\" class=\"dataframe\">\n",
       "  <thead>\n",
       "    <tr style=\"text-align: right;\">\n",
       "      <th></th>\n",
       "      <th>Name</th>\n",
       "      <th>Age</th>\n",
       "      <th>City</th>\n",
       "    </tr>\n",
       "  </thead>\n",
       "  <tbody>\n",
       "    <tr>\n",
       "      <th>0</th>\n",
       "      <td>Alice</td>\n",
       "      <td>25</td>\n",
       "      <td>New York</td>\n",
       "    </tr>\n",
       "    <tr>\n",
       "      <th>1</th>\n",
       "      <td>Bob</td>\n",
       "      <td>30</td>\n",
       "      <td>London</td>\n",
       "    </tr>\n",
       "    <tr>\n",
       "      <th>2</th>\n",
       "      <td>Charlie</td>\n",
       "      <td>35</td>\n",
       "      <td>Paris</td>\n",
       "    </tr>\n",
       "  </tbody>\n",
       "</table>\n",
       "</div>"
      ],
      "text/plain": [
       "      Name  Age      City\n",
       "0    Alice   25  New York\n",
       "1      Bob   30    London\n",
       "2  Charlie   35     Paris"
      ]
     },
     "execution_count": 11,
     "metadata": {},
     "output_type": "execute_result"
    }
   ],
   "source": [
    "df # Dataframe Data\n"
   ]
  },
  {
   "cell_type": "code",
   "execution_count": 13,
   "id": "181eabf2-29b9-4827-88f7-bcdc1ecde90d",
   "metadata": {},
   "outputs": [
    {
     "data": {
      "text/plain": [
       "0     4\n",
       "1     8\n",
       "2    15\n",
       "3    16\n",
       "4    23\n",
       "5    42\n",
       "dtype: int64"
      ]
     },
     "execution_count": 13,
     "metadata": {},
     "output_type": "execute_result"
    }
   ],
   "source": [
    "pandas_series_data ### series Data"
   ]
  },
  {
   "cell_type": "markdown",
   "id": "97ee9b6a-1716-41b9-9666-83d0a10ae558",
   "metadata": {},
   "source": [
    "### Q5"
   ]
  },
  {
   "cell_type": "markdown",
   "id": "a925a8a4-9714-4a57-a421-524b5656add7",
   "metadata": {},
   "source": [
    "#### len() :- is used to find the length of any DF or values etc\n",
    "#### tail() :- return the bottom 5 rows data from the DF\n",
    "#### describe() :- return the DF stastical information \n",
    "#### isnul() :- to check there is any null value or not \n",
    "#### head() :- return the top five datarows from DF\n",
    "#### apply() :- is used to set custom condition\n",
    "\n",
    "#### in pandas we have many more predefine function is the and it will be used as per the needed. "
   ]
  },
  {
   "cell_type": "markdown",
   "id": "f10a35c7-ec6b-4d82-945e-759fbbf59931",
   "metadata": {},
   "source": [
    "### Q6 "
   ]
  },
  {
   "cell_type": "code",
   "execution_count": 18,
   "id": "1764a02f-bcd2-4cbf-a886-583454d78bea",
   "metadata": {},
   "outputs": [],
   "source": [
    "header =  pd.Series(['name', 'address' , 'product' ])\n",
    "data1 = pd.Series(['akash' , 'mum' , 'iphone'])\n",
    "data2 = pd.Series(['ram' , 'del' , 'vivo'])\n",
    "data3 = pd.Series(['mukesh' , 'ban' , 'oppo'])"
   ]
  },
  {
   "cell_type": "code",
   "execution_count": 19,
   "id": "cdae1728-fcbe-4010-b299-337f020b468a",
   "metadata": {},
   "outputs": [
    {
     "data": {
      "text/html": [
       "<div>\n",
       "<style scoped>\n",
       "    .dataframe tbody tr th:only-of-type {\n",
       "        vertical-align: middle;\n",
       "    }\n",
       "\n",
       "    .dataframe tbody tr th {\n",
       "        vertical-align: top;\n",
       "    }\n",
       "\n",
       "    .dataframe thead th {\n",
       "        text-align: right;\n",
       "    }\n",
       "</style>\n",
       "<table border=\"1\" class=\"dataframe\">\n",
       "  <thead>\n",
       "    <tr style=\"text-align: right;\">\n",
       "      <th></th>\n",
       "      <th>0</th>\n",
       "      <th>1</th>\n",
       "      <th>2</th>\n",
       "    </tr>\n",
       "  </thead>\n",
       "  <tbody>\n",
       "    <tr>\n",
       "      <th>0</th>\n",
       "      <td>name</td>\n",
       "      <td>address</td>\n",
       "      <td>product</td>\n",
       "    </tr>\n",
       "    <tr>\n",
       "      <th>1</th>\n",
       "      <td>akash</td>\n",
       "      <td>mum</td>\n",
       "      <td>iphone</td>\n",
       "    </tr>\n",
       "    <tr>\n",
       "      <th>2</th>\n",
       "      <td>ram</td>\n",
       "      <td>del</td>\n",
       "      <td>vivo</td>\n",
       "    </tr>\n",
       "    <tr>\n",
       "      <th>3</th>\n",
       "      <td>mukesh</td>\n",
       "      <td>ban</td>\n",
       "      <td>oppo</td>\n",
       "    </tr>\n",
       "  </tbody>\n",
       "</table>\n",
       "</div>"
      ],
      "text/plain": [
       "        0        1        2\n",
       "0    name  address  product\n",
       "1   akash      mum   iphone\n",
       "2     ram      del     vivo\n",
       "3  mukesh      ban     oppo"
      ]
     },
     "execution_count": 19,
     "metadata": {},
     "output_type": "execute_result"
    }
   ],
   "source": [
    " pd.DataFrame([header,data1,data2, data3])"
   ]
  },
  {
   "cell_type": "code",
   "execution_count": null,
   "id": "6460097a-0c77-4067-bed0-8f3d00b37645",
   "metadata": {},
   "outputs": [],
   "source": []
  }
 ],
 "metadata": {
  "kernelspec": {
   "display_name": "Python 3 (ipykernel)",
   "language": "python",
   "name": "python3"
  },
  "language_info": {
   "codemirror_mode": {
    "name": "ipython",
    "version": 3
   },
   "file_extension": ".py",
   "mimetype": "text/x-python",
   "name": "python",
   "nbconvert_exporter": "python",
   "pygments_lexer": "ipython3",
   "version": "3.10.8"
  }
 },
 "nbformat": 4,
 "nbformat_minor": 5
}
