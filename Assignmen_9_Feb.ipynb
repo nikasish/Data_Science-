{
 "cells": [
  {
   "cell_type": "markdown",
   "id": "86d85566-6d37-49d5-8499-1620365eb585",
   "metadata": {},
   "source": [
    "### Assignment 9 Feb"
   ]
  },
  {
   "cell_type": "markdown",
   "id": "23d52528-a1d8-47f4-8160-15dbeec7e7e2",
   "metadata": {},
   "source": [
    "### Q1 "
   ]
  },
  {
   "cell_type": "code",
   "execution_count": 111,
   "id": "dc86acc0-50f0-4c9e-89b1-aa109a822fab",
   "metadata": {},
   "outputs": [],
   "source": [
    "class vehicle:\n",
    "    def __init__ (self, name_of_vehicle, max_speed , average_of_vehicle):\n",
    "        self.name_of_vehicle = name_of_vehicle\n",
    "        self.max_speed = max_speed\n",
    "        self.average_of_vehicle = average_of_vehicle\n",
    "        "
   ]
  },
  {
   "cell_type": "markdown",
   "id": "3f142d75-bc44-4910-86b0-e6fe536e10e6",
   "metadata": {},
   "source": [
    "### Q2"
   ]
  },
  {
   "cell_type": "code",
   "execution_count": 125,
   "id": "def497f4-f3f0-4344-9084-b625fbcf3003",
   "metadata": {},
   "outputs": [],
   "source": [
    "class car(vehicle):\n",
    "    def seating_capacity (self, capacity):\n",
    "        self.capacity = capacity\n",
    "        return f\" Name of the vehicle is --> '{self.name_of_vehicle}' and his seating_capacity is --> '{self.capacity}' \""
   ]
  },
  {
   "cell_type": "code",
   "execution_count": 126,
   "id": "aeb35735-087e-4d65-beb7-b7f3ce847d4f",
   "metadata": {},
   "outputs": [
    {
     "data": {
      "text/plain": [
       "\" Name of the vehicle is --> 'THAR' and his seating_capacity is --> '8' \""
      ]
     },
     "execution_count": 126,
     "metadata": {},
     "output_type": "execute_result"
    }
   ],
   "source": [
    "aa = car('THAR', 50, 20,)\n",
    "aa.seating_capacity(8)"
   ]
  },
  {
   "cell_type": "markdown",
   "id": "8c8761b8-2189-4fde-8544-2c3f0ce18528",
   "metadata": {},
   "source": [
    "### Q3"
   ]
  },
  {
   "cell_type": "markdown",
   "id": "7ef16896-d37f-463a-bdc3-8ed3c7f3e2c4",
   "metadata": {},
   "source": [
    "#### Multiple inheritance is type of heritance that can allow us to inherit the multiple classes and their attributes, functions, properties etc in a single class. "
   ]
  },
  {
   "cell_type": "markdown",
   "id": "835117e3-b63e-427e-ae00-c7d96422b488",
   "metadata": {},
   "source": [
    "#### Example :- "
   ]
  },
  {
   "cell_type": "code",
   "execution_count": 6,
   "id": "89ac10e7-22cc-43fe-bdf6-815c16dd3aee",
   "metadata": {},
   "outputs": [],
   "source": [
    "class class1():\n",
    "    def returned_data(self):\n",
    "        return 'this is first class'"
   ]
  },
  {
   "cell_type": "code",
   "execution_count": 9,
   "id": "426ac3ea-b794-430e-80ce-1cb9dd47ed0c",
   "metadata": {},
   "outputs": [],
   "source": [
    "class class2(class1):\n",
    "    def returned_data2(self):\n",
    "        return 'this is second class'"
   ]
  },
  {
   "cell_type": "code",
   "execution_count": 10,
   "id": "19ae42ec-9d18-41e6-ba35-3188a58594d3",
   "metadata": {},
   "outputs": [],
   "source": [
    "class class3(class2):\n",
    "    pass"
   ]
  },
  {
   "cell_type": "code",
   "execution_count": 12,
   "id": "275223cf-21f0-4744-901a-e94b75cf69a1",
   "metadata": {},
   "outputs": [
    {
     "data": {
      "text/plain": [
       "'this is second class'"
      ]
     },
     "execution_count": 12,
     "metadata": {},
     "output_type": "execute_result"
    }
   ],
   "source": [
    "inherit = class3()\n",
    "inherit.returned_data2()"
   ]
  },
  {
   "cell_type": "markdown",
   "id": "a5199ee5-aa4f-43e3-966f-1b17d8c11b96",
   "metadata": {},
   "source": [
    "### Q4"
   ]
  },
  {
   "cell_type": "markdown",
   "id": "568c8ce9-5248-438b-9732-cfb28b3b3203",
   "metadata": {},
   "source": [
    "#### getter and setter is function in python its allow us to use or access the private or protected data/variable in a class:"
   ]
  },
  {
   "cell_type": "markdown",
   "id": "d2bf05f5-ab74-416a-96b8-1fdefcb0bd8b",
   "metadata": {},
   "source": [
    "### Example :- "
   ]
  },
  {
   "cell_type": "code",
   "execution_count": 2,
   "id": "52a6e036-cd93-420e-aae6-0dcc8159e938",
   "metadata": {},
   "outputs": [],
   "source": [
    "class student:\n",
    "    \n",
    "    def __init__(self, course, price):\n",
    "        self.course = course\n",
    "        self._price = price\n",
    "    @property \n",
    "    def get_data(self):\n",
    "        return self._price\n",
    "    \n",
    "    @get_data.setter\n",
    "    def set_data(self, new_price):\n",
    "        self._price = new_price"
   ]
  },
  {
   "cell_type": "markdown",
   "id": "62c78b4a-6e08-4817-994a-46e69e6b5e30",
   "metadata": {},
   "source": [
    "### Q5"
   ]
  },
  {
   "cell_type": "markdown",
   "id": "8762076b-85a4-4eb3-8034-38755696bba0",
   "metadata": {},
   "source": [
    "#### Method Overriding allows us to change the implementation of a function in the child class which is defined in the parent class ans it an opps concept. in python we can achive method overriding using polymorhism as well "
   ]
  },
  {
   "cell_type": "code",
   "execution_count": 21,
   "id": "2d9bdeb0-f595-4588-9c89-3f261a398d39",
   "metadata": {},
   "outputs": [],
   "source": [
    "class a :\n",
    "    def class1(self):\n",
    "        print(\"from a class\")"
   ]
  },
  {
   "cell_type": "code",
   "execution_count": 33,
   "id": "4e02767a-5a2c-4854-8119-b9e2c1cd45e9",
   "metadata": {},
   "outputs": [],
   "source": [
    "class b (a):\n",
    "    def class1(self):\n",
    "        super().class1()\n",
    "        print(\"from b class\")"
   ]
  },
  {
   "cell_type": "code",
   "execution_count": 34,
   "id": "e828440a-42be-4f09-a068-7180ecbf4132",
   "metadata": {},
   "outputs": [],
   "source": [
    "obj = b()"
   ]
  },
  {
   "cell_type": "code",
   "execution_count": 35,
   "id": "b109e7cd-3434-48e2-892c-f09e77c842e7",
   "metadata": {},
   "outputs": [
    {
     "name": "stdout",
     "output_type": "stream",
     "text": [
      "from a class\n",
      "from b class\n"
     ]
    }
   ],
   "source": [
    "obj.class1()"
   ]
  },
  {
   "cell_type": "code",
   "execution_count": null,
   "id": "e515aa8c-7b06-47f7-8ef2-c5a0fcd0915b",
   "metadata": {},
   "outputs": [],
   "source": []
  }
 ],
 "metadata": {
  "kernelspec": {
   "display_name": "Python 3 (ipykernel)",
   "language": "python",
   "name": "python3"
  },
  "language_info": {
   "codemirror_mode": {
    "name": "ipython",
    "version": 3
   },
   "file_extension": ".py",
   "mimetype": "text/x-python",
   "name": "python",
   "nbconvert_exporter": "python",
   "pygments_lexer": "ipython3",
   "version": "3.10.8"
  }
 },
 "nbformat": 4,
 "nbformat_minor": 5
}
