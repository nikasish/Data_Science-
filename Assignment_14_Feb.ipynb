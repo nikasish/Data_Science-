{
 "cells": [
  {
   "cell_type": "markdown",
   "id": "39185fcb-a825-4303-8bda-994c3212be62",
   "metadata": {},
   "source": [
    "### Assignment 14 Feb "
   ]
  },
  {
   "cell_type": "markdown",
   "id": "8da50629-c118-4860-831f-31bc65b285e1",
   "metadata": {},
   "source": [
    "### Q1 "
   ]
  },
  {
   "cell_type": "markdown",
   "id": "6c8f8bd5-e6d1-4265-a750-1e909a47d519",
   "metadata": {},
   "source": [
    "#### Multithreading is a threading technique in Python programming which allow a cpu to execute multiple threats in a same time. \n",
    "\n",
    "#### Basically it is used to run the multiple programmes and functions at the same time. \n",
    "\n",
    "#### to import the threading module we can perform Multithreading"
   ]
  },
  {
   "cell_type": "markdown",
   "id": "c60ae5d5-838f-4dca-a38a-0fb76c49fddd",
   "metadata": {},
   "source": [
    "### Q2 "
   ]
  },
  {
   "cell_type": "markdown",
   "id": "7b72df14-010a-43ce-9477-1775ff747dd2",
   "metadata": {},
   "source": [
    "#### threading module provides several functions/methods to implement multithreading easily in python."
   ]
  },
  {
   "cell_type": "markdown",
   "id": "5dd80b67-f7ef-45ea-9ab4-df49e0be8421",
   "metadata": {},
   "source": [
    "### 1. activeCount() ::-- is specially used to see the output of active threads. using this we can see how many threads are active. "
   ]
  },
  {
   "cell_type": "code",
   "execution_count": 1,
   "id": "7347f8ef-daa8-48ba-a355-b903592522d6",
   "metadata": {},
   "outputs": [],
   "source": [
    "from threading import *"
   ]
  },
  {
   "cell_type": "code",
   "execution_count": 2,
   "id": "7ecdd054-bacb-4d64-9bf9-9294bba4be7d",
   "metadata": {},
   "outputs": [],
   "source": [
    "def abc():\n",
    "    print( active_count() )"
   ]
  },
  {
   "cell_type": "code",
   "execution_count": 3,
   "id": "4658a452-7f4e-46a7-b9d0-845c52f0624d",
   "metadata": {},
   "outputs": [
    {
     "name": "stdout",
     "output_type": "stream",
     "text": [
      "9\n"
     ]
    }
   ],
   "source": [
    "t1 = Thread( target=abc )\n",
    "t1.start()"
   ]
  },
  {
   "cell_type": "markdown",
   "id": "0235c7f0-2f84-4c7d-85c9-789a12a8a96f",
   "metadata": {},
   "source": [
    "### currentThread()  ::- is specially used to check how many current Thread are there. "
   ]
  },
  {
   "cell_type": "code",
   "execution_count": 2,
   "id": "1c42cf9b-6de8-46bc-80f9-338d56eeed27",
   "metadata": {},
   "outputs": [],
   "source": [
    "from threading import * "
   ]
  },
  {
   "cell_type": "code",
   "execution_count": 4,
   "id": "c246d98d-bf1a-4cb9-a971-57c6b40371e9",
   "metadata": {},
   "outputs": [
    {
     "name": "stdout",
     "output_type": "stream",
     "text": [
      "<Thread(Thread-5 (func1), started 139982754793024)>  Thread\n"
     ]
    }
   ],
   "source": [
    "def func1():\n",
    "    print(current_thread(), \" Thread\")\n",
    "    \n",
    "t1 = Thread(target=func1)\n",
    "\n",
    "t1.start()"
   ]
  },
  {
   "cell_type": "markdown",
   "id": "d2b6512b-facf-4dab-99c3-13db73e9ac92",
   "metadata": {},
   "source": [
    "### enumerate() ::- returns a list of all Thread objects currently alive."
   ]
  },
  {
   "cell_type": "code",
   "execution_count": 11,
   "id": "a4099be7-96c5-430c-be69-178b11428722",
   "metadata": {},
   "outputs": [],
   "source": [
    "import time\n",
    "def enu():\n",
    "        print( \" start thread \" )\n",
    "        time.sleep(5)\n",
    "        print( \" thread end \")"
   ]
  },
  {
   "cell_type": "code",
   "execution_count": 12,
   "id": "0a68208a-1d18-4d9c-8fc3-0fa899160801",
   "metadata": {},
   "outputs": [
    {
     "name": "stdout",
     "output_type": "stream",
     "text": [
      " start thread \n",
      " start thread \n",
      "<_MainThread(MainThread, started 139983385937728)>\n",
      "<Thread(IOPub, started daemon 139983315408448)>\n",
      "<Heartbeat(Heartbeat, started daemon 139983307015744)>\n",
      "<Thread(Thread-3 (_watch_pipe_fd), started daemon 139983281837632)>\n",
      "<Thread(Thread-4 (_watch_pipe_fd), started daemon 139983273444928)>\n",
      "<ControlThread(Control, started daemon 139983265052224)>\n",
      "<HistorySavingThread(IPythonHistorySavingThread, started 139982782068288)>\n",
      "<ParentPollerUnix(Thread-2, started daemon 139982773675584)>\n",
      "<Thread( THREAD 1 , started 139982754793024)>\n",
      "<Thread( THREAD 2 , started 139982740108864)>\n",
      " thread end \n",
      " thread end \n"
     ]
    }
   ],
   "source": [
    "t1 = Thread(target=enu, name = \" THREAD 1 \")\n",
    "t2 = Thread(target = enu , name = \" THREAD 2 \")\n",
    "\n",
    "t1.start()\n",
    "t2.start()\n",
    "\n",
    "l = enumerate()\n",
    "\n",
    "for i in l:\n",
    "    print(i)"
   ]
  },
  {
   "cell_type": "code",
   "execution_count": null,
   "id": "53079be5-519f-4ade-9419-8b5355a0c6a7",
   "metadata": {},
   "outputs": [],
   "source": []
  },
  {
   "cell_type": "markdown",
   "id": "a55cd1ff-753c-4e8b-b49e-4a467c5f84f0",
   "metadata": {},
   "source": [
    "### Q3 "
   ]
  },
  {
   "cell_type": "markdown",
   "id": "8650ef50-0dbd-4a14-93ed-82dda4ac8f41",
   "metadata": {},
   "source": [
    "### run() method is apecially used to run a particular function by default if you are not creating any function. "
   ]
  },
  {
   "cell_type": "code",
   "execution_count": 3,
   "id": "d88ed64b-17e4-487c-ad14-4e52e978af88",
   "metadata": {},
   "outputs": [
    {
     "name": "stdout",
     "output_type": "stream",
     "text": [
      " hello world \n"
     ]
    }
   ],
   "source": [
    "def run():\n",
    "    print(\" hello world \")\n",
    "    \n",
    "t1 = Thread(target=run, name=\" run functon \")\n",
    "t1.start()"
   ]
  },
  {
   "cell_type": "markdown",
   "id": "d281e113-80e3-497e-a979-fda7de768cbb",
   "metadata": {},
   "source": [
    "### start() ::- by using start method anyone can thread can be started  "
   ]
  },
  {
   "cell_type": "code",
   "execution_count": 2,
   "id": "93b7cac4-1c4f-4ab7-801c-6d56cf9f954f",
   "metadata": {},
   "outputs": [
    {
     "name": "stdout",
     "output_type": "stream",
     "text": [
      " Hello !!! \n"
     ]
    }
   ],
   "source": [
    "def abc ():\n",
    "    print ( \" Hello !!! \")\n",
    "    \n",
    "t1 = Thread(target=abc, name=\" thread 1\")\n",
    "t1.start()"
   ]
  },
  {
   "cell_type": "markdown",
   "id": "e85acc0c-2180-4af1-a742-c558d8ea83ab",
   "metadata": {},
   "source": [
    "### join() ::- this will block the current thread and it will execute after the previous assigned / targeted thread work completed. "
   ]
  },
  {
   "cell_type": "code",
   "execution_count": 4,
   "id": "acca8d4f-21d3-40ca-9b85-cb7916d2140f",
   "metadata": {},
   "outputs": [],
   "source": [
    "from threading import *\n",
    "import time"
   ]
  },
  {
   "cell_type": "code",
   "execution_count": 6,
   "id": "e4f745e6-2694-4d2a-be4a-802bce255a5e",
   "metadata": {},
   "outputs": [
    {
     "name": "stdout",
     "output_type": "stream",
     "text": [
      "0\n",
      "1\n",
      "2\n",
      "3\n",
      " hello world !!! \n",
      " hello world !!! \n",
      " hello world !!! \n",
      " hello world !!! \n"
     ]
    }
   ],
   "source": [
    "def jo():\n",
    "    for i in range(4):\n",
    "        print(i)\n",
    "        time.sleep(2)\n",
    "        \n",
    "t1 = Thread(target=jo)\n",
    "t1.start()\n",
    "\n",
    "t1.join()\n",
    "for i in range(4):\n",
    "    print(\" hello world !!! \")"
   ]
  },
  {
   "cell_type": "markdown",
   "id": "356b7127-f7e8-4f8d-afe9-12374f25ef39",
   "metadata": {},
   "source": [
    "### isAlive() ::-  Check any thred is active / alive or not and return the boolean value. "
   ]
  },
  {
   "cell_type": "code",
   "execution_count": 1,
   "id": "8bf1282a-165a-4956-90c7-52d0975ae03d",
   "metadata": {},
   "outputs": [],
   "source": [
    "from threading import *\n",
    "import time\n",
    "def abc():\n",
    "    print (\" main start \")\n",
    "    time.sleep(5)\n",
    "    print( \" main end \")"
   ]
  },
  {
   "cell_type": "code",
   "execution_count": 2,
   "id": "ebf4ff4e-9463-44cf-acb3-e7db696cbd4c",
   "metadata": {},
   "outputs": [
    {
     "name": "stdout",
     "output_type": "stream",
     "text": [
      " main start \n",
      " main start \n",
      "True\n",
      "True\n",
      " main end \n",
      " main end \n",
      "False\n",
      "False\n"
     ]
    }
   ],
   "source": [
    "t1 = Thread(target=abc, name = \" 1st \")\n",
    "t2 = Thread(target=abc, name=\"2nd\")\n",
    "\n",
    "t1.start()\n",
    "t2.start()\n",
    "print(t1.is_alive())\n",
    "print(t2.is_alive())\n",
    "time.sleep(5)\n",
    "print(t1.is_alive())\n",
    "print(t2.is_alive())\n"
   ]
  },
  {
   "cell_type": "code",
   "execution_count": null,
   "id": "f237da5b-18be-42cd-9380-f4d2362c94b7",
   "metadata": {},
   "outputs": [],
   "source": []
  },
  {
   "cell_type": "markdown",
   "id": "46073505-700b-4d00-852b-decb3d5b1dad",
   "metadata": {},
   "source": [
    "### Q4"
   ]
  },
  {
   "cell_type": "code",
   "execution_count": 68,
   "id": "3c8fd99b-9e57-4d5f-8af7-88fdbbf5317e",
   "metadata": {},
   "outputs": [],
   "source": [
    "from threading import *\n",
    "import time"
   ]
  },
  {
   "cell_type": "code",
   "execution_count": 69,
   "id": "d30e22b4-2768-494e-a738-750a191a5301",
   "metadata": {},
   "outputs": [],
   "source": [
    "def squre():\n",
    "    for i in range(6):\n",
    "        time.sleep(2)\n",
    "        print (\" Squre of \", { i+1 }, \" is -->> \",   (i+1) ** 2)\n",
    "\n",
    "def cube():\n",
    "    for i in range(6):\n",
    "        time.sleep(2)\n",
    "        print (\" Cube of \", { i+1 }, \" is -->> \",   (i+1) ** 3)"
   ]
  },
  {
   "cell_type": "code",
   "execution_count": 70,
   "id": "aa8ba5a5-c77e-48e8-8c4e-7588018a64d4",
   "metadata": {},
   "outputs": [
    {
     "name": "stdout",
     "output_type": "stream",
     "text": [
      " Squre of  {1}  is -->>  1\n",
      " Cube of  {1}  is -->>  1\n",
      " Squre of  {2}  is -->>  4\n",
      " Cube of  {2}  is -->>  8\n",
      " Squre of  {3}  is -->>  9\n",
      " Cube of  {3}  is -->>  27\n",
      " Squre of  {4}  is -->>  16\n",
      " Cube of  {4}  is -->>  64\n",
      " Cube of  {5}  is -->>  125\n",
      " Squre of  {5}  is -->>  25\n",
      " Cube of  {6}  is -->>  216\n",
      " Squre of  {6}  is -->>  36\n"
     ]
    }
   ],
   "source": [
    "t1 = Thread(target= squre)\n",
    "t2 = Thread(target=cube)\n",
    "t1.start()\n",
    "t2.start()"
   ]
  },
  {
   "cell_type": "code",
   "execution_count": null,
   "id": "39ed7d62-604b-4975-b455-136aa7e380ba",
   "metadata": {},
   "outputs": [],
   "source": []
  },
  {
   "cell_type": "markdown",
   "id": "51f3553d-5d9c-44e3-884d-6cabb363652c",
   "metadata": {},
   "source": [
    "### Q5 "
   ]
  },
  {
   "cell_type": "markdown",
   "id": "efb9a1e9-1693-45b8-9824-a619bf19a96f",
   "metadata": {},
   "source": [
    "### Advantage "
   ]
  },
  {
   "cell_type": "markdown",
   "id": "7abf65f5-d146-4bd2-b90b-2f0eb104e880",
   "metadata": {},
   "source": [
    "#### Enhanced performance by decreased development time\n",
    "#### Simplified and streamlined program coding\n",
    "#### Improvised GUI responsiveness\n",
    "#### Simultaneous and parallelized occurrence of tasks\n",
    "#### Better use of cache storage by utilization of resources\n",
    "#### Decreased cost of maintenance"
   ]
  },
  {
   "cell_type": "markdown",
   "id": "4ff3b719-c3b8-43b1-ba75-3417855c430a",
   "metadata": {},
   "source": [
    "### Disadvantage "
   ]
  },
  {
   "cell_type": "markdown",
   "id": "0d66996e-b17c-437d-8d8c-92aaf984108c",
   "metadata": {},
   "source": [
    "#### Complex debugging and testing processes\n",
    "#### Overhead switching of context\n",
    "#### Increased potential for deadlock occurrence\n",
    "#### Increased difficulty level in writing a program\n",
    "#### Unpredictable results"
   ]
  },
  {
   "cell_type": "code",
   "execution_count": null,
   "id": "4afdb3a8-60ff-44ea-9a94-b50a2de3c057",
   "metadata": {},
   "outputs": [],
   "source": []
  },
  {
   "cell_type": "markdown",
   "id": "4d11ef37-af0d-4965-b070-5669bddc939f",
   "metadata": {},
   "source": [
    "### Q6"
   ]
  },
  {
   "cell_type": "markdown",
   "id": "e6963afd-8831-4ecd-b899-dce54efc93c0",
   "metadata": {},
   "source": [
    "### Race Condition "
   ]
  },
  {
   "cell_type": "markdown",
   "id": "b21c9093-7601-4232-b852-1267c762bfb5",
   "metadata": {},
   "source": [
    "#### race it is a bug / error,  it will occur when we are trying to access one variable and want to update this variable or perform any multiple operation on it,  by one or more threads. thenrace condition will occur and get unrealiable results . "
   ]
  },
  {
   "cell_type": "code",
   "execution_count": 1,
   "id": "5d1ff630-ad23-48fd-b8de-f2e207b886a4",
   "metadata": {},
   "outputs": [],
   "source": [
    "from threading import * "
   ]
  },
  {
   "cell_type": "code",
   "execution_count": 65,
   "id": "80089491-c081-42ae-ace3-f68d8a0cbfeb",
   "metadata": {},
   "outputs": [
    {
     "name": "stdout",
     "output_type": "stream",
     "text": [
      "11\n",
      "9\n",
      "20\n"
     ]
    }
   ],
   "source": [
    "var = 10\n",
    "class aa:\n",
    "    def abc (v):\n",
    "        print( v + 1)\n",
    "\n",
    "    def abc1 (y):\n",
    "        print( y - 1)\n",
    "\n",
    "    def abc2(k):\n",
    "        print( k * 2)\n",
    "    \n",
    "t1 = Thread(target= abc(var))\n",
    "t2 = Thread(target= abc1(var))\n",
    "t3 = Thread(target = abc2(var))\n",
    "t1.start()\n",
    "t2.start()\n",
    "t3.start()\n",
    "\n"
   ]
  },
  {
   "cell_type": "code",
   "execution_count": null,
   "id": "e9831991-63a3-43aa-9486-fcd8a7fc0113",
   "metadata": {},
   "outputs": [],
   "source": []
  },
  {
   "cell_type": "markdown",
   "id": "9871c4e3-f0a8-4acd-8a9b-5a5dae6d6c0f",
   "metadata": {},
   "source": [
    "### Deadlock "
   ]
  },
  {
   "cell_type": "markdown",
   "id": "b7988cee-532f-4dd0-a893-208612f6a41f",
   "metadata": {},
   "source": [
    "#### when multiple is depend to each other condition it is called dead lock. like thread a is depended on thread b thread b is depend on thread c. this kind of condition is called deadlock "
   ]
  },
  {
   "cell_type": "code",
   "execution_count": null,
   "id": "e8053b5c-d4d2-47f0-b5f1-9ec758d92940",
   "metadata": {},
   "outputs": [],
   "source": []
  }
 ],
 "metadata": {
  "kernelspec": {
   "display_name": "Python 3 (ipykernel)",
   "language": "python",
   "name": "python3"
  },
  "language_info": {
   "codemirror_mode": {
    "name": "ipython",
    "version": 3
   },
   "file_extension": ".py",
   "mimetype": "text/x-python",
   "name": "python",
   "nbconvert_exporter": "python",
   "pygments_lexer": "ipython3",
   "version": "3.10.8"
  }
 },
 "nbformat": 4,
 "nbformat_minor": 5
}
