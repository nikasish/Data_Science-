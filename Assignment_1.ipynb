{
 "cells": [
  {
   "cell_type": "markdown",
   "id": "0aeb4784-0171-4205-988d-a462ffb14890",
   "metadata": {},
   "source": [
    "### Questoion no 1"
   ]
  },
  {
   "cell_type": "markdown",
   "id": "8397e0e5-b201-4507-8b0a-f218e66b3708",
   "metadata": {},
   "source": [
    "## While loop "
   ]
  },
  {
   "cell_type": "code",
   "execution_count": 2,
   "id": "139a86b9-5236-4a71-b21a-ad69a3bdc414",
   "metadata": {},
   "outputs": [],
   "source": [
    "i = 5"
   ]
  },
  {
   "cell_type": "code",
   "execution_count": 3,
   "id": "ca8b172c-90ee-46ca-9279-19ebb1fa033e",
   "metadata": {},
   "outputs": [
    {
     "name": "stdout",
     "output_type": "stream",
     "text": [
      " Welcome \n",
      " Welcome \n",
      " Welcome \n",
      " Welcome \n",
      " Welcome \n",
      " Welcome \n"
     ]
    }
   ],
   "source": [
    "while i>=0:\n",
    "    print ( \" Welcome \")\n",
    "    i = i-1"
   ]
  },
  {
   "cell_type": "markdown",
   "id": "8d1ab9f2-6457-4c93-9ce6-264f11f8f2b1",
   "metadata": {},
   "source": [
    "## For Loop "
   ]
  },
  {
   "cell_type": "code",
   "execution_count": 13,
   "id": "803fb2f8-a2b4-441c-b06a-2c69b4666427",
   "metadata": {},
   "outputs": [
    {
     "data": {
      "text/plain": [
       "[12, 14, 16, 17, 19, 21]"
      ]
     },
     "execution_count": 13,
     "metadata": {},
     "output_type": "execute_result"
    }
   ],
   "source": [
    "list = [12, 14, 16, 17, 19, 21] \n",
    "list"
   ]
  },
  {
   "cell_type": "code",
   "execution_count": 17,
   "id": "adabf614-5335-4139-b278-c4f3898899ce",
   "metadata": {},
   "outputs": [
    {
     "name": "stdout",
     "output_type": "stream",
     "text": [
      "12\n",
      "14\n",
      "16\n",
      "17\n",
      "19\n",
      "21\n"
     ]
    }
   ],
   "source": [
    "l2 = []\n",
    "for i in list:\n",
    "    print(i)"
   ]
  },
  {
   "cell_type": "markdown",
   "id": "3daef856-6845-4ebd-8b39-d36ad7fbff94",
   "metadata": {},
   "source": [
    "### Question no 2"
   ]
  },
  {
   "cell_type": "markdown",
   "id": "5b7e212c-9474-4053-9fce-6b5734205219",
   "metadata": {},
   "source": [
    "### Sum using while loop"
   ]
  },
  {
   "cell_type": "code",
   "execution_count": 7,
   "id": "42d2843b-3301-498d-9991-af5764029e70",
   "metadata": {},
   "outputs": [
    {
     "name": "stdout",
     "output_type": "stream",
     "text": [
      "55\n"
     ]
    }
   ],
   "source": [
    "n = 0\n",
    "Sum = 0\n",
    "while n<10:\n",
    "    # print(\"HI\")\n",
    "    n = n +1\n",
    "    Sum = Sum + n\n",
    "print(Sum)"
   ]
  },
  {
   "cell_type": "markdown",
   "id": "bd49e82b-9149-4228-aaff-b39f6a7e3d7b",
   "metadata": {},
   "source": [
    "### Product using while loop"
   ]
  },
  {
   "cell_type": "code",
   "execution_count": 9,
   "id": "e80ea3b0-55a4-4923-856a-8400aac61527",
   "metadata": {},
   "outputs": [
    {
     "name": "stdout",
     "output_type": "stream",
     "text": [
      "3628800\n"
     ]
    }
   ],
   "source": [
    "n = 0\n",
    "pro = 1\n",
    "while n<10:\n",
    "    # print(\"HI\")\n",
    "    n = n +1\n",
    "    pro = pro * n\n",
    "print(pro)"
   ]
  },
  {
   "cell_type": "markdown",
   "id": "93148a6e-5f56-4b47-8726-87adb3371f3a",
   "metadata": {},
   "source": [
    "### Sum Using For Loop "
   ]
  },
  {
   "cell_type": "code",
   "execution_count": null,
   "id": "e73d1ec7-001d-44ae-8c01-1fb83997f555",
   "metadata": {},
   "outputs": [],
   "source": [
    "sum = 0\n",
    "\n",
    "for i in range(1,11):\n",
    "    sum = sum + i\n",
    "print(sum)"
   ]
  },
  {
   "cell_type": "markdown",
   "id": "671a84c1-b536-473a-84af-fd56c45942b0",
   "metadata": {},
   "source": [
    "### Product Using For Loop "
   ]
  },
  {
   "cell_type": "code",
   "execution_count": 2,
   "id": "79d0ca6e-a1a3-4623-84dc-97c36bdb8448",
   "metadata": {},
   "outputs": [
    {
     "name": "stdout",
     "output_type": "stream",
     "text": [
      "3628800\n"
     ]
    }
   ],
   "source": [
    "pro = 1\n",
    "\n",
    "for i in range(1,11):\n",
    "    pro = pro * i\n",
    "print(pro )"
   ]
  },
  {
   "cell_type": "markdown",
   "id": "64d651ad-af71-4897-ae23-06453d856170",
   "metadata": {},
   "source": [
    "### Question no 3"
   ]
  },
  {
   "cell_type": "markdown",
   "id": "c15b53a0-c489-4ba0-9d56-7739fb20df9e",
   "metadata": {},
   "source": [
    " ### Electricty Bill Calculator"
   ]
  },
  {
   "cell_type": "code",
   "execution_count": 14,
   "id": "9764de7f-25c3-4cbb-aefb-7f6f487f9cb5",
   "metadata": {},
   "outputs": [
    {
     "name": "stdin",
     "output_type": "stream",
     "text": [
      "Enter Your Total consumed unit 310\n"
     ]
    },
    {
     "name": "stdout",
     "output_type": "stream",
     "text": [
      "2250.0\n"
     ]
    }
   ],
   "source": [
    "unit  = int(input(\"Enter Your Total consumed unit\"))\n",
    "\n",
    "if unit <= 100:\n",
    "    Total_bill = unit * 4.5\n",
    "if unit <= 200:\n",
    "    Total_bill = 100 * 4.5 + (unit - 100) * 6\n",
    "if unit <= 300:\n",
    "    Total_bill = 100 * 4.5 + 100 *6 + (unit - 200) * 10\n",
    "elif unit > 300:\n",
    "    Total_bill = 100 * 4.5 + 100 *6 + 100*10 + (unit - 300 ) * 20\n",
    "    \n",
    "print(Total_bill)"
   ]
  },
  {
   "cell_type": "markdown",
   "id": "f6799198-a1c7-4d87-96f0-d84ed8201b09",
   "metadata": {},
   "source": [
    "### Question no 4"
   ]
  },
  {
   "cell_type": "markdown",
   "id": "d91cc7c9-e8e9-40c3-a1cc-582992062c82",
   "metadata": {},
   "source": [
    "### list of numbers from 1 to 100. covert all in a qube and check is it divided by 4 and 5 "
   ]
  },
  {
   "cell_type": "markdown",
   "id": "fcc2b028-323f-48a4-baa5-5b407bf6844a",
   "metadata": {},
   "source": [
    "### Using for Loop "
   ]
  },
  {
   "cell_type": "code",
   "execution_count": 8,
   "id": "13289c99-286a-41a5-acbe-89767db0f3bd",
   "metadata": {},
   "outputs": [
    {
     "name": "stdout",
     "output_type": "stream",
     "text": [
      "[8, 64, 125, 216, 512, 1000, 1728, 2744, 3375, 4096, 5832, 8000, 10648, 13824, 15625, 17576, 21952, 27000, 32768, 39304, 42875, 46656, 54872, 64000, 74088, 85184, 91125, 97336, 110592, 125000, 140608, 157464, 166375, 175616, 195112, 216000, 238328, 262144, 274625, 287496, 314432, 343000, 373248, 405224, 421875, 438976, 474552, 512000, 551368, 592704, 614125, 636056, 681472, 729000, 778688, 830584, 857375, 884736, 941192, 1000000]\n"
     ]
    }
   ],
   "source": [
    "list1 = list(range(1,101))\n",
    "div_list = [] \n",
    "\n",
    "for i in list1:\n",
    "    qube = i*i*i\n",
    "    if qube%4==0 or qube%5==0:\n",
    "        div_list.append(qube)\n",
    "print(div_list)"
   ]
  },
  {
   "cell_type": "markdown",
   "id": "8d0cc4f9-0e4a-4ade-ab9b-7452673aa766",
   "metadata": {},
   "source": [
    "### Using While Loop "
   ]
  },
  {
   "cell_type": "code",
   "execution_count": 7,
   "id": "c718a33a-a8c7-4d0e-9171-7a796a7929c8",
   "metadata": {},
   "outputs": [
    {
     "name": "stdout",
     "output_type": "stream",
     "text": [
      "[8, 64, 125, 216, 512, 1000, 1728, 2744, 3375, 4096, 5832, 8000, 10648, 13824, 15625, 17576, 21952, 27000, 32768, 39304, 42875, 46656, 54872, 64000, 74088, 85184, 91125, 97336, 110592, 125000, 140608, 157464, 166375, 175616, 195112, 216000, 238328, 262144, 274625, 287496, 314432, 343000, 373248, 405224, 421875, 438976, 474552, 512000, 551368, 592704, 614125, 636056, 681472, 729000, 778688, 830584, 857375, 884736, 941192, 1000000]\n"
     ]
    }
   ],
   "source": [
    "list2 = list(range(1,101))\n",
    "i =0\n",
    "div_list = []\n",
    "\n",
    "while i < len(list2):\n",
    "    i = i+1\n",
    "    qube = i*i*i\n",
    "    if qube%4==0 or qube%5==0:\n",
    "        div_list.append(qube)\n",
    "print(div_list)"
   ]
  },
  {
   "cell_type": "markdown",
   "id": "f2539ec9-c74b-48e4-8407-a88b2c47729d",
   "metadata": {},
   "source": [
    "### Find the total no of vowel in the given string"
   ]
  },
  {
   "cell_type": "code",
   "execution_count": 1,
   "id": "cbe16de3-e6ed-40c5-ab34-a9ac421c02db",
   "metadata": {},
   "outputs": [
    {
     "name": "stdout",
     "output_type": "stream",
     "text": [
      "Total No of Vowel 12\n"
     ]
    }
   ],
   "source": [
    "string = \"I want to become a data scientist\"\n",
    "vowel = 0\n",
    "\n",
    "for i in string:\n",
    "    if i == 'a' or i == 'e' or i == 'i' or i == 'I' or i == 'o' or i == 'u':\n",
    "        vowel = vowel + 1\n",
    "print(\"Total No of Vowel\" , vowel)"
   ]
  },
  {
   "cell_type": "code",
   "execution_count": null,
   "id": "85fb5fee-2f80-4b5d-a48c-778c68933c3c",
   "metadata": {},
   "outputs": [],
   "source": []
  }
 ],
 "metadata": {
  "kernelspec": {
   "display_name": "Python 3 (ipykernel)",
   "language": "python",
   "name": "python3"
  },
  "language_info": {
   "codemirror_mode": {
    "name": "ipython",
    "version": 3
   },
   "file_extension": ".py",
   "mimetype": "text/x-python",
   "name": "python",
   "nbconvert_exporter": "python",
   "pygments_lexer": "ipython3",
   "version": "3.10.8"
  }
 },
 "nbformat": 4,
 "nbformat_minor": 5
}
