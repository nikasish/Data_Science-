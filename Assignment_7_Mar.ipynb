{
 "cells": [
  {
   "cell_type": "markdown",
   "id": "a5dec22d-687d-472d-8872-f45c4aca3aff",
   "metadata": {},
   "source": [
    "### Assignment 7th Mar "
   ]
  },
  {
   "cell_type": "markdown",
   "id": "a4d5f429-1178-45cc-92c4-f7cc4ae624e2",
   "metadata": {},
   "source": [
    "### Q1 "
   ]
  },
  {
   "cell_type": "markdown",
   "id": "7a2a5546-2888-424a-861f-d502c3db6dba",
   "metadata": {},
   "source": [
    "#### mean(), median(), mode()"
   ]
  },
  {
   "cell_type": "markdown",
   "id": "7d817971-7558-4b16-9e63-f5e533068078",
   "metadata": {},
   "source": [
    "### Q2 "
   ]
  },
  {
   "cell_type": "markdown",
   "id": "a475ab83-239f-4937-b5dd-d853076f2106",
   "metadata": {},
   "source": [
    "#### Mean is used to find the average of data, median is used to find the mid point or middle value of data, and mode is used to find or mesure the most occuring data. \n",
    "#### this all function is used to mesure the central of tendency with their formulas. "
   ]
  },
  {
   "cell_type": "markdown",
   "id": "451961ba-f6cd-488f-8d89-7f95cf49c444",
   "metadata": {},
   "source": [
    "### Q3"
   ]
  },
  {
   "cell_type": "code",
   "execution_count": 4,
   "id": "bd0d714f-be5f-4c56-8be5-dd9b934d3541",
   "metadata": {},
   "outputs": [],
   "source": [
    "import pandas as pd "
   ]
  },
  {
   "cell_type": "code",
   "execution_count": 6,
   "id": "3d6f1110-ff35-4aa8-8484-570e44de59cc",
   "metadata": {},
   "outputs": [],
   "source": [
    "df1 = pd.DataFrame({ 'val' : [178,177,176,177,178.2,178,175,179,180,175,178.9,176.2,177,172.5,178,176.5]})"
   ]
  },
  {
   "cell_type": "code",
   "execution_count": 7,
   "id": "ed5c3aae-3360-47a4-bb50-250f93b33de2",
   "metadata": {},
   "outputs": [
    {
     "data": {
      "text/plain": [
       "val    177.01875\n",
       "dtype: float64"
      ]
     },
     "execution_count": 7,
     "metadata": {},
     "output_type": "execute_result"
    }
   ],
   "source": [
    "df1.mean()"
   ]
  },
  {
   "cell_type": "code",
   "execution_count": 8,
   "id": "423b3b4c-9f49-4166-b698-e76c5009778a",
   "metadata": {},
   "outputs": [
    {
     "data": {
      "text/plain": [
       "val    177.0\n",
       "dtype: float64"
      ]
     },
     "execution_count": 8,
     "metadata": {},
     "output_type": "execute_result"
    }
   ],
   "source": [
    "df1.median()"
   ]
  },
  {
   "cell_type": "code",
   "execution_count": 9,
   "id": "1c60d8ce-cd57-44f2-9881-8811af9c5793",
   "metadata": {},
   "outputs": [
    {
     "data": {
      "text/html": [
       "<div>\n",
       "<style scoped>\n",
       "    .dataframe tbody tr th:only-of-type {\n",
       "        vertical-align: middle;\n",
       "    }\n",
       "\n",
       "    .dataframe tbody tr th {\n",
       "        vertical-align: top;\n",
       "    }\n",
       "\n",
       "    .dataframe thead th {\n",
       "        text-align: right;\n",
       "    }\n",
       "</style>\n",
       "<table border=\"1\" class=\"dataframe\">\n",
       "  <thead>\n",
       "    <tr style=\"text-align: right;\">\n",
       "      <th></th>\n",
       "      <th>val</th>\n",
       "    </tr>\n",
       "  </thead>\n",
       "  <tbody>\n",
       "    <tr>\n",
       "      <th>0</th>\n",
       "      <td>177.0</td>\n",
       "    </tr>\n",
       "    <tr>\n",
       "      <th>1</th>\n",
       "      <td>178.0</td>\n",
       "    </tr>\n",
       "  </tbody>\n",
       "</table>\n",
       "</div>"
      ],
      "text/plain": [
       "     val\n",
       "0  177.0\n",
       "1  178.0"
      ]
     },
     "execution_count": 9,
     "metadata": {},
     "output_type": "execute_result"
    }
   ],
   "source": [
    "df1.mode()"
   ]
  },
  {
   "cell_type": "markdown",
   "id": "614a7b24-7aa2-470a-95db-d5e1a23e4f01",
   "metadata": {},
   "source": [
    "### Q4 "
   ]
  },
  {
   "cell_type": "code",
   "execution_count": 10,
   "id": "ecb1cbeb-fa10-412e-84aa-42e4732f3671",
   "metadata": {},
   "outputs": [
    {
     "data": {
      "text/plain": [
       "val    1.847239\n",
       "dtype: float64"
      ]
     },
     "execution_count": 10,
     "metadata": {},
     "output_type": "execute_result"
    }
   ],
   "source": [
    "df1.std()"
   ]
  },
  {
   "cell_type": "code",
   "execution_count": null,
   "id": "f047bb4f-1517-487d-8093-324916906c27",
   "metadata": {},
   "outputs": [],
   "source": []
  },
  {
   "cell_type": "markdown",
   "id": "371c6871-3805-4bb4-af6f-1d8d457a5524",
   "metadata": {},
   "source": [
    "### Q5"
   ]
  },
  {
   "cell_type": "markdown",
   "id": "99eeea68-c528-4105-999a-ecab79cc6325",
   "metadata": {},
   "source": [
    "#### in {{Range}} we can find the largest number and smallest number and with the help of this we can the diffrance of them.\n",
    "#### [1,2,3,4,5]\n",
    "\n",
    "#### here we can determine the smallest no is 1 and the largest no is 5. if we want to find the diffrance between 1-5 we can find the result 4, so we can say the diffrance between both no is 4. "
   ]
  },
  {
   "cell_type": "markdown",
   "id": "0470ff21-ab27-451d-9b7b-70957016dafb",
   "metadata": {},
   "source": [
    "#### {{Variance}} is also help us to find the dispersion between from the mean value. \n",
    "\n",
    "#### a = [6,4] b = [9,1]\n",
    "\n",
    "#### min of both dataset is 5 \n",
    "\n",
    "#### now if i found the dispersion of (a) dataset, we can see the dataset value is very near to mean where is the (b) dataset dispersion is very far to the mean. "
   ]
  },
  {
   "cell_type": "markdown",
   "id": "2d553cdc-2067-4064-96d3-a29b5d3aefb8",
   "metadata": {},
   "source": [
    "#### {{Standard Deviation}} is used find the measure of dispersion of the dataset. std is also explain how data is spread / deviated from the mean. \n",
    "\n",
    "#### [1,2,3,4,5] here the mean is 3\n",
    "#### Q. explain 4 is occuring at what deviation?\n",
    "#### Ans :- 4 is occuring at the 1st right Standard Deviation. "
   ]
  },
  {
   "cell_type": "code",
   "execution_count": null,
   "id": "3e94c9e4-3f51-445b-9ac0-ba4f2bc27a93",
   "metadata": {},
   "outputs": [],
   "source": []
  },
  {
   "cell_type": "markdown",
   "id": "dbda130d-a67c-42ee-a011-6c98f53c0015",
   "metadata": {},
   "source": [
    "### Q5"
   ]
  },
  {
   "cell_type": "markdown",
   "id": "53f457f3-b07d-4371-b05c-8bd990b44a4d",
   "metadata": {},
   "source": [
    "#### Venn diagram is pictorial representation of sets. Venn diagram is a widely used diagram style that shows the logical relation between sets"
   ]
  },
  {
   "cell_type": "code",
   "execution_count": null,
   "id": "1c6dc694-18ae-46fe-908f-d8093d64d955",
   "metadata": {},
   "outputs": [],
   "source": []
  },
  {
   "cell_type": "markdown",
   "id": "f93e1988-6f0d-47fa-a900-53d1153c13a8",
   "metadata": {},
   "source": [
    "### Q6"
   ]
  },
  {
   "cell_type": "code",
   "execution_count": 13,
   "id": "e9ccdc9e-6e17-4288-84a5-d9779a2abc58",
   "metadata": {},
   "outputs": [],
   "source": [
    "import numpy as np "
   ]
  },
  {
   "cell_type": "code",
   "execution_count": 15,
   "id": "2e9c3122-cd34-4aa8-8188-2e3037281517",
   "metadata": {},
   "outputs": [],
   "source": [
    "A = {2,3,4,5,6,7}\n",
    "B = {0,2,6,8,10}"
   ]
  },
  {
   "cell_type": "code",
   "execution_count": 20,
   "id": "1c55dedf-a17f-4e8f-9a48-cdcccd9fd11e",
   "metadata": {},
   "outputs": [
    {
     "data": {
      "text/plain": [
       "{2, 6}"
      ]
     },
     "execution_count": 20,
     "metadata": {},
     "output_type": "execute_result"
    }
   ],
   "source": [
    "A.intersection(B)\n",
    "# here we can see the intersection are printed from the both sets. intersection is 2 and 6 where 2 and 6 is present in the both sets. "
   ]
  },
  {
   "cell_type": "code",
   "execution_count": 21,
   "id": "78482517-b9ea-4dcf-a005-efdff73bd724",
   "metadata": {},
   "outputs": [
    {
     "data": {
      "text/plain": [
       "{0, 2, 3, 4, 5, 6, 7, 8, 10}"
      ]
     },
     "execution_count": 21,
     "metadata": {},
     "output_type": "execute_result"
    }
   ],
   "source": [
    "A.union(B)\n",
    "# here we can see the union are printed from the both sets. union is combination of both sats values but value is not repeted. here all value are marged and printed.  "
   ]
  },
  {
   "cell_type": "code",
   "execution_count": null,
   "id": "a7768646-e542-4b7f-967c-70f37b978cc5",
   "metadata": {},
   "outputs": [],
   "source": []
  },
  {
   "cell_type": "markdown",
   "id": "d477f9a2-a108-46cc-88a9-7936cca0ed5d",
   "metadata": {},
   "source": [
    "### Q8 "
   ]
  },
  {
   "cell_type": "markdown",
   "id": "7b5357da-1679-4006-a224-d323606c7870",
   "metadata": {},
   "source": [
    "#### when mean median and mode are equal in a bell curve and it is a symmetrical curve we must understand that there is no skewnees is the dataset. we can say that this is a zero skewnees dataset. skewnees is two types positive and negative . "
   ]
  },
  {
   "cell_type": "code",
   "execution_count": null,
   "id": "21307673-580c-4a1b-b00b-ae6f346cb694",
   "metadata": {},
   "outputs": [],
   "source": []
  },
  {
   "cell_type": "markdown",
   "id": "bac7e4a6-7186-454e-a4ad-a9e88dfdf8a6",
   "metadata": {},
   "source": [
    "### Q9 "
   ]
  },
  {
   "cell_type": "markdown",
   "id": "69d3e4bd-8e32-451d-8547-c39064e75b3a",
   "metadata": {},
   "source": [
    "#### mean > median so the median position will be left "
   ]
  },
  {
   "cell_type": "code",
   "execution_count": null,
   "id": "0121abf6-0969-4c64-a2d3-b51fa58f858e",
   "metadata": {},
   "outputs": [],
   "source": []
  },
  {
   "cell_type": "markdown",
   "id": "0ac82576-3b0c-4381-b83c-fce8597934a9",
   "metadata": {},
   "source": [
    "### Q10 "
   ]
  },
  {
   "cell_type": "markdown",
   "id": "7f1a66b4-e05c-4df1-9095-b2be370eff68",
   "metadata": {},
   "source": [
    " #### covariance and correlation measure the relationship and the dependency between two variables. Covariance indicates the direction of the linear relationship between variables. Correlation measures both the strength and direction of the linear relationship between two variables.\n",
    " #### Correlation is a statistical measure that indicates how strongly two variables are related or depend on each other."
   ]
  },
  {
   "cell_type": "code",
   "execution_count": null,
   "id": "8546c8f7-aa8a-4b94-ae42-0afdaced9f71",
   "metadata": {},
   "outputs": [],
   "source": []
  },
  {
   "cell_type": "markdown",
   "id": "d7ed26e3-41fd-4b3f-9b7c-683d57d3c879",
   "metadata": {},
   "source": [
    "### Q11"
   ]
  },
  {
   "cell_type": "code",
   "execution_count": 2,
   "id": "8bed5f63-8745-4a0f-b609-a19c8cbb486f",
   "metadata": {},
   "outputs": [],
   "source": [
    "import pandas as pd "
   ]
  },
  {
   "cell_type": "code",
   "execution_count": 2,
   "id": "fc82a7e8-e043-4ade-99ae-2da31fe8d2f5",
   "metadata": {},
   "outputs": [
    {
     "data": {
      "text/html": [
       "<div>\n",
       "<style scoped>\n",
       "    .dataframe tbody tr th:only-of-type {\n",
       "        vertical-align: middle;\n",
       "    }\n",
       "\n",
       "    .dataframe tbody tr th {\n",
       "        vertical-align: top;\n",
       "    }\n",
       "\n",
       "    .dataframe thead th {\n",
       "        text-align: right;\n",
       "    }\n",
       "</style>\n",
       "<table border=\"1\" class=\"dataframe\">\n",
       "  <thead>\n",
       "    <tr style=\"text-align: right;\">\n",
       "      <th></th>\n",
       "      <th>Sample_data</th>\n",
       "    </tr>\n",
       "  </thead>\n",
       "  <tbody>\n",
       "    <tr>\n",
       "      <th>0</th>\n",
       "      <td>10</td>\n",
       "    </tr>\n",
       "    <tr>\n",
       "      <th>1</th>\n",
       "      <td>20</td>\n",
       "    </tr>\n",
       "    <tr>\n",
       "      <th>2</th>\n",
       "      <td>30</td>\n",
       "    </tr>\n",
       "    <tr>\n",
       "      <th>3</th>\n",
       "      <td>40</td>\n",
       "    </tr>\n",
       "    <tr>\n",
       "      <th>4</th>\n",
       "      <td>50</td>\n",
       "    </tr>\n",
       "  </tbody>\n",
       "</table>\n",
       "</div>"
      ],
      "text/plain": [
       "   Sample_data\n",
       "0           10\n",
       "1           20\n",
       "2           30\n",
       "3           40\n",
       "4           50"
      ]
     },
     "execution_count": 2,
     "metadata": {},
     "output_type": "execute_result"
    }
   ],
   "source": [
    "pd.DataFrame({'Sample_data' : [10,20,30,40,50]})"
   ]
  },
  {
   "cell_type": "markdown",
   "id": "e55ecd77-cd8d-4d9d-acdd-08cb055fd212",
   "metadata": {},
   "source": [
    "#### xbar = x of i / N\n",
    "#### means sum of all sample_data value and divide by the no of total sample value "
   ]
  },
  {
   "cell_type": "code",
   "execution_count": null,
   "id": "b4cd1b4c-cf95-4f77-a154-faf912b73590",
   "metadata": {},
   "outputs": [],
   "source": []
  },
  {
   "cell_type": "markdown",
   "id": "f90cfd46-1e54-4182-b606-0c63d00a1107",
   "metadata": {},
   "source": [
    "### Q12"
   ]
  },
  {
   "cell_type": "markdown",
   "id": "310be6e7-6ecf-4cd1-98e2-1d6cfd047ddd",
   "metadata": {},
   "source": [
    "#### for a normal distribution data the mean median mode will be the same or at the one place or cetral place. "
   ]
  },
  {
   "cell_type": "code",
   "execution_count": null,
   "id": "1af24109-05ea-4c1e-8b84-f5127975ede6",
   "metadata": {},
   "outputs": [],
   "source": []
  },
  {
   "cell_type": "markdown",
   "id": "19a56522-0ff7-4226-8881-2e984df7795e",
   "metadata": {},
   "source": [
    "### Q 13"
   ]
  },
  {
   "cell_type": "markdown",
   "id": "fe056173-33f6-44a7-a71d-671d4d565ab3",
   "metadata": {},
   "source": [
    "#### Covariance indicates the direction of the linear relationship between variables. Correlation measures both the strength and direction of the linear relationship between two variables."
   ]
  },
  {
   "cell_type": "code",
   "execution_count": null,
   "id": "7d77bdc8-9d70-449f-aace-d6b6c7710019",
   "metadata": {},
   "outputs": [],
   "source": []
  },
  {
   "cell_type": "markdown",
   "id": "ac2c3737-8d0c-43cf-a0e3-abc2cf6e2baf",
   "metadata": {},
   "source": [
    "### Q14 "
   ]
  },
  {
   "cell_type": "markdown",
   "id": "f087b0a4-bbc9-41de-82a7-ad5ad2ca1c33",
   "metadata": {},
   "source": [
    "#### if outliers is occur in the dataset it directly affted to the measure of measures of central tendency and measures of dispertion. \n",
    "#### like we are not getting proper range, std, mean, median, mode. \n",
    "#### if is not pridict properly about the dataset. "
   ]
  },
  {
   "cell_type": "code",
   "execution_count": 4,
   "id": "79432a40-fee9-431c-9c67-e42c8a47a88b",
   "metadata": {},
   "outputs": [],
   "source": [
    "da = pd.DataFrame({'salary' : [100,2000,3000,4000,8000]})"
   ]
  },
  {
   "cell_type": "code",
   "execution_count": 5,
   "id": "950363c7-9dbe-43da-be4e-ea7658e68536",
   "metadata": {},
   "outputs": [
    {
     "data": {
      "text/html": [
       "<div>\n",
       "<style scoped>\n",
       "    .dataframe tbody tr th:only-of-type {\n",
       "        vertical-align: middle;\n",
       "    }\n",
       "\n",
       "    .dataframe tbody tr th {\n",
       "        vertical-align: top;\n",
       "    }\n",
       "\n",
       "    .dataframe thead th {\n",
       "        text-align: right;\n",
       "    }\n",
       "</style>\n",
       "<table border=\"1\" class=\"dataframe\">\n",
       "  <thead>\n",
       "    <tr style=\"text-align: right;\">\n",
       "      <th></th>\n",
       "      <th>salary</th>\n",
       "    </tr>\n",
       "  </thead>\n",
       "  <tbody>\n",
       "    <tr>\n",
       "      <th>0</th>\n",
       "      <td>100</td>\n",
       "    </tr>\n",
       "    <tr>\n",
       "      <th>1</th>\n",
       "      <td>2000</td>\n",
       "    </tr>\n",
       "    <tr>\n",
       "      <th>2</th>\n",
       "      <td>3000</td>\n",
       "    </tr>\n",
       "    <tr>\n",
       "      <th>3</th>\n",
       "      <td>4000</td>\n",
       "    </tr>\n",
       "    <tr>\n",
       "      <th>4</th>\n",
       "      <td>8000</td>\n",
       "    </tr>\n",
       "  </tbody>\n",
       "</table>\n",
       "</div>"
      ],
      "text/plain": [
       "   salary\n",
       "0     100\n",
       "1    2000\n",
       "2    3000\n",
       "3    4000\n",
       "4    8000"
      ]
     },
     "execution_count": 5,
     "metadata": {},
     "output_type": "execute_result"
    }
   ],
   "source": [
    "da"
   ]
  },
  {
   "cell_type": "code",
   "execution_count": 6,
   "id": "61fbe61c-5611-48dc-a91f-84d876928e57",
   "metadata": {},
   "outputs": [
    {
     "data": {
      "text/plain": [
       "salary    3420.0\n",
       "dtype: float64"
      ]
     },
     "execution_count": 6,
     "metadata": {},
     "output_type": "execute_result"
    }
   ],
   "source": [
    "da.mean()\n",
    "# with outlier"
   ]
  },
  {
   "cell_type": "code",
   "execution_count": 11,
   "id": "9c67f1ec-db5d-49c7-8fe5-1a5cc00d1171",
   "metadata": {},
   "outputs": [
    {
     "data": {
      "text/plain": [
       "salary    3000.0\n",
       "dtype: float64"
      ]
     },
     "execution_count": 11,
     "metadata": {},
     "output_type": "execute_result"
    }
   ],
   "source": [
    "da.iloc[1: 4].mean()\n",
    "# without outlier mean "
   ]
  },
  {
   "cell_type": "markdown",
   "id": "b21e36ed-6f3c-4cbd-95ad-c1afa21dd1cf",
   "metadata": {},
   "source": [
    "### here we can see the outcome of mean is so far with outlier. so outlier is effcted our prediction. so we must have to remove the outlier for proper and actual prediction. "
   ]
  },
  {
   "cell_type": "markdown",
   "id": "61b299f7-c902-4335-a569-1559af12e204",
   "metadata": {},
   "source": [
    "#### here i am not explaining all the things i hope i am tryed to explain you the entire thing / concept. "
   ]
  },
  {
   "cell_type": "code",
   "execution_count": null,
   "id": "c4579177-5cb5-4df0-be37-dffe479ede9f",
   "metadata": {},
   "outputs": [],
   "source": []
  }
 ],
 "metadata": {
  "kernelspec": {
   "display_name": "Python 3 (ipykernel)",
   "language": "python",
   "name": "python3"
  },
  "language_info": {
   "codemirror_mode": {
    "name": "ipython",
    "version": 3
   },
   "file_extension": ".py",
   "mimetype": "text/x-python",
   "name": "python",
   "nbconvert_exporter": "python",
   "pygments_lexer": "ipython3",
   "version": "3.10.8"
  }
 },
 "nbformat": 4,
 "nbformat_minor": 5
}
