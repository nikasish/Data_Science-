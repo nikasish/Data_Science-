{
 "cells": [
  {
   "cell_type": "markdown",
   "id": "85fc8d79-654f-4601-aff7-4ce5fd57b69b",
   "metadata": {},
   "source": [
    "### Assignment 13 Feb"
   ]
  },
  {
   "cell_type": "markdown",
   "id": "a4126eea-107c-40c5-9874-02b630721a35",
   "metadata": {},
   "source": [
    "### Q1"
   ]
  },
  {
   "cell_type": "markdown",
   "id": "576643d5-156a-4b69-ba9c-a48eb684a471",
   "metadata": {},
   "source": [
    "#### Exception is a class that class have/contain many more exceptions to handle the exception in a python programme. exception is an user define exceptions / errors, to produce or show the exception message in a programme we have to create the exception in python programming. \n",
    "\n",
    "#### in a single ward we can say, To manage the error message in python or any other programming language we have to create the exceptions using exception class to show the actual problems of programme. "
   ]
  },
  {
   "cell_type": "code",
   "execution_count": 7,
   "id": "2166da49-29cb-4c40-bf4d-790c4679923b",
   "metadata": {},
   "outputs": [
    {
     "name": "stdout",
     "output_type": "stream",
     "text": [
      " This operation is not performe, because division operation is not possible by zero   -->>>  division by zero\n"
     ]
    }
   ],
   "source": [
    "try:\n",
    "    10/0\n",
    "except ZeroDivisionError as e: \n",
    "    print( \" This operation is not performe, because division operation is not possible by zero \", \" -->>> \",  e)"
   ]
  },
  {
   "cell_type": "code",
   "execution_count": null,
   "id": "945a2351-36eb-4dbf-89b1-5e9f71fbb0a5",
   "metadata": {},
   "outputs": [],
   "source": []
  },
  {
   "cell_type": "markdown",
   "id": "69126ba6-4000-4a44-81da-7ac82ddc5d93",
   "metadata": {},
   "source": [
    "### Q2"
   ]
  },
  {
   "cell_type": "code",
   "execution_count": 2,
   "id": "8c3c21ed-5ab2-447c-9115-c969973252af",
   "metadata": {},
   "outputs": [
    {
     "name": "stdout",
     "output_type": "stream",
     "text": [
      " BaseException\n",
      "... Exception\n",
      "...... TypeError\n",
      "......... FloatOperation\n",
      "......... MultipartConversionError\n",
      "...... StopAsyncIteration\n",
      "...... StopIteration\n",
      "...... ImportError\n",
      "......... ModuleNotFoundError\n",
      "......... ZipImportError\n",
      "...... OSError\n",
      "......... ConnectionError\n",
      "............ BrokenPipeError\n",
      "............ ConnectionAbortedError\n",
      "............ ConnectionRefusedError\n",
      "............ ConnectionResetError\n",
      "............... RemoteDisconnected\n",
      "......... BlockingIOError\n",
      "......... ChildProcessError\n",
      "......... FileExistsError\n",
      "......... FileNotFoundError\n",
      "......... IsADirectoryError\n",
      "......... NotADirectoryError\n",
      "......... InterruptedError\n",
      "............ InterruptedSystemCall\n",
      "......... PermissionError\n",
      "......... ProcessLookupError\n",
      "......... TimeoutError\n",
      "......... UnsupportedOperation\n",
      "......... itimer_error\n",
      "......... herror\n",
      "......... gaierror\n",
      "......... SSLError\n",
      "............ SSLCertVerificationError\n",
      "............ SSLZeroReturnError\n",
      "............ SSLWantWriteError\n",
      "............ SSLWantReadError\n",
      "............ SSLSyscallError\n",
      "............ SSLEOFError\n",
      "......... Error\n",
      "............ SameFileError\n",
      "......... SpecialFileError\n",
      "......... ExecError\n",
      "......... ReadError\n",
      "......... URLError\n",
      "............ HTTPError\n",
      "............ ContentTooShortError\n",
      "......... BadGzipFile\n",
      "...... EOFError\n",
      "......... IncompleteReadError\n",
      "...... RuntimeError\n",
      "......... RecursionError\n",
      "......... NotImplementedError\n",
      "............ ZMQVersionError\n",
      "............ StdinNotImplementedError\n",
      "......... _DeadlockError\n",
      "......... BrokenBarrierError\n",
      "......... BrokenExecutor\n",
      "............ BrokenThreadPool\n",
      "......... SendfileNotAvailableError\n",
      "......... ExtractionError\n",
      "......... VariableError\n",
      "...... NameError\n",
      "......... UnboundLocalError\n",
      "...... AttributeError\n",
      "......... FrozenInstanceError\n",
      "...... SyntaxError\n",
      "......... IndentationError\n",
      "............ TabError\n",
      "...... LookupError\n",
      "......... IndexError\n",
      "......... KeyError\n",
      "............ NoSuchKernel\n",
      "............ UnknownBackend\n",
      "......... CodecRegistryError\n",
      "...... ValueError\n",
      "......... UnicodeError\n",
      "............ UnicodeEncodeError\n",
      "............ UnicodeDecodeError\n",
      "............ UnicodeTranslateError\n",
      "......... UnsupportedOperation\n",
      "......... JSONDecodeError\n",
      "......... SSLCertVerificationError\n",
      "......... Error\n",
      "......... UnsupportedDigestmodError\n",
      "......... IllegalMonthError\n",
      "......... IllegalWeekdayError\n",
      "......... ParserError\n",
      "......... ClassNotFound\n",
      "......... ClipboardEmpty\n",
      "......... MessageDefect\n",
      "............ NoBoundaryInMultipartDefect\n",
      "............ StartBoundaryNotFoundDefect\n",
      "............ CloseBoundaryNotFoundDefect\n",
      "............ FirstHeaderLineIsContinuationDefect\n",
      "............ MisplacedEnvelopeHeaderDefect\n",
      "............ MissingHeaderBodySeparatorDefect\n",
      "............ MultipartInvariantViolationDefect\n",
      "............ InvalidMultipartContentTransferEncodingDefect\n",
      "............ UndecodableBytesDefect\n",
      "............ InvalidBase64PaddingDefect\n",
      "............ InvalidBase64CharactersDefect\n",
      "............ InvalidBase64LengthDefect\n",
      "............ HeaderDefect\n",
      "............... InvalidHeaderDefect\n",
      "............... HeaderMissingRequiredValue\n",
      "............... NonPrintableDefect\n",
      "............... ObsoleteHeaderDefect\n",
      "............... NonASCIILocalPartDefect\n",
      "............... InvalidDateDefect\n",
      "......... MacroToEdit\n",
      "......... InvalidFileException\n",
      "......... UnequalIterablesError\n",
      "......... InvalidVersion\n",
      "......... _InvalidELFFileHeader\n",
      "......... InvalidWheelFilename\n",
      "......... InvalidSdistFilename\n",
      "......... InvalidSpecifier\n",
      "......... InvalidMarker\n",
      "......... UndefinedComparison\n",
      "......... UndefinedEnvironmentName\n",
      "......... InvalidRequirement\n",
      "............ RequirementParseError\n",
      "......... InvalidVersion\n",
      "...... AssertionError\n",
      "...... ArithmeticError\n",
      "......... FloatingPointError\n",
      "......... OverflowError\n",
      "......... ZeroDivisionError\n",
      "............ DivisionByZero\n",
      "............ DivisionUndefined\n",
      "......... DecimalException\n",
      "............ Clamped\n",
      "............ Rounded\n",
      "............... Underflow\n",
      "............... Overflow\n",
      "............ Inexact\n",
      "............... Underflow\n",
      "............... Overflow\n",
      "............ Subnormal\n",
      "............... Underflow\n",
      "............ DivisionByZero\n",
      "............ FloatOperation\n",
      "............ InvalidOperation\n",
      "............... ConversionSyntax\n",
      "............... DivisionImpossible\n",
      "............... DivisionUndefined\n",
      "............... InvalidContext\n",
      "...... SystemError\n",
      "......... CodecRegistryError\n",
      "...... ReferenceError\n",
      "...... MemoryError\n",
      "...... BufferError\n",
      "...... Warning\n",
      "......... UserWarning\n",
      "............ GetPassWarning\n",
      "............ FormatterWarning\n",
      "......... EncodingWarning\n",
      "......... DeprecationWarning\n",
      "............ ProvisionalWarning\n",
      "......... PendingDeprecationWarning\n",
      "......... SyntaxWarning\n",
      "......... RuntimeWarning\n",
      "............ ProactorSelectorThreadWarning\n",
      "............ UnknownTimezoneWarning\n",
      "............ PEP440Warning\n",
      "......... FutureWarning\n",
      "............ ProvisionalCompleterWarning\n",
      "......... ImportWarning\n",
      "......... UnicodeWarning\n",
      "......... BytesWarning\n",
      "......... ResourceWarning\n",
      "......... DeprecatedTzFormatWarning\n",
      "......... PkgResourcesDeprecationWarning\n",
      "...... _OptionError\n",
      "...... _Error\n",
      "...... error\n",
      "...... Verbose\n",
      "...... Error\n",
      "...... SubprocessError\n",
      "......... CalledProcessError\n",
      "......... TimeoutExpired\n",
      "...... TokenError\n",
      "...... StopTokenizing\n",
      "...... ClassFoundException\n",
      "...... EndOfBlock\n",
      "...... TraitError\n",
      "...... Error\n",
      "...... Error\n",
      "......... CancelledError\n",
      "......... TimeoutError\n",
      "......... InvalidStateError\n",
      "...... _GiveupOnSendfile\n",
      "...... error\n",
      "...... Incomplete\n",
      "...... TimeoutError\n",
      "...... InvalidStateError\n",
      "...... LimitOverrunError\n",
      "...... QueueEmpty\n",
      "...... QueueFull\n",
      "...... Empty\n",
      "...... Full\n",
      "...... ArgumentError\n",
      "...... ZMQBaseError\n",
      "......... ZMQError\n",
      "............ ContextTerminated\n",
      "............ Again\n",
      "............ InterruptedSystemCall\n",
      "......... ZMQBindError\n",
      "......... NotDone\n",
      "...... PickleError\n",
      "......... PicklingError\n",
      "......... UnpicklingError\n",
      "...... _Stop\n",
      "...... ArgumentError\n",
      "...... ArgumentTypeError\n",
      "...... ConfigError\n",
      "......... ConfigLoaderError\n",
      "............ ArgumentError\n",
      "......... ConfigFileNotFound\n",
      "...... ConfigurableError\n",
      "......... MultipleInstanceError\n",
      "...... ApplicationError\n",
      "...... error\n",
      "...... TimeoutError\n",
      "...... error\n",
      "...... ReturnValueIgnoredError\n",
      "...... KeyReuseError\n",
      "...... UnknownKeyError\n",
      "...... LeakedCallbackError\n",
      "...... BadYieldError\n",
      "...... ReturnValueIgnoredError\n",
      "...... Return\n",
      "...... InvalidPortNumber\n",
      "...... error\n",
      "...... LZMAError\n",
      "...... RegistryError\n",
      "...... _GiveupOnFastCopy\n",
      "...... Error\n",
      "......... NoSectionError\n",
      "......... DuplicateSectionError\n",
      "......... DuplicateOptionError\n",
      "......... NoOptionError\n",
      "......... InterpolationError\n",
      "............ InterpolationMissingOptionError\n",
      "............ InterpolationSyntaxError\n",
      "............ InterpolationDepthError\n",
      "......... ParsingError\n",
      "............ MissingSectionHeaderError\n",
      "...... NoIPAddresses\n",
      "...... BadZipFile\n",
      "...... LargeZipFile\n",
      "...... BadEntryPoint\n",
      "...... NoSuchEntryPoint\n",
      "...... DuplicateKernelError\n",
      "...... ErrorDuringImport\n",
      "...... NotOneValueFound\n",
      "...... CannotEval\n",
      "...... OptionError\n",
      "...... BdbQuit\n",
      "...... Restart\n",
      "...... ExceptionPexpect\n",
      "......... EOF\n",
      "......... TIMEOUT\n",
      "...... PtyProcessError\n",
      "...... FindCmdError\n",
      "...... HomeDirError\n",
      "...... ProfileDirError\n",
      "...... IPythonCoreError\n",
      "......... TryNext\n",
      "......... UsageError\n",
      "......... StdinNotImplementedError\n",
      "...... InputRejected\n",
      "...... GetoptError\n",
      "...... ErrorToken\n",
      "...... PrefilterError\n",
      "...... AliasError\n",
      "......... InvalidAliasError\n",
      "...... Error\n",
      "......... InterfaceError\n",
      "......... DatabaseError\n",
      "............ InternalError\n",
      "............ OperationalError\n",
      "............ ProgrammingError\n",
      "............ IntegrityError\n",
      "............ DataError\n",
      "............ NotSupportedError\n",
      "...... Warning\n",
      "...... SpaceInInput\n",
      "...... DOMException\n",
      "......... IndexSizeErr\n",
      "......... DomstringSizeErr\n",
      "......... HierarchyRequestErr\n",
      "......... WrongDocumentErr\n",
      "......... InvalidCharacterErr\n",
      "......... NoDataAllowedErr\n",
      "......... NoModificationAllowedErr\n",
      "......... NotFoundErr\n",
      "......... NotSupportedErr\n",
      "......... InuseAttributeErr\n",
      "......... InvalidStateErr\n",
      "......... SyntaxErr\n",
      "......... InvalidModificationErr\n",
      "......... NamespaceErr\n",
      "......... InvalidAccessErr\n",
      "......... ValidationErr\n",
      "...... ValidationError\n",
      "...... EditReadOnlyBuffer\n",
      "...... _Retry\n",
      "...... InvalidLayoutError\n",
      "...... HeightIsUnknownError\n",
      "...... ParserSyntaxError\n",
      "...... InternalParseError\n",
      "...... _PositionUpdatingFinished\n",
      "...... SimpleGetItemNotFound\n",
      "...... UncaughtAttributeError\n",
      "...... HasNoContext\n",
      "...... ParamIssue\n",
      "...... _JediError\n",
      "......... InternalError\n",
      "......... WrongVersion\n",
      "......... RefactoringError\n",
      "...... OnErrorLeaf\n",
      "...... InvalidPythonEnvironment\n",
      "...... MessageError\n",
      "......... MessageParseError\n",
      "............ HeaderParseError\n",
      "............ BoundaryError\n",
      "......... MultipartConversionError\n",
      "......... CharsetError\n",
      "...... Error\n",
      "...... HTTPException\n",
      "......... NotConnected\n",
      "......... InvalidURL\n",
      "......... UnknownProtocol\n",
      "......... UnknownTransferEncoding\n",
      "......... UnimplementedFileMode\n",
      "......... IncompleteRead\n",
      "......... ImproperConnectionState\n",
      "............ CannotSendRequest\n",
      "............ CannotSendHeader\n",
      "............ ResponseNotReady\n",
      "......... BadStatusLine\n",
      "............ RemoteDisconnected\n",
      "......... LineTooLong\n",
      "...... InteractivelyDefined\n",
      "...... KillEmbedded\n",
      "...... Error\n",
      "......... NoSuchProcess\n",
      "............ ZombieProcess\n",
      "......... AccessDenied\n",
      "......... TimeoutExpired\n",
      "...... _Ipv6UnsupportedError\n",
      "...... QueueEmpty\n",
      "...... QueueFull\n",
      "...... DebuggerInitializationError\n",
      "...... ExpatError\n",
      "...... Error\n",
      "......... ProtocolError\n",
      "......... ResponseError\n",
      "......... Fault\n",
      "...... ParseBaseException\n",
      "......... ParseException\n",
      "......... ParseFatalException\n",
      "............ ParseSyntaxException\n",
      "...... RecursiveGrammarException\n",
      "...... ResolutionError\n",
      "......... VersionConflict\n",
      "............ ContextualVersionConflict\n",
      "......... DistributionNotFound\n",
      "......... UnknownExtra\n",
      "...... _Error\n",
      "...... UnableToResolveVariableException\n",
      "...... InvalidTypeInArgsException\n",
      "... GeneratorExit\n",
      "... SystemExit\n",
      "... KeyboardInterrupt\n",
      "... CancelledError\n",
      "... AbortThread\n"
     ]
    }
   ],
   "source": [
    "def classtree(cls, indent=0):\n",
    "    print ('.' * indent, cls.__name__)\n",
    "    for subcls in cls.__subclasses__():\n",
    "        classtree(subcls, indent + 3)\n",
    "\n",
    "classtree(BaseException)"
   ]
  },
  {
   "cell_type": "markdown",
   "id": "43a6d9e5-6779-4923-b526-1027a2fc2322",
   "metadata": {},
   "source": [
    "### Q3"
   ]
  },
  {
   "cell_type": "markdown",
   "id": "74cb6bf0-583c-436d-a64c-3e510eb025e3",
   "metadata": {},
   "source": [
    "#### when we are performing any mathematical operation or  numeric calculations in python programme we get some errors and this errors are called ArithmeticError."
   ]
  },
  {
   "cell_type": "markdown",
   "id": "bc0a1194-4e8e-4fe8-956a-311a4ec461b8",
   "metadata": {},
   "source": [
    "#### Example of Arithmetic Error"
   ]
  },
  {
   "cell_type": "markdown",
   "id": "c1e0c53d-93d9-455d-b776-4789a92a4c2e",
   "metadata": {},
   "source": [
    "### Divide by Zero Error "
   ]
  },
  {
   "cell_type": "code",
   "execution_count": 2,
   "id": "1ebdf605-6f98-4489-87bf-34e9b76a442c",
   "metadata": {},
   "outputs": [
    {
     "name": "stdout",
     "output_type": "stream",
     "text": [
      "division by zero  :  <class 'ZeroDivisionError'>\n"
     ]
    }
   ],
   "source": [
    "try:\n",
    "    10 / 0\n",
    "except ZeroDivisionError as z:\n",
    "    print(z , \" : \", z.__class__)"
   ]
  },
  {
   "cell_type": "markdown",
   "id": "d559e693-ad7a-49d5-98c8-21b84f61f3df",
   "metadata": {},
   "source": [
    "#### Example of OverflowError"
   ]
  },
  {
   "cell_type": "markdown",
   "id": "9bd4aecb-5f65-424e-a386-09322a5fa464",
   "metadata": {},
   "source": [
    "### OverflowError"
   ]
  },
  {
   "cell_type": "markdown",
   "id": "cbc33cb0-6f14-4e17-b0e8-80254dbad081",
   "metadata": {},
   "source": [
    "### An OverflowError exception is raised when an arithmetic operation exceeds the limits"
   ]
  },
  {
   "cell_type": "code",
   "execution_count": 2,
   "id": "e63ce9aa-6393-4e1e-af81-3ee9015c6ca9",
   "metadata": {},
   "outputs": [
    {
     "name": "stdout",
     "output_type": "stream",
     "text": [
      "(34, 'Numerical result out of range')  :  <class 'OverflowError'>\n"
     ]
    }
   ],
   "source": [
    "l = 5.0\n",
    "try:\n",
    "    for i in range(1,1000):\n",
    "        l = l**i\n",
    "except OverflowError as Ov:\n",
    "    print(Ov , \" : \", Ov.__class__)"
   ]
  },
  {
   "cell_type": "code",
   "execution_count": null,
   "id": "788fa8a7-e3fe-41a0-b358-2656b8cb651d",
   "metadata": {},
   "outputs": [],
   "source": []
  },
  {
   "cell_type": "markdown",
   "id": "776a0450-5802-416a-8010-0c9e27f55c51",
   "metadata": {},
   "source": [
    "### Q4 "
   ]
  },
  {
   "cell_type": "markdown",
   "id": "f1063e70-18c9-45b4-866e-dd1a0de8fbff",
   "metadata": {},
   "source": [
    "#### The LookupError exception in Python forms the base class for all exceptions that are raised when an index or a key is not found for a sequence or dictionary"
   ]
  },
  {
   "cell_type": "markdown",
   "id": "8a340b19-471c-4ba7-aeb1-81f7cfba3b74",
   "metadata": {},
   "source": [
    "### Example of KeyError"
   ]
  },
  {
   "cell_type": "markdown",
   "id": "a229ea9d-7193-4512-b293-4933f5f1c118",
   "metadata": {},
   "source": [
    "#### A KeyError exception is occured when you are trying to access an invalid key in a python dictionary"
   ]
  },
  {
   "cell_type": "code",
   "execution_count": 20,
   "id": "69f17f84-7799-4c41-a2c7-591879b73a6c",
   "metadata": {},
   "outputs": [
    {
     "name": "stdout",
     "output_type": "stream",
     "text": [
      " 2\n",
      " Key is not found \n"
     ]
    }
   ],
   "source": [
    "dict1 = {\n",
    "    \" Key 1\" : \" 1\",\n",
    "    \" Key 2\" : \" 2\",\n",
    "    \" Key 3\" : \" 3\"\n",
    "}\n",
    "try:\n",
    "    print (dict1[\" Key 2\"] )\n",
    "    print(dict1[\" Key 4\"])\n",
    "except KeyError:\n",
    "    print( ' Key is not found ')"
   ]
  },
  {
   "cell_type": "markdown",
   "id": "92d3da42-b68e-4bbf-af34-68a05977c5bc",
   "metadata": {},
   "source": [
    "#### Example of Index Error"
   ]
  },
  {
   "cell_type": "markdown",
   "id": "62a88437-5172-4bfa-8812-26f92450fa1c",
   "metadata": {},
   "source": [
    "#### index error is occured when we are trying too access an item at an invalid index. "
   ]
  },
  {
   "cell_type": "code",
   "execution_count": 12,
   "id": "904ea6e5-b259-4b61-87c7-0d64e952e992",
   "metadata": {},
   "outputs": [
    {
     "name": "stdout",
     "output_type": "stream",
     "text": [
      " Given Index Is Not Found \n"
     ]
    }
   ],
   "source": [
    "try:\n",
    "    l = [15, 20, 25, 30]\n",
    "    print(l[4])\n",
    "except IndexError:\n",
    "    print( \" Given Index Is Not Found \")\n",
    "    "
   ]
  },
  {
   "cell_type": "code",
   "execution_count": null,
   "id": "12d0b5f2-d39a-453e-b7c1-dc7f493c552f",
   "metadata": {},
   "outputs": [],
   "source": []
  },
  {
   "cell_type": "markdown",
   "id": "6a75aebb-fb1a-4216-8add-f253d9f0ef51",
   "metadata": {},
   "source": [
    "### Q5"
   ]
  },
  {
   "cell_type": "markdown",
   "id": "0bb08da3-3290-4f89-a8fa-af5b581d5d20",
   "metadata": {},
   "source": [
    "#### import error is occured when the spefic function can not be found "
   ]
  },
  {
   "cell_type": "code",
   "execution_count": 5,
   "id": "d6fa9643-02f5-4b2d-abe4-2b42711577cc",
   "metadata": {},
   "outputs": [
    {
     "name": "stdout",
     "output_type": "stream",
     "text": [
      " Cube is not define \n"
     ]
    }
   ],
   "source": [
    "try:\n",
    "    from math import cube\n",
    "    print(cube(125))\n",
    "    \n",
    "except ImportError:\n",
    "    print(\" Cube is not define \")\n",
    "# except Exception as e:\n",
    "    # print( e)"
   ]
  },
  {
   "cell_type": "markdown",
   "id": "66303f18-63c2-4cee-b95f-269e08ed819d",
   "metadata": {},
   "source": [
    "#### Module not found error is occured when any module can not be found "
   ]
  },
  {
   "cell_type": "code",
   "execution_count": 26,
   "id": "d604f42f-d5bf-4b50-9392-cbc8abb1ac03",
   "metadata": {},
   "outputs": [
    {
     "name": "stdout",
     "output_type": "stream",
     "text": [
      "No module named 'abcd'\n"
     ]
    }
   ],
   "source": [
    "try:\n",
    "    import abcd\n",
    "except Exception as e:\n",
    "    # print(\" { abcd } Module not Found\")\n",
    "    print(e)"
   ]
  },
  {
   "cell_type": "code",
   "execution_count": null,
   "id": "cc447352-238e-4d40-ad63-d09812c534d4",
   "metadata": {},
   "outputs": [],
   "source": []
  },
  {
   "cell_type": "markdown",
   "id": "be6a1899-0494-4d1b-9ba8-b8b2397c34de",
   "metadata": {},
   "source": [
    "### Q6 "
   ]
  },
  {
   "cell_type": "markdown",
   "id": "0e8d29b7-8c00-4bdd-86e1-04bfe9ab5711",
   "metadata": {},
   "source": [
    "#### use always a specific exception\n",
    "\n",
    "#### print always a proper message \n",
    "\n",
    "#### alwyas avoid to write a multiple exception handling \n",
    "\n",
    "#### always try to log your error\n",
    "\n",
    "### Document all the error \n",
    "#### cleanup all the resources"
   ]
  },
  {
   "cell_type": "code",
   "execution_count": null,
   "id": "4da6e771-49f8-457a-a78c-0fb9d181fcba",
   "metadata": {},
   "outputs": [],
   "source": []
  }
 ],
 "metadata": {
  "kernelspec": {
   "display_name": "Python 3 (ipykernel)",
   "language": "python",
   "name": "python3"
  },
  "language_info": {
   "codemirror_mode": {
    "name": "ipython",
    "version": 3
   },
   "file_extension": ".py",
   "mimetype": "text/x-python",
   "name": "python",
   "nbconvert_exporter": "python",
   "pygments_lexer": "ipython3",
   "version": "3.10.8"
  }
 },
 "nbformat": 4,
 "nbformat_minor": 5
}
