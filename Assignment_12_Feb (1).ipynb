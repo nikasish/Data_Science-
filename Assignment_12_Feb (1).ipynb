{
 "cells": [
  {
   "cell_type": "markdown",
   "id": "2e6bf8e5-8904-409d-a896-514556f1784e",
   "metadata": {},
   "source": [
    "### Assignment 12 Feb"
   ]
  },
  {
   "cell_type": "markdown",
   "id": "94745fa1-d187-47f2-bfd7-aed95919de7e",
   "metadata": {},
   "source": [
    "### Q1"
   ]
  },
  {
   "cell_type": "markdown",
   "id": "a154bf20-f99f-485a-b78e-dd55ae7e2d42",
   "metadata": {},
   "source": [
    "#### in python Exception is an error which is interrupted the normal execution flow of a programme, we can say when exception is occured the normal flow of a programme is being disrupts. \n",
    "\n",
    "#### exception is occured in the runtime of a programme, when the programme is executed and there is some illegal operation is there in a  programme in that time exception is occured. many more exception is available like, divide by zero, file not found etc.\n",
    "\n",
    "#### syntex error is an error it will occur when the programe is written by the programmer not following the rules to create the programme that error is called syntex error, we can say logic is correct but typeing and seplling is not correct means we are not following the rules to create a programme. many more syntex error is there like - EOF error, unmatched etc. "
   ]
  },
  {
   "cell_type": "markdown",
   "id": "04d14b9f-470e-4ac8-9a06-37bb6bb996b4",
   "metadata": {},
   "source": [
    "### Example of Exception "
   ]
  },
  {
   "cell_type": "code",
   "execution_count": 1,
   "id": "57067558-8410-4a89-b196-87faab32f170",
   "metadata": {},
   "outputs": [
    {
     "name": "stdin",
     "output_type": "stream",
     "text": [
      " Enter Number  10\n"
     ]
    },
    {
     "name": "stdout",
     "output_type": "stream",
     "text": [
      "division by zero\n"
     ]
    }
   ],
   "source": [
    "try :\n",
    "    val = int(input(\" Enter Number \"))\n",
    "    res = val/0\n",
    "    print(res)\n",
    "except Exception as e:\n",
    "    print(e)"
   ]
  },
  {
   "cell_type": "markdown",
   "id": "e27e216d-06dd-42bf-8c9d-fbf507809268",
   "metadata": {},
   "source": [
    "### Example of syntex error "
   ]
  },
  {
   "cell_type": "code",
   "execution_count": 8,
   "id": "274dd3c1-31ec-485b-9df1-a14099c15452",
   "metadata": {},
   "outputs": [
    {
     "ename": "NameError",
     "evalue": "name 'C' is not defined",
     "output_type": "error",
     "traceback": [
      "\u001b[0;31m---------------------------------------------------------------------------\u001b[0m",
      "\u001b[0;31mNameError\u001b[0m                                 Traceback (most recent call last)",
      "Cell \u001b[0;32mIn[8], line 5\u001b[0m\n\u001b[1;32m      2\u001b[0m b \u001b[38;5;241m=\u001b[39m \u001b[38;5;241m10\u001b[39m\n\u001b[1;32m      3\u001b[0m c \u001b[38;5;241m=\u001b[39m a\u001b[38;5;241m+\u001b[39mb\n\u001b[0;32m----> 5\u001b[0m \u001b[38;5;28mprint\u001b[39m(\u001b[43mC\u001b[49m)\n",
      "\u001b[0;31mNameError\u001b[0m: name 'C' is not defined"
     ]
    }
   ],
   "source": [
    "a = 5\n",
    "b = 10\n",
    "c = a+b\n",
    "\n",
    "print(C)"
   ]
  },
  {
   "cell_type": "code",
   "execution_count": null,
   "id": "1a00d325-7fc7-48dd-a90b-22dfd276abd9",
   "metadata": {},
   "outputs": [],
   "source": []
  },
  {
   "cell_type": "markdown",
   "id": "0c78c241-da68-4306-98d6-371727546353",
   "metadata": {},
   "source": [
    "### Q2 "
   ]
  },
  {
   "cell_type": "markdown",
   "id": "f8b96edc-f8a3-4c83-8d6e-a32922b6ebe5",
   "metadata": {},
   "source": [
    "#### in a certain case if the exception is not handeled by the programmer, in that time exception will occured, the interpreter will stop their execution when interpreter get error or exception in a spefic line. after that line the code will not run if exception is not handeled.  "
   ]
  },
  {
   "cell_type": "code",
   "execution_count": 5,
   "id": "859ba828-0e3b-4a35-8187-69f3e9467d50",
   "metadata": {},
   "outputs": [
    {
     "name": "stdout",
     "output_type": "stream",
     "text": [
      "division by zero\n"
     ]
    }
   ],
   "source": [
    "try:\n",
    "    a,b = 5,0\n",
    "    print(a/b)\n",
    "except Exception as e:\n",
    "    print(e)"
   ]
  },
  {
   "cell_type": "code",
   "execution_count": null,
   "id": "e9c60475-01b4-4397-86f3-7aa4b651599f",
   "metadata": {},
   "outputs": [],
   "source": []
  },
  {
   "cell_type": "markdown",
   "id": "84514b32-fd91-423a-a931-1ac004278c07",
   "metadata": {},
   "source": [
    "### Q3"
   ]
  },
  {
   "cell_type": "markdown",
   "id": "801a63af-a50b-4d38-aa40-14c3f4bdb54e",
   "metadata": {},
   "source": [
    "#### try and except Block are used to handle the exception in python programming. when some kind of errors is occured in a programme in the runtime we can solve this error by try and except block.\n",
    "\n",
    "### example are :- "
   ]
  },
  {
   "cell_type": "code",
   "execution_count": 4,
   "id": "2d3f88e7-d896-4e16-a314-39ad92578f14",
   "metadata": {},
   "outputs": [],
   "source": [
    "class error(Exception):\n",
    "    pass"
   ]
  },
  {
   "cell_type": "code",
   "execution_count": 5,
   "id": "36b489ef-e063-43a4-847e-8e0087c958c1",
   "metadata": {},
   "outputs": [
    {
     "name": "stdin",
     "output_type": "stream",
     "text": [
      " Enter Your Age  -1\n"
     ]
    },
    {
     "name": "stdout",
     "output_type": "stream",
     "text": [
      " Please Enter Valid Age, Your Age Should be Between 0 to 150\n"
     ]
    }
   ],
   "source": [
    "try:\n",
    "    age = int(input(\" Enter Your Age \"))\n",
    "    if age < 0 or age > 151:\n",
    "        raise error(\" Please Enter Valid Age, Your Age Should be Between 0 to 150\")\n",
    "    else:\n",
    "        print(age)\n",
    "except Exception as e :\n",
    "    print(e)"
   ]
  },
  {
   "cell_type": "code",
   "execution_count": null,
   "id": "78b0a5d3-1777-4db9-a1c8-124446291375",
   "metadata": {},
   "outputs": [],
   "source": []
  },
  {
   "cell_type": "markdown",
   "id": "557bdb03-8d2e-4053-a6da-006de1572347",
   "metadata": {},
   "source": [
    "### Q4 "
   ]
  },
  {
   "cell_type": "markdown",
   "id": "b3d9fd75-bec1-4770-a570-3f79dc013086",
   "metadata": {},
   "source": [
    "### try and else "
   ]
  },
  {
   "cell_type": "markdown",
   "id": "dfec91df-8ad6-4e1d-a404-1636231936f4",
   "metadata": {},
   "source": [
    "#### try and else  block are associated with eatch other. if try block will execute successfully then else block will be execute the same. "
   ]
  },
  {
   "cell_type": "code",
   "execution_count": 10,
   "id": "c53bb378-1fb2-4280-bebb-cce31e5f5587",
   "metadata": {},
   "outputs": [
    {
     "name": "stdout",
     "output_type": "stream",
     "text": [
      "15\n"
     ]
    }
   ],
   "source": [
    "try:\n",
    "    a,b = 5,10\n",
    "    c = a+b\n",
    "except Exception as e:\n",
    "    print(e)\n",
    "    \n",
    "else:\n",
    "    print(c)"
   ]
  },
  {
   "cell_type": "markdown",
   "id": "03ef7bfd-f6de-4432-b1f2-a449d4d53d64",
   "metadata": {},
   "source": [
    "### finally "
   ]
  },
  {
   "cell_type": "markdown",
   "id": "6b8e3141-ddf5-43ef-a18d-22219778f071",
   "metadata": {},
   "source": [
    "#### finally is a indepenent block it is not associated/depend  with any other. it is not waiting for the try, else, or except block execution or any kind of condition. in any condition finally block will execute. "
   ]
  },
  {
   "cell_type": "code",
   "execution_count": 13,
   "id": "d1974822-3bd7-49b0-af2e-115625fcc9e9",
   "metadata": {},
   "outputs": [
    {
     "name": "stdin",
     "output_type": "stream",
     "text": [
      " Enter Number -1\n"
     ]
    },
    {
     "name": "stdout",
     "output_type": "stream",
     "text": [
      " Number is Negative \n",
      " finally block is executed\n"
     ]
    }
   ],
   "source": [
    "try:\n",
    "    num = int(input(\" Enter Number\"))\n",
    "    if num < 0:\n",
    "        print(\" Number is Negative \")\n",
    "    else:\n",
    "        print(num)\n",
    "except Exception as e:\n",
    "    print(e)\n",
    "    \n",
    "finally:\n",
    "    print(\" finally block is executed\" )"
   ]
  },
  {
   "cell_type": "markdown",
   "id": "9c3602d6-d968-4f73-b4da-22427c323fe8",
   "metadata": {},
   "source": [
    "### raise"
   ]
  },
  {
   "cell_type": "markdown",
   "id": "83bca830-2f0e-4365-9d34-fd6a42c41910",
   "metadata": {},
   "source": [
    "#### raise is a keyword in python. it is used to define/pass the user define message. the main work of raise is through / show the exception message. when we handle the exception, we will pass the message by using raise keyword to show/highlight the custom message or user define message in any python programme. "
   ]
  },
  {
   "cell_type": "code",
   "execution_count": 14,
   "id": "389d7265-c9f5-45e8-8123-50ac5e338524",
   "metadata": {},
   "outputs": [],
   "source": [
    "class abc(Exception):\n",
    "    pass "
   ]
  },
  {
   "cell_type": "code",
   "execution_count": 16,
   "id": "55798ac2-3ef0-4ee6-849a-aa8e8b162216",
   "metadata": {},
   "outputs": [
    {
     "name": "stdin",
     "output_type": "stream",
     "text": [
      " Enter Number 10\n"
     ]
    },
    {
     "name": "stdout",
     "output_type": "stream",
     "text": [
      "10\n"
     ]
    }
   ],
   "source": [
    "try:\n",
    "    num = int(input(\" Enter Number\"))\n",
    "    if num < 0:\n",
    "        raise abc(\" Number is Negative \")\n",
    "    else:\n",
    "        print(num)\n",
    "except Exception as e:\n",
    "    print(e)"
   ]
  },
  {
   "cell_type": "markdown",
   "id": "145ccc3f-d12b-4c51-a1aa-4950b682102d",
   "metadata": {},
   "source": [
    "### Q5"
   ]
  },
  {
   "cell_type": "markdown",
   "id": "6e152e4a-addd-44ca-90ec-edc18821131f",
   "metadata": {},
   "source": [
    "#### custom exception is a  user define exception or error message. \n",
    "\n",
    "#### in python programme logic is correct and there is no syntex error but programmer thought maybe some error will occured in a certain case. like programmer define a programme to take input from the user, in that case programme tahke input for the user as negative so that there will no error in syntex basis or exception basis, then user define custom message or user define message. "
   ]
  },
  {
   "cell_type": "code",
   "execution_count": 26,
   "id": "bdbcc03b-cf39-4c3b-ab0b-0ef40e596aa5",
   "metadata": {},
   "outputs": [
    {
     "name": "stdin",
     "output_type": "stream",
     "text": [
      "Enter Your Age -1\n"
     ]
    },
    {
     "name": "stdout",
     "output_type": "stream",
     "text": [
      " Please Enter Valid age between 0 - 150\n"
     ]
    }
   ],
   "source": [
    "try:\n",
    "    age = int(input(\"Enter Your Age\" ))\n",
    "    if age < 0 or age > 151 :\n",
    "        print(\" Please Enter Valid age between 0 - 150\")\n",
    "    else:\n",
    "        print(age)\n",
    "except Exception as e:\n",
    "    print(e)"
   ]
  },
  {
   "cell_type": "code",
   "execution_count": null,
   "id": "83d0073c-b4d0-47da-875d-b681e8356a06",
   "metadata": {},
   "outputs": [],
   "source": []
  },
  {
   "cell_type": "markdown",
   "id": "a8188d19-c3d0-4ffc-9c25-ab3a512c9d9b",
   "metadata": {},
   "source": [
    "### Q6 "
   ]
  },
  {
   "cell_type": "code",
   "execution_count": 27,
   "id": "462fb850-514e-4421-8a8c-48161e38f76d",
   "metadata": {},
   "outputs": [],
   "source": [
    "class error(Exception):\n",
    "    def __init__(self, m):\n",
    "        self.m = m"
   ]
  },
  {
   "cell_type": "code",
   "execution_count": 33,
   "id": "49b7cdd2-8d29-4ccf-83fd-baf9b87bf54f",
   "metadata": {},
   "outputs": [],
   "source": [
    "def validate_name(name):\n",
    "    if len(name) == 8:\n",
    "        print (name)\n",
    "    else:\n",
    "        raise error (\" Your Name Charecter Should Be Grater Then 8 Character \")"
   ]
  },
  {
   "cell_type": "code",
   "execution_count": 38,
   "id": "167dea7e-8f63-4027-9adf-45391ff96507",
   "metadata": {},
   "outputs": [
    {
     "name": "stdin",
     "output_type": "stream",
     "text": [
      " Enter Your Name  nika\n"
     ]
    },
    {
     "name": "stdout",
     "output_type": "stream",
     "text": [
      " Your Name Charecter Should Be Grater Then 8 Character \n"
     ]
    }
   ],
   "source": [
    "try:\n",
    "    name = input(\" Enter Your Name \")\n",
    "    validate_name(name)\n",
    "except Exception as e:\n",
    "    print(e)"
   ]
  },
  {
   "cell_type": "code",
   "execution_count": null,
   "id": "fd226e8b-e68a-41d7-8cfb-096485c12e55",
   "metadata": {},
   "outputs": [],
   "source": []
  }
 ],
 "metadata": {
  "kernelspec": {
   "display_name": "Python 3 (ipykernel)",
   "language": "python",
   "name": "python3"
  },
  "language_info": {
   "codemirror_mode": {
    "name": "ipython",
    "version": 3
   },
   "file_extension": ".py",
   "mimetype": "text/x-python",
   "name": "python",
   "nbconvert_exporter": "python",
   "pygments_lexer": "ipython3",
   "version": "3.10.8"
  }
 },
 "nbformat": 4,
 "nbformat_minor": 5
}
