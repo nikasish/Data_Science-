{
 "cells": [
  {
   "cell_type": "markdown",
   "id": "443d1110-014b-4d0c-9fc1-48bdc0587e1c",
   "metadata": {},
   "source": [
    "### Assignment 10th Feb "
   ]
  },
  {
   "cell_type": "markdown",
   "id": "aca5b7a0-dd17-4d0f-8371-72097481143a",
   "metadata": {},
   "source": [
    "### Q1"
   ]
  },
  {
   "cell_type": "markdown",
   "id": "7bd6d16f-2a1f-4ef9-852a-d5402ef3e2b0",
   "metadata": {},
   "source": [
    "#### open() Function is used to open a file. there are the two mode to open a file. 1. open and 2. with open "
   ]
  },
  {
   "cell_type": "markdown",
   "id": "0934bf62-7091-4f7e-bce3-eda81051bff9",
   "metadata": {},
   "source": [
    "### Examples :-"
   ]
  },
  {
   "cell_type": "code",
   "execution_count": 3,
   "id": "dc40a9ec-b927-44b0-b01b-7d2f295ce239",
   "metadata": {},
   "outputs": [],
   "source": [
    "file = open('test.txt' , 'w') # File is opened by first mode"
   ]
  },
  {
   "cell_type": "code",
   "execution_count": 11,
   "id": "92491037-d058-4f47-a99a-912505f2597a",
   "metadata": {},
   "outputs": [],
   "source": [
    "with open('test.txt' , 'r' ) as file: # File is opened by second mode\n",
    "    file_output = file.read()"
   ]
  },
  {
   "cell_type": "code",
   "execution_count": null,
   "id": "8ea2abea-665d-4b8a-ba0b-404c351c6102",
   "metadata": {},
   "outputs": [],
   "source": []
  },
  {
   "cell_type": "markdown",
   "id": "308bbc3f-c299-47ed-9e39-b201f288b4b7",
   "metadata": {},
   "source": [
    "### Q2"
   ]
  },
  {
   "cell_type": "markdown",
   "id": "f7f0dd06-3853-43e6-b0a7-92e71e4289c9",
   "metadata": {},
   "source": [
    "#### close() function is used to close the file. it is important because when we have to open a file we must have to close the file, because of secure the unwanted / unnecessary operation in file from others. "
   ]
  },
  {
   "cell_type": "code",
   "execution_count": 12,
   "id": "a9566586-77a9-4ce8-809f-0ffcd1e76ba7",
   "metadata": {},
   "outputs": [],
   "source": [
    "file = open('test.txt' , 'r')"
   ]
  },
  {
   "cell_type": "code",
   "execution_count": 14,
   "id": "ab8bf919-de6b-409c-b780-26df28f56b74",
   "metadata": {},
   "outputs": [],
   "source": [
    "file.close() "
   ]
  },
  {
   "cell_type": "code",
   "execution_count": null,
   "id": "5af5f657-e079-4c60-ba64-aa2ad16bcfd9",
   "metadata": {},
   "outputs": [],
   "source": []
  },
  {
   "cell_type": "markdown",
   "id": "52a8d5f9-b97a-4ece-ab78-acb7bf7cc3e6",
   "metadata": {},
   "source": [
    "### Q3"
   ]
  },
  {
   "cell_type": "markdown",
   "id": "371abf3b-eb3b-4432-84ae-ce3fbedbbc32",
   "metadata": {},
   "source": [
    "### open a file with python programme"
   ]
  },
  {
   "cell_type": "code",
   "execution_count": 16,
   "id": "ef360cda-a605-4f97-96da-11819f141f11",
   "metadata": {},
   "outputs": [],
   "source": [
    "new_file = open('new_file.txt' ,  'w') "
   ]
  },
  {
   "cell_type": "code",
   "execution_count": 17,
   "id": "447d2d09-276f-4fe3-8e76-6f77e904657e",
   "metadata": {},
   "outputs": [
    {
     "data": {
      "text/plain": [
       "33"
      ]
     },
     "execution_count": 17,
     "metadata": {},
     "output_type": "execute_result"
    }
   ],
   "source": [
    "new_file.write('I want to become a Data Scientist')"
   ]
  },
  {
   "cell_type": "code",
   "execution_count": 18,
   "id": "7ff486bb-ecee-4758-95d7-f6a221201513",
   "metadata": {},
   "outputs": [],
   "source": [
    "new_file.close()"
   ]
  },
  {
   "cell_type": "markdown",
   "id": "b299dbed-4eb4-446f-b12c-4ddfc730abb4",
   "metadata": {},
   "source": [
    "### open the file with different mode and read the file content/data"
   ]
  },
  {
   "cell_type": "code",
   "execution_count": 21,
   "id": "6c967b39-8852-4960-a253-bd4a35370cc5",
   "metadata": {},
   "outputs": [],
   "source": [
    "with open (\"new_file.txt\" , 'r') as new_file :\n",
    "    new_file_obj = new_file.read()"
   ]
  },
  {
   "cell_type": "code",
   "execution_count": 22,
   "id": "92bca6e1-6bf1-461c-898f-fd446b88ea7b",
   "metadata": {},
   "outputs": [
    {
     "data": {
      "text/plain": [
       "'I want to become a Data Scientist'"
      ]
     },
     "execution_count": 22,
     "metadata": {},
     "output_type": "execute_result"
    }
   ],
   "source": [
    "new_file_obj"
   ]
  },
  {
   "cell_type": "code",
   "execution_count": null,
   "id": "cd5ad97d-1266-4641-a45e-f9fa7f5683b8",
   "metadata": {},
   "outputs": [],
   "source": []
  },
  {
   "cell_type": "markdown",
   "id": "b916728f-3f47-414c-83eb-92f093f44d91",
   "metadata": {},
   "source": [
    "### Q4"
   ]
  },
  {
   "cell_type": "markdown",
   "id": "16f01d52-ed06-4d4d-a4d3-1645b0a3d200",
   "metadata": {},
   "source": [
    "### read()"
   ]
  },
  {
   "cell_type": "markdown",
   "id": "b97fdfb5-02ec-4788-a869-a29c25e187df",
   "metadata": {},
   "source": [
    "#### read() function is used to read the content/data of a file"
   ]
  },
  {
   "cell_type": "code",
   "execution_count": 23,
   "id": "526e352a-e669-4679-8cd9-0b35e2b66c88",
   "metadata": {},
   "outputs": [],
   "source": [
    "file = open('new_file.txt' , 'r')"
   ]
  },
  {
   "cell_type": "code",
   "execution_count": 24,
   "id": "97b7c1b1-8392-4e92-9f94-4c844337418a",
   "metadata": {},
   "outputs": [
    {
     "data": {
      "text/plain": [
       "'I want to become a Data Scientist'"
      ]
     },
     "execution_count": 24,
     "metadata": {},
     "output_type": "execute_result"
    }
   ],
   "source": [
    "file.read()"
   ]
  },
  {
   "cell_type": "code",
   "execution_count": null,
   "id": "aed83c99-1ef6-4c26-9e3b-86c7ca1d69b0",
   "metadata": {},
   "outputs": [],
   "source": []
  },
  {
   "cell_type": "markdown",
   "id": "efc9c131-2259-4e76-ab66-4bb7be2b170c",
   "metadata": {},
   "source": [
    "### readline() "
   ]
  },
  {
   "cell_type": "markdown",
   "id": "9288060a-fd82-4845-a777-633bfb236f97",
   "metadata": {},
   "source": [
    "#### readline read the data line by line from the file and after the reading file pointer set end of the text or last index, so that we have to use seek method() to set the pointer at the begaining to read the line from the begaining we must have to set the pointer at first or 0th position to read the the lines of data. means whenever we have to use the readline function we must have to use the seek function to set the data pointer at the begaining, also we have to pass a argument to the given readline() function to set the bytes of data. means we can say that we can set how many lines we have to see by giving this arguent.  \n",
    "\n",
    "#### in a single word we can say readline() reads a single line from the file and returns it as a string. The next time you call readline(), it will return the next line in the file (if line is present)\n",
    "\n"
   ]
  },
  {
   "cell_type": "code",
   "execution_count": 26,
   "id": "3ba458e3-8e76-42b2-9b7b-c71a744ae1c4",
   "metadata": {},
   "outputs": [],
   "source": [
    "newfile1 = open ('new_file1.txt' , 'w')"
   ]
  },
  {
   "cell_type": "code",
   "execution_count": 27,
   "id": "dd7e828d-690f-40aa-bf61-a8d21d1d2f7c",
   "metadata": {},
   "outputs": [],
   "source": [
    "newfile1.writelines(' Hello World!! \\n Hello World2 \\n Hello World3 \\n')"
   ]
  },
  {
   "cell_type": "code",
   "execution_count": 28,
   "id": "3c024a0f-5826-4d7b-82e0-d984b9436bbe",
   "metadata": {},
   "outputs": [],
   "source": [
    "newfile1.close()"
   ]
  },
  {
   "cell_type": "code",
   "execution_count": 29,
   "id": "32c3f8f4-b983-430b-aac7-60345ed246ab",
   "metadata": {},
   "outputs": [],
   "source": [
    "with open ('new_file1.txt' , 'r' ) as newfile1:\n",
    "    line = newfile1.readline()\n",
    "    line1 = newfile1.readline()"
   ]
  },
  {
   "cell_type": "code",
   "execution_count": 30,
   "id": "81ec5aef-9cbf-4aca-87cd-5492594ecaba",
   "metadata": {},
   "outputs": [
    {
     "data": {
      "text/plain": [
       "' Hello World!! \\n'"
      ]
     },
     "execution_count": 30,
     "metadata": {},
     "output_type": "execute_result"
    }
   ],
   "source": [
    "line"
   ]
  },
  {
   "cell_type": "code",
   "execution_count": 31,
   "id": "b7501300-c219-4446-8912-30c13d4764bd",
   "metadata": {},
   "outputs": [
    {
     "data": {
      "text/plain": [
       "' Hello World2 \\n'"
      ]
     },
     "execution_count": 31,
     "metadata": {},
     "output_type": "execute_result"
    }
   ],
   "source": [
    "line1"
   ]
  },
  {
   "cell_type": "code",
   "execution_count": null,
   "id": "d0fa705a-dafb-44bd-9a29-ec46d4df9416",
   "metadata": {},
   "outputs": [],
   "source": []
  },
  {
   "cell_type": "markdown",
   "id": "4bf95b5a-e462-4f1d-8acb-d87fcd4c497c",
   "metadata": {},
   "source": [
    "### readlines()"
   ]
  },
  {
   "cell_type": "markdown",
   "id": "938fc501-f7d4-4e29-96ff-40869f698afc",
   "metadata": {},
   "source": [
    "#### readlines return the entire string in a list with a seperation of \\n and , "
   ]
  },
  {
   "cell_type": "code",
   "execution_count": 35,
   "id": "7a60f3cc-8d0e-44cc-b507-61cd3a15b633",
   "metadata": {},
   "outputs": [],
   "source": [
    "with open ('new_file1.txt' , 'r' ) as newfile1:\n",
    "    readlines = newfile1.readlines()"
   ]
  },
  {
   "cell_type": "code",
   "execution_count": 36,
   "id": "177c034d-a2ef-4539-82bf-f793a12ea2fd",
   "metadata": {},
   "outputs": [
    {
     "data": {
      "text/plain": [
       "[' Hello World!! \\n', ' Hello World2 \\n', ' Hello World3 \\n']"
      ]
     },
     "execution_count": 36,
     "metadata": {},
     "output_type": "execute_result"
    }
   ],
   "source": [
    "readlines"
   ]
  },
  {
   "cell_type": "code",
   "execution_count": null,
   "id": "1e4bb1d3-3a0e-48ae-b9b7-52cbffd2f11c",
   "metadata": {},
   "outputs": [],
   "source": []
  },
  {
   "cell_type": "markdown",
   "id": "00ad1df1-48ab-4c51-b11d-4f4ff50ba20a",
   "metadata": {},
   "source": [
    "### Q5"
   ]
  },
  {
   "cell_type": "markdown",
   "id": "eba084c1-2cc7-4bf2-85a4-a853e7b98562",
   "metadata": {},
   "source": [
    "#### with statement is used with open because of with open() statement have auto close() function, we do not close() it manually and it will help us to work with an indentation and also it will reduce the complexity of many lines of code. this will be the big advantage of using open with { with }"
   ]
  },
  {
   "cell_type": "markdown",
   "id": "c96882cb-5c9e-4967-a27d-4c525b8d4549",
   "metadata": {},
   "source": [
    "#### Example :- "
   ]
  },
  {
   "cell_type": "code",
   "execution_count": 37,
   "id": "a6924607-23ea-418d-804b-2acd6c9df49f",
   "metadata": {},
   "outputs": [],
   "source": [
    "with open ('new_file1.txt' , 'r' ) as newfile1:\n",
    "    readlines = newfile1.readlines()"
   ]
  },
  {
   "cell_type": "code",
   "execution_count": null,
   "id": "e3337a80-88a6-442c-ac63-362639c503b6",
   "metadata": {},
   "outputs": [],
   "source": []
  },
  {
   "cell_type": "markdown",
   "id": "b1e6ab07-4645-4e0d-9142-64c796f8acdd",
   "metadata": {},
   "source": [
    "### Q6 "
   ]
  },
  {
   "cell_type": "markdown",
   "id": "4f80ef8a-eefd-474c-bedd-ceaa147733bf",
   "metadata": {},
   "source": [
    "### write ()"
   ]
  },
  {
   "cell_type": "markdown",
   "id": "9f736ad6-1291-49b0-884d-cb205965650a",
   "metadata": {},
   "source": [
    "#### with function is used to write information / data in a specific file.  "
   ]
  },
  {
   "cell_type": "code",
   "execution_count": 41,
   "id": "4937b110-84be-4330-bcd6-e5395920db5d",
   "metadata": {},
   "outputs": [],
   "source": [
    "with open ('new_file2.txt' , 'w' ) as newfile2:\n",
    "    newfile2_obj = newfile2.write( \" Hello World !!! \" )"
   ]
  },
  {
   "cell_type": "code",
   "execution_count": 1,
   "id": "53f5b116-d6dd-4bf6-bc34-35f97963d522",
   "metadata": {},
   "outputs": [],
   "source": [
    "with open ('new_file2.txt' , 'r' ) as newfile2:\n",
    "    newfile2_obj = newfile2.read()"
   ]
  },
  {
   "cell_type": "code",
   "execution_count": 43,
   "id": "518006bd-0403-4134-800d-70ef48bb674c",
   "metadata": {},
   "outputs": [
    {
     "data": {
      "text/plain": [
       "' Hello World !!! '"
      ]
     },
     "execution_count": 43,
     "metadata": {},
     "output_type": "execute_result"
    }
   ],
   "source": [
    "newfile2_obj"
   ]
  },
  {
   "cell_type": "markdown",
   "id": "c13700c8-5de6-4a62-8946-1e50f47250bb",
   "metadata": {},
   "source": [
    "### Writelines"
   ]
  },
  {
   "cell_type": "markdown",
   "id": "ea1f9cc1-53fe-48e0-ba1b-f327a1722c01",
   "metadata": {},
   "source": [
    "#### writelines() function is used to write multiple lines of data / information in specific file.  "
   ]
  },
  {
   "cell_type": "code",
   "execution_count": 35,
   "id": "daf359c7-dd40-4db7-ab31-db1368141770",
   "metadata": {},
   "outputs": [],
   "source": [
    "with open ('new_file3.txt' , 'w' ) as newfile3:\n",
    "    newfile3_obj = newfile3.writelines( \"Hello World!! \\n  Hello World2 \\n  Hello World3 \\n \" )"
   ]
  },
  {
   "cell_type": "code",
   "execution_count": 36,
   "id": "5d68dff7-067b-421f-9b04-e083338ed43b",
   "metadata": {},
   "outputs": [],
   "source": [
    "with open ('new_file3.txt' , 'r' ) as newfile3:\n",
    "    newfile3_obj = newfile3.readline()\n",
    "    newfile3_obj1 = newfile3.readline()\n",
    "    newfile3_obj2 = newfile3.readline()"
   ]
  },
  {
   "cell_type": "code",
   "execution_count": 37,
   "id": "aff7fb4e-4011-48f7-b89f-411b5cdd0eba",
   "metadata": {},
   "outputs": [
    {
     "data": {
      "text/plain": [
       "'Hello World!! \\n'"
      ]
     },
     "execution_count": 37,
     "metadata": {},
     "output_type": "execute_result"
    }
   ],
   "source": [
    "newfile3_obj"
   ]
  },
  {
   "cell_type": "code",
   "execution_count": 38,
   "id": "313790ef-5c3d-41f7-82b8-072bdab9a9df",
   "metadata": {},
   "outputs": [
    {
     "data": {
      "text/plain": [
       "'  Hello World2 \\n'"
      ]
     },
     "execution_count": 38,
     "metadata": {},
     "output_type": "execute_result"
    }
   ],
   "source": [
    "newfile3_obj1"
   ]
  },
  {
   "cell_type": "code",
   "execution_count": 39,
   "id": "a72cefee-2d31-4414-b021-d7a1e437f244",
   "metadata": {},
   "outputs": [
    {
     "data": {
      "text/plain": [
       "'  Hello World3 \\n'"
      ]
     },
     "execution_count": 39,
     "metadata": {},
     "output_type": "execute_result"
    }
   ],
   "source": [
    "newfile3_obj2"
   ]
  },
  {
   "cell_type": "code",
   "execution_count": null,
   "id": "8172ecc5-4b45-466e-bb1f-96f2fc2c2d4f",
   "metadata": {},
   "outputs": [],
   "source": []
  },
  {
   "cell_type": "code",
   "execution_count": 41,
   "id": "06b43c15-0606-415b-a28a-b7fdd86a88e3",
   "metadata": {},
   "outputs": [],
   "source": [
    "with open ('new_file3.txt' , 'r' ) as newfile3:\n",
    "    newfile3_obj = newfile3.readlines()"
   ]
  },
  {
   "cell_type": "code",
   "execution_count": 42,
   "id": "c1a6cdcf-52e9-4b2b-bdd4-712aadbd5e37",
   "metadata": {},
   "outputs": [
    {
     "data": {
      "text/plain": [
       "['Hello World!! \\n', '  Hello World2 \\n', '  Hello World3 \\n', ' ']"
      ]
     },
     "execution_count": 42,
     "metadata": {},
     "output_type": "execute_result"
    }
   ],
   "source": [
    "newfile3_obj"
   ]
  },
  {
   "cell_type": "code",
   "execution_count": null,
   "id": "3856fc65-dbcb-4019-bdf2-884f9a69df29",
   "metadata": {},
   "outputs": [],
   "source": []
  }
 ],
 "metadata": {
  "kernelspec": {
   "display_name": "Python 3 (ipykernel)",
   "language": "python",
   "name": "python3"
  },
  "language_info": {
   "codemirror_mode": {
    "name": "ipython",
    "version": 3
   },
   "file_extension": ".py",
   "mimetype": "text/x-python",
   "name": "python",
   "nbconvert_exporter": "python",
   "pygments_lexer": "ipython3",
   "version": "3.10.8"
  }
 },
 "nbformat": 4,
 "nbformat_minor": 5
}
