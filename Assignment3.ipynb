{
 "cells": [
  {
   "cell_type": "markdown",
   "id": "093a6659-6300-44b6-8aa5-7f45f495ab0a",
   "metadata": {},
   "source": [
    "### Question 1"
   ]
  },
  {
   "cell_type": "code",
   "execution_count": 5,
   "id": "f9016f55-f963-4e61-b9bf-69fe82f58566",
   "metadata": {},
   "outputs": [
    {
     "data": {
      "text/plain": [
       "[('Virat Kohli', 24936),\n",
       " ('Jack Kallis', 25534),\n",
       " ('Ricky Ponting', 27483),\n",
       " ('Sachin Tendulkar', 34357)]"
      ]
     },
     "execution_count": 5,
     "metadata": {},
     "output_type": "execute_result"
    }
   ],
   "source": [
    "data = [('Sachin Tendulkar', 34357), ('Ricky Ponting', 27483), ('Jack Kallis', 25534), ('Virat Kohli', 24936)]\n",
    "\n",
    "\n",
    "filtered = list(filter(lambda x: isinstance(x[1], int), data))\n",
    "\n",
    "sorted_data = sorted(filtered, key=lambda x: x[1])\n",
    "sorted_data\n",
    "\n"
   ]
  },
  {
   "cell_type": "code",
   "execution_count": 4,
   "id": "35794f43-9824-437c-b5f8-0d0ee7c5eb8a",
   "metadata": {},
   "outputs": [],
   "source": [
    "\n",
    "# sorted_players = sorted(data, key=lambda x: x[1])\n",
    "# sorted_players"
   ]
  },
  {
   "cell_type": "markdown",
   "id": "3052f6b8-62ca-40d0-8344-293d65093bbd",
   "metadata": {},
   "source": [
    "### Question 2"
   ]
  },
  {
   "cell_type": "code",
   "execution_count": 1,
   "id": "461186ba-f8ee-4670-914d-12d3c1005d02",
   "metadata": {},
   "outputs": [],
   "source": [
    "lis = [1, 2, 3, 4, 5, 6, 7, 8, 9, 10]"
   ]
  },
  {
   "cell_type": "code",
   "execution_count": 5,
   "id": "ddf80112-d954-4ad5-81a8-5c9b76fb5568",
   "metadata": {},
   "outputs": [
    {
     "data": {
      "text/plain": [
       "[1, 4, 9, 16, 25, 36, 49, 64, 81, 100]"
      ]
     },
     "execution_count": 5,
     "metadata": {},
     "output_type": "execute_result"
    }
   ],
   "source": [
    "list(map(lambda x: x**2, lis) )"
   ]
  },
  {
   "cell_type": "markdown",
   "id": "b2dd608c-50d1-48cd-bca7-e7c8691545a6",
   "metadata": {},
   "source": [
    "### Question 3"
   ]
  },
  {
   "cell_type": "code",
   "execution_count": 2,
   "id": "111f8c06-61dd-4730-8c6c-be5c3e7532cc",
   "metadata": {},
   "outputs": [],
   "source": [
    "lis = [1, 2, 3, 4, 5, 6, 7, 8, 9, 10]"
   ]
  },
  {
   "cell_type": "code",
   "execution_count": 15,
   "id": "86c4668c-199e-4827-a503-2f48dbac582e",
   "metadata": {},
   "outputs": [
    {
     "data": {
      "text/plain": [
       "('1', '2', '3', '4', '5', '6', '7', '8', '9', '10')"
      ]
     },
     "execution_count": 15,
     "metadata": {},
     "output_type": "execute_result"
    }
   ],
   "source": [
    "tuple(map(lambda x: str(x), lis))"
   ]
  },
  {
   "cell_type": "markdown",
   "id": "44b7856e-29ee-4e2e-968f-7f5612eca818",
   "metadata": {},
   "source": [
    "### Question 4"
   ]
  },
  {
   "cell_type": "code",
   "execution_count": 25,
   "id": "30442a52-4c91-4be3-b2a9-cb528bf45bae",
   "metadata": {},
   "outputs": [],
   "source": [
    "from functools import reduce"
   ]
  },
  {
   "cell_type": "code",
   "execution_count": 31,
   "id": "b9c63c13-b70b-46f9-bf9c-d0f5d19b7d53",
   "metadata": {},
   "outputs": [
    {
     "data": {
      "text/plain": [
       "15511210043330985984000000"
      ]
     },
     "execution_count": 31,
     "metadata": {},
     "output_type": "execute_result"
    }
   ],
   "source": [
    "li = [1,2,3,4,5,6,7,8,9,10,11,12,13,14,15,16,17,18,19,20,21,22,23,24,25]\n",
    "\n",
    "reduce(lambda x,y: x*y, li)"
   ]
  },
  {
   "cell_type": "markdown",
   "id": "eb139e94-fa57-4c3b-b2bc-9567bcdec049",
   "metadata": {},
   "source": [
    "### Queation 5"
   ]
  },
  {
   "cell_type": "code",
   "execution_count": 49,
   "id": "f0f3142c-3367-4af6-94b3-c427336c73e9",
   "metadata": {},
   "outputs": [
    {
     "data": {
      "text/plain": [
       "[6, 60, 90, 120]"
      ]
     },
     "execution_count": 49,
     "metadata": {},
     "output_type": "execute_result"
    }
   ],
   "source": [
    "lis = [2, 3, 6, 9, 27, 60, 90, 120, 55, 46]\n",
    "\n",
    "list(filter(lambda x: x%2==0 and x%3==0, lis))"
   ]
  },
  {
   "cell_type": "markdown",
   "id": "33b93ec1-4484-4f16-bb85-5899ad24e217",
   "metadata": {},
   "source": [
    "### Question 6"
   ]
  },
  {
   "cell_type": "code",
   "execution_count": 10,
   "id": "11aa1a0a-b1f9-463a-9633-ef22e2ae8a82",
   "metadata": {},
   "outputs": [
    {
     "data": {
      "text/plain": [
       "['php', 'aba', 'radar', 'level']"
      ]
     },
     "execution_count": 10,
     "metadata": {},
     "output_type": "execute_result"
    }
   ],
   "source": [
    "data = ['python', 'php', 'aba', 'radar', 'level']\n",
    "\n",
    "list(filter(lambda x: x==x[::-1], data))"
   ]
  },
  {
   "cell_type": "code",
   "execution_count": null,
   "id": "161038ab-0c51-494a-a46c-1359f4654b8a",
   "metadata": {},
   "outputs": [],
   "source": []
  }
 ],
 "metadata": {
  "kernelspec": {
   "display_name": "Python 3 (ipykernel)",
   "language": "python",
   "name": "python3"
  },
  "language_info": {
   "codemirror_mode": {
    "name": "ipython",
    "version": 3
   },
   "file_extension": ".py",
   "mimetype": "text/x-python",
   "name": "python",
   "nbconvert_exporter": "python",
   "pygments_lexer": "ipython3",
   "version": "3.10.8"
  }
 },
 "nbformat": 4,
 "nbformat_minor": 5
}
