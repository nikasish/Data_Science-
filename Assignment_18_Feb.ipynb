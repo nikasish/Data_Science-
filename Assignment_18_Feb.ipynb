{
 "cells": [
  {
   "cell_type": "markdown",
   "id": "0c8a09af-225c-448e-9600-0f35c4b31e61",
   "metadata": {},
   "source": [
    "### 18 Feb Assignment "
   ]
  },
  {
   "cell_type": "markdown",
   "id": "b6248273-5485-4787-8326-cd4bf53c3a3d",
   "metadata": {},
   "source": [
    "### Q1 "
   ]
  },
  {
   "cell_type": "markdown",
   "id": "420025e0-87e7-4207-8245-7864706623cb",
   "metadata": {},
   "source": [
    "#### API is a mechanism that can allow two programme/software to communicate eatch other for exchanging data or set of protocols."
   ]
  },
  {
   "cell_type": "markdown",
   "id": "fd71a55c-dc82-4f5a-a090-f4b3459070eb",
   "metadata": {},
   "source": [
    "#### Example:- "
   ]
  },
  {
   "cell_type": "markdown",
   "id": "15189c5c-e0a9-461f-bcc6-7dcc3eda9af8",
   "metadata": {},
   "source": [
    "#### Money Transaction Application "
   ]
  },
  {
   "cell_type": "markdown",
   "id": "7cc811de-c108-4c86-9500-5b64c54e6ea8",
   "metadata": {},
   "source": [
    "#### there is an option or communication between two diffrent operators bank and the web application bank following their set of rules or function also web application same. here we can see everyone have following their rules and wverything will happen in the web. "
   ]
  },
  {
   "cell_type": "markdown",
   "id": "5d22ee72-2d31-4269-ab05-34b5b410d5d4",
   "metadata": {},
   "source": [
    "### Q2. "
   ]
  },
  {
   "cell_type": "markdown",
   "id": "09213431-2d13-4d59-a0b5-685cfda16d61",
   "metadata": {},
   "source": [
    "### Advantages:-"
   ]
  },
  {
   "cell_type": "markdown",
   "id": "5f30cce7-6054-48e8-b2df-db47219437d1",
   "metadata": {},
   "source": [
    "#### API solutions enable different software systems to communicate with each other, regardless of their programming language or platform. This enhances the interoperability between systems, allowing for the exchange of data and functionality."
   ]
  },
  {
   "cell_type": "markdown",
   "id": "937d6b3e-78b3-41fd-b902-7e4a67bd011e",
   "metadata": {},
   "source": [
    "#### API driven infrastructures enable developers to reuse code and functionality from existing software systems, saving time and reducing the amount of code that needs to be written from scratch."
   ]
  },
  {
   "cell_type": "markdown",
   "id": "cd13c4ee-4972-4203-86b2-c00f1bcc033e",
   "metadata": {},
   "source": [
    "#### APIs can enable third-party developers to create applications that integrate with existing software systems, providing a better user experience and increased functionality."
   ]
  },
  {
   "cell_type": "markdown",
   "id": "38f747b6-287f-4af7-944f-60b743c110b8",
   "metadata": {},
   "source": [
    "### Disadvantages :- "
   ]
  },
  {
   "cell_type": "markdown",
   "id": "065dbd6d-10af-477f-a265-bc33aadda2ad",
   "metadata": {},
   "source": [
    "#### APIs can be complex, requiring a significant amount of development effort to implement and maintain."
   ]
  },
  {
   "cell_type": "markdown",
   "id": "7a74b3f7-c278-48eb-bb9c-24002fe2b4e8",
   "metadata": {},
   "source": [
    "#### APIs require proper and management to ensure they are being used correctly and consistently across different applications and systems."
   ]
  },
  {
   "cell_type": "markdown",
   "id": "49746fb9-14e0-4190-81ce-13b6c371f6c9",
   "metadata": {},
   "source": [
    "#### APIs can have compatibility issues between different versions of the same software system or between different systems, which can lead to errors and system failures."
   ]
  },
  {
   "cell_type": "markdown",
   "id": "588eb58f-6634-43f3-9083-3173180c8d1d",
   "metadata": {},
   "source": [
    "### Q3 "
   ]
  },
  {
   "cell_type": "markdown",
   "id": "58c079b1-ce3f-43c8-bfcc-32ca4084bd81",
   "metadata": {},
   "source": [
    "#### web API can be accessed over the web using the HTTP protocol. It is a framework that helps you to create and develop HTTP based RESTFUL services. "
   ]
  },
  {
   "cell_type": "markdown",
   "id": "bfddb796-ba7f-4224-a87e-896beee314c5",
   "metadata": {},
   "source": [
    "#### API is an interface that exposes an application's data to outside software, whereas web applications are one type of API with stricter requirements. "
   ]
  },
  {
   "cell_type": "markdown",
   "id": "efe7ef39-903b-4502-a776-81fbc4a05501",
   "metadata": {},
   "source": [
    "### Q4 "
   ]
  },
  {
   "cell_type": "markdown",
   "id": "7df3a797-964c-44f2-a571-49947f519a85",
   "metadata": {},
   "source": [
    "#### REST :- Representational State Transfer protocol is a Architectural style that uses HTTP requests to acces and use data.  "
   ]
  },
  {
   "cell_type": "markdown",
   "id": "87e24355-d944-4736-b517-429c6d702d06",
   "metadata": {},
   "source": [
    "#### SOAP :- Simple Object Access Protocol it is a protocol with specific requirements like XML messaging."
   ]
  },
  {
   "cell_type": "markdown",
   "id": "6466a40b-cd1a-43da-9a96-f5bc58f972af",
   "metadata": {},
   "source": [
    "### Q5 "
   ]
  },
  {
   "cell_type": "markdown",
   "id": "a763f9bd-ee8a-485a-80d7-249e96244f2b",
   "metadata": {},
   "source": [
    " #### The SOAP approach is highly structured and uses XML data format. where REST is more flexible and allows applications to exchange data in multiple formats."
   ]
  },
  {
   "cell_type": "code",
   "execution_count": null,
   "id": "813071d8-d2f7-46e0-b022-cb1ebb272f7c",
   "metadata": {},
   "outputs": [],
   "source": []
  }
 ],
 "metadata": {
  "kernelspec": {
   "display_name": "Python 3 (ipykernel)",
   "language": "python",
   "name": "python3"
  },
  "language_info": {
   "codemirror_mode": {
    "name": "ipython",
    "version": 3
   },
   "file_extension": ".py",
   "mimetype": "text/x-python",
   "name": "python",
   "nbconvert_exporter": "python",
   "pygments_lexer": "ipython3",
   "version": "3.10.8"
  }
 },
 "nbformat": 4,
 "nbformat_minor": 5
}
