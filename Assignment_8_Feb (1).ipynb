{
 "cells": [
  {
   "cell_type": "markdown",
   "id": "03dae4a1-723e-451e-a8d1-cdedd411a472",
   "metadata": {},
   "source": [
    "### 8 Feb Assignment"
   ]
  },
  {
   "cell_type": "markdown",
   "id": "41c1cb84-4d3a-46fe-8b49-840b14e2de74",
   "metadata": {},
   "source": [
    "### Q1"
   ]
  },
  {
   "cell_type": "markdown",
   "id": "34950f96-7091-4053-832a-2fd0b8f89ac4",
   "metadata": {},
   "source": [
    "#### Abstruction is a class, using this class we can hide the implementing part or sensitive part of coding . in a single word we can say,  only the ui partwe can see not the implimenting part. Abstruction is used to create the bule print or schaleton of a programme."
   ]
  },
  {
   "cell_type": "markdown",
   "id": "32b35998-0982-407f-901b-74f313b5d15d",
   "metadata": {},
   "source": [
    "#### Example:- a car, we know the cards fetures, we know how to start the car or the visible part of a card but we can not see the implimenting part or the processing part "
   ]
  },
  {
   "cell_type": "markdown",
   "id": "166d90dc-7518-497c-962b-53a325c10b21",
   "metadata": {},
   "source": [
    "### Q2 "
   ]
  },
  {
   "cell_type": "markdown",
   "id": "c93d1e06-424b-42fd-942e-f8b2d212bdda",
   "metadata": {},
   "source": [
    "#### Abstraction is a design level process and it is used to reduce the complexity at the designing stage of a project."
   ]
  },
  {
   "cell_type": "markdown",
   "id": "8e5060b8-9dd1-4067-b1b2-47d1bece1a1d",
   "metadata": {},
   "source": [
    "#### Encaplusation is a process that can help us for privacy and maintaining the controll of a project. in a sort language we can say encapluation is used to protect the data and it is used to related the privacy of a programme. "
   ]
  },
  {
   "cell_type": "markdown",
   "id": "b38007e0-44a0-4e34-b1b0-801492d63695",
   "metadata": {},
   "source": [
    "### Q3"
   ]
  },
  {
   "cell_type": "markdown",
   "id": "79791c9a-1a42-475f-a5cc-0e9b33b84d0c",
   "metadata": {},
   "source": [
    "#### in python abc module is a module available in python, it is a predefined module, it is used to abstruct the function and a programme. "
   ]
  },
  {
   "cell_type": "markdown",
   "id": "d42a9b07-5436-4c74-b286-eba0f6f8d6e2",
   "metadata": {},
   "source": [
    "### Q4 "
   ]
  },
  {
   "cell_type": "markdown",
   "id": "fb3af3ce-54e0-4d29-90b5-928f9a2390a1",
   "metadata": {},
   "source": [
    "### we will achive data abstruction using abc class"
   ]
  },
  {
   "cell_type": "markdown",
   "id": "5f5cc732-2209-4044-8432-cb4b3c3a10a4",
   "metadata": {},
   "source": [
    "### Q5"
   ]
  },
  {
   "cell_type": "markdown",
   "id": "8efccea2-d679-447e-af0c-1806ed8df082",
   "metadata": {},
   "source": [
    "#### No we can not create instance object of an abstruct class because abstruct class has no body and it is protected and there is nothing define in this class, that's why we can not create an object of a abstruct class"
   ]
  },
  {
   "cell_type": "code",
   "execution_count": null,
   "id": "debd4970-e864-4922-a164-e47f976821f6",
   "metadata": {},
   "outputs": [],
   "source": []
  }
 ],
 "metadata": {
  "kernelspec": {
   "display_name": "Python 3 (ipykernel)",
   "language": "python",
   "name": "python3"
  },
  "language_info": {
   "codemirror_mode": {
    "name": "ipython",
    "version": 3
   },
   "file_extension": ".py",
   "mimetype": "text/x-python",
   "name": "python",
   "nbconvert_exporter": "python",
   "pygments_lexer": "ipython3",
   "version": "3.10.8"
  }
 },
 "nbformat": 4,
 "nbformat_minor": 5
}
