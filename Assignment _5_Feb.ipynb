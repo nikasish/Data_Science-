{
 "cells": [
  {
   "cell_type": "markdown",
   "id": "93e5aaf3-b0b5-46d8-8006-a7bf44a8e9f3",
   "metadata": {},
   "source": [
    "### 5th Feb Assignment "
   ]
  },
  {
   "cell_type": "markdown",
   "id": "830f64f9-6ea0-4256-a170-41a086075dce",
   "metadata": {},
   "source": [
    "### Q1"
   ]
  },
  {
   "cell_type": "markdown",
   "id": "1b50aa1a-003e-403e-a32f-fdfd43931fd3",
   "metadata": {},
   "source": [
    "#### class is a classification of real world entity and it has multile type of objects / instace, methos, etc.  \n",
    "#### class is a collection of objects also. \n",
    "#### example: - we hve a house that house has many more rooms is there, has many more windows and doors is there, we can say class has multiple types of objects and variables, functions, etc etc. a house is a real world entity that has multiple type of options, that we can relate to tha class and objects in  programming language . "
   ]
  },
  {
   "cell_type": "code",
   "execution_count": 1,
   "id": "8bf97e49-9ec5-4a5b-b847-59e1b80fb2fd",
   "metadata": {},
   "outputs": [],
   "source": [
    "class hello_world:\n",
    "    def info(self):\n",
    "        print ('hello World')"
   ]
  },
  {
   "cell_type": "code",
   "execution_count": 2,
   "id": "01fa1f75-370d-4fbf-b128-02ed1bd5f877",
   "metadata": {},
   "outputs": [],
   "source": [
    "ram = hello_world()"
   ]
  },
  {
   "cell_type": "code",
   "execution_count": 3,
   "id": "12a33901-1239-4410-b87a-88c6d0e3c034",
   "metadata": {},
   "outputs": [
    {
     "name": "stdout",
     "output_type": "stream",
     "text": [
      "hello World\n"
     ]
    }
   ],
   "source": [
    "ram.info()"
   ]
  },
  {
   "cell_type": "code",
   "execution_count": 5,
   "id": "b582f6c1-43cb-4f34-88fa-602d35c43ec3",
   "metadata": {},
   "outputs": [],
   "source": [
    "shayam = hello_world()"
   ]
  },
  {
   "cell_type": "code",
   "execution_count": 7,
   "id": "5aeff4d4-0785-4fa0-b689-a8037967ef7d",
   "metadata": {},
   "outputs": [
    {
     "name": "stdout",
     "output_type": "stream",
     "text": [
      "hello World\n"
     ]
    }
   ],
   "source": [
    "shayam.info()"
   ]
  },
  {
   "cell_type": "markdown",
   "id": "e60ce955-ec08-452b-8596-8d174fa24631",
   "metadata": {},
   "source": [
    "### Q2"
   ]
  },
  {
   "cell_type": "markdown",
   "id": "edbb61fc-25aa-47ec-b3fa-9399ff896ada",
   "metadata": {},
   "source": [
    "### 1. inheritance \n",
    "### 2. polymorphism\n",
    "### 3. abstraction \n",
    "### 4. encaplusation "
   ]
  },
  {
   "cell_type": "markdown",
   "id": "b6d66957-cad5-4c5e-ac19-3678effbd60a",
   "metadata": {},
   "source": [
    "### Q3 "
   ]
  },
  {
   "cell_type": "markdown",
   "id": "242958d2-2201-49ac-8353-884ce08d9832",
   "metadata": {},
   "source": [
    "#### When we have to pass or print anything in a respective object in that time we used __init__ function, basically init function takes atlist one argument and its self object. whwnever we have pass any attribute in that class in that time we used init function. in a single word can say we can pass data in object by init method or function.\n",
    "#### Example:- supposed we created a class and we collect some data from the user and print that data in that data we cerate init function and takes that value as argument in init function and by respective function in that class we print this value. "
   ]
  },
  {
   "cell_type": "markdown",
   "id": "7e2ea989-202c-44a7-b943-f9ec5f47b53a",
   "metadata": {},
   "source": [
    "### Example "
   ]
  },
  {
   "cell_type": "code",
   "execution_count": 11,
   "id": "290b9aee-8cd9-4b06-b669-d1eb6eee22ad",
   "metadata": {},
   "outputs": [],
   "source": [
    "class Student_info:\n",
    "    def __init__ (self, name, age):\n",
    "        self.name = name\n",
    "        self.age = age \n",
    "        \n",
    "    def Return_data(self):\n",
    "        return self.name, self.age\n",
    "    "
   ]
  },
  {
   "cell_type": "code",
   "execution_count": 12,
   "id": "d4807ddc-d018-4b1b-a282-8f7d090b81ac",
   "metadata": {},
   "outputs": [],
   "source": [
    "rohit = Student_info('Rohit', 25)"
   ]
  },
  {
   "cell_type": "code",
   "execution_count": 13,
   "id": "271f5a45-1a2a-451f-b19a-d5bd5bd8e620",
   "metadata": {},
   "outputs": [
    {
     "data": {
      "text/plain": [
       "('Rohit', 25)"
      ]
     },
     "execution_count": 13,
     "metadata": {},
     "output_type": "execute_result"
    }
   ],
   "source": [
    "rohit.Return_data()"
   ]
  },
  {
   "cell_type": "markdown",
   "id": "f8b03658-2281-4ef1-ba55-060efd853f50",
   "metadata": {},
   "source": [
    "### Q4"
   ]
  },
  {
   "cell_type": "markdown",
   "id": "01e9e4ff-5302-4215-ad1b-b92b99dcab61",
   "metadata": {},
   "source": [
    "#### In python { self } is a pointer which is used to bind between class and function. "
   ]
  },
  {
   "cell_type": "markdown",
   "id": "2133b993-f18e-4ca9-9286-0694f4c8e89d",
   "metadata": {},
   "source": [
    "### Q5"
   ]
  },
  {
   "cell_type": "markdown",
   "id": "fee3083b-03df-482a-801d-86ec7237bae1",
   "metadata": {},
   "source": [
    "#### Inheritance is way with this way we can access the multiple class and its property or inherit the multiple classes and methos in a single class. "
   ]
  },
  {
   "cell_type": "markdown",
   "id": "ed88593b-0699-46a1-810f-bfaa13b442d5",
   "metadata": {},
   "source": [
    "### Example of Inheritances:-"
   ]
  },
  {
   "cell_type": "markdown",
   "id": "f9bc5286-2776-41c6-8b09-232310e973d6",
   "metadata": {},
   "source": [
    "### Single Level Inheritance "
   ]
  },
  {
   "cell_type": "code",
   "execution_count": 4,
   "id": "ecbce125-9904-47ea-b8ec-26a4c2460b5a",
   "metadata": {},
   "outputs": [],
   "source": [
    "class abc:\n",
    "    def Print_data(self):\n",
    "        return 'Single Level Inheritance ' "
   ]
  },
  {
   "cell_type": "code",
   "execution_count": 5,
   "id": "ef4ec673-76fc-4a7b-a12e-e671fc412b02",
   "metadata": {},
   "outputs": [],
   "source": [
    "class abc1(abc):\n",
    "    pass"
   ]
  },
  {
   "cell_type": "code",
   "execution_count": 6,
   "id": "88b1a58f-ae78-40bc-8533-7318f7ae6fc4",
   "metadata": {},
   "outputs": [
    {
     "data": {
      "text/plain": [
       "'Single Level Inheritance '"
      ]
     },
     "execution_count": 6,
     "metadata": {},
     "output_type": "execute_result"
    }
   ],
   "source": [
    "obj_abc1 = abc1()\n",
    "obj_abc1.Print_data()"
   ]
  },
  {
   "cell_type": "markdown",
   "id": "3275cd99-0594-48c4-9dba-83fdbff0b5b9",
   "metadata": {},
   "source": [
    "### Multiple Inheritance"
   ]
  },
  {
   "cell_type": "code",
   "execution_count": 2,
   "id": "eca88289-a348-41ac-b4e1-b97a485ce1ad",
   "metadata": {},
   "outputs": [],
   "source": [
    "class abc:\n",
    "    def Print_data(self):\n",
    "        return ' Multiple Inheritance ' "
   ]
  },
  {
   "cell_type": "code",
   "execution_count": 3,
   "id": "cb533de1-6738-4910-951a-b21bbed47416",
   "metadata": {},
   "outputs": [],
   "source": [
    "class abc1:\n",
    "    def Print_data1(self):\n",
    "        return ' Multiple Inheritance1 ' "
   ]
  },
  {
   "cell_type": "code",
   "execution_count": 4,
   "id": "2d1e6748-7638-42c5-8f3f-1a1d63f1aeb0",
   "metadata": {},
   "outputs": [],
   "source": [
    "class abc3(abc, abc1):\n",
    "    pass"
   ]
  },
  {
   "cell_type": "code",
   "execution_count": 6,
   "id": "33508cc3-1afb-4524-bd78-551737ee4079",
   "metadata": {},
   "outputs": [
    {
     "data": {
      "text/plain": [
       "' Multiple Inheritance1 '"
      ]
     },
     "execution_count": 6,
     "metadata": {},
     "output_type": "execute_result"
    }
   ],
   "source": [
    "obj_abc3 = abc3()\n",
    "obj_abc3.Print_data1()"
   ]
  },
  {
   "cell_type": "markdown",
   "id": "a1f2a00c-e88a-4733-bf08-618ea46f2801",
   "metadata": {},
   "source": [
    "### Multilevel Inheritance"
   ]
  },
  {
   "cell_type": "code",
   "execution_count": 7,
   "id": "d3ea7464-c05f-4074-af27-8bada1437870",
   "metadata": {},
   "outputs": [],
   "source": [
    "class abc:\n",
    "    def Print_data(self):\n",
    "        return ' Multilevel Inheritance ' "
   ]
  },
  {
   "cell_type": "code",
   "execution_count": 8,
   "id": "70470c07-3aa1-4b78-910c-2a33bf844f74",
   "metadata": {},
   "outputs": [],
   "source": [
    "class abc1(abc):\n",
    "    def Print_data1(self):\n",
    "        return ' Multilevel Inheritance 1 ' "
   ]
  },
  {
   "cell_type": "code",
   "execution_count": 9,
   "id": "6a1d2a1c-ad2e-4a91-94e6-0a6fea99c4d1",
   "metadata": {},
   "outputs": [],
   "source": [
    "class abc3(abc1):\n",
    "    pass"
   ]
  },
  {
   "cell_type": "code",
   "execution_count": 10,
   "id": "166eca84-87ef-427e-aa40-a2b189047ce1",
   "metadata": {},
   "outputs": [
    {
     "data": {
      "text/plain": [
       "' Multilevel Inheritance '"
      ]
     },
     "execution_count": 10,
     "metadata": {},
     "output_type": "execute_result"
    }
   ],
   "source": [
    "obj_abc3 = abc3()\n",
    "obj_abc3.Print_data()"
   ]
  },
  {
   "cell_type": "markdown",
   "id": "c81270a6-be3e-40d8-a67a-c4008471fd82",
   "metadata": {},
   "source": [
    "### Hierarchical Inheritance"
   ]
  },
  {
   "cell_type": "code",
   "execution_count": 78,
   "id": "580a78e2-ee2a-4dbb-bd6e-bf1a2315cba3",
   "metadata": {},
   "outputs": [],
   "source": [
    "class A:\n",
    "    a = \" i am Stored in A\" \n",
    "    def Aret(self):\n",
    "        return self.a"
   ]
  },
  {
   "cell_type": "code",
   "execution_count": 79,
   "id": "e66e35db-1f40-41cd-886f-3c395ef5b47a",
   "metadata": {},
   "outputs": [],
   "source": [
    "class B(A):\n",
    "    b = \" i am stored in B\"\n",
    "    def bret(self):\n",
    "        return self.b"
   ]
  },
  {
   "cell_type": "code",
   "execution_count": 80,
   "id": "494d57ff-0b52-4cee-a716-80fd2e9c63b5",
   "metadata": {},
   "outputs": [],
   "source": [
    "class C(A):\n",
    "    c = \" i am stored in C\"\n",
    "    def cret(self):\n",
    "        return self.c"
   ]
  },
  {
   "cell_type": "code",
   "execution_count": 81,
   "id": "55443069-0c10-4714-ad91-8763fe7a53da",
   "metadata": {},
   "outputs": [],
   "source": [
    "obj_b = B()\n",
    "obj_c = C()"
   ]
  },
  {
   "cell_type": "code",
   "execution_count": 82,
   "id": "78b24134-a28f-4da1-8062-c7e0be36971b",
   "metadata": {},
   "outputs": [
    {
     "data": {
      "text/plain": [
       "' i am stored in B'"
      ]
     },
     "execution_count": 82,
     "metadata": {},
     "output_type": "execute_result"
    }
   ],
   "source": [
    "obj_b.bret()"
   ]
  },
  {
   "cell_type": "code",
   "execution_count": 83,
   "id": "bbcdc39c-8c68-45d8-811f-044ce319202f",
   "metadata": {},
   "outputs": [
    {
     "data": {
      "text/plain": [
       "' i am stored in C'"
      ]
     },
     "execution_count": 83,
     "metadata": {},
     "output_type": "execute_result"
    }
   ],
   "source": [
    "obj_c.cret()"
   ]
  },
  {
   "cell_type": "code",
   "execution_count": 84,
   "id": "142d3d11-709a-484e-b629-a2e5345df68b",
   "metadata": {},
   "outputs": [
    {
     "data": {
      "text/plain": [
       "' i am Stored in A'"
      ]
     },
     "execution_count": 84,
     "metadata": {},
     "output_type": "execute_result"
    }
   ],
   "source": [
    "obj_c.Aret()"
   ]
  },
  {
   "cell_type": "code",
   "execution_count": 85,
   "id": "94a5b3c6-88ce-45c7-aa99-4044a9811514",
   "metadata": {},
   "outputs": [
    {
     "data": {
      "text/plain": [
       "' i am stored in B'"
      ]
     },
     "execution_count": 85,
     "metadata": {},
     "output_type": "execute_result"
    }
   ],
   "source": [
    "obj_b.bret()"
   ]
  },
  {
   "cell_type": "code",
   "execution_count": null,
   "id": "5cedcd43-8a23-4d71-a5f0-a911f14b7a43",
   "metadata": {},
   "outputs": [],
   "source": []
  }
 ],
 "metadata": {
  "kernelspec": {
   "display_name": "Python 3 (ipykernel)",
   "language": "python",
   "name": "python3"
  },
  "language_info": {
   "codemirror_mode": {
    "name": "ipython",
    "version": 3
   },
   "file_extension": ".py",
   "mimetype": "text/x-python",
   "name": "python",
   "nbconvert_exporter": "python",
   "pygments_lexer": "ipython3",
   "version": "3.10.8"
  }
 },
 "nbformat": 4,
 "nbformat_minor": 5
}
