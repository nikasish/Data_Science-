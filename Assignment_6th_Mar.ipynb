{
 "cells": [
  {
   "cell_type": "markdown",
   "id": "dcbc6f18-edf4-4042-b70a-a962bca47b8d",
   "metadata": {},
   "source": [
    "### 6th Mar Assignment "
   ]
  },
  {
   "cell_type": "markdown",
   "id": "4d9e182c-3a59-4cb6-8544-53c992fad7f8",
   "metadata": {},
   "source": [
    "### Q1 "
   ]
  },
  {
   "cell_type": "markdown",
   "id": "4979884b-09a7-435d-abd8-5798fd69ea9b",
   "metadata": {},
   "source": [
    "#### Stastic is the science of collecting, organising, and analysing the data. "
   ]
  },
  {
   "cell_type": "markdown",
   "id": "874c6445-dd02-4f86-b12d-0e94ef1f84b8",
   "metadata": {},
   "source": [
    "### Q2 "
   ]
  },
  {
   "cell_type": "markdown",
   "id": "6ecad97a-efba-404b-9191-9b666bb7df18",
   "metadata": {},
   "source": [
    "#### stastic are divided into two parts :- \n",
    "1. is Descriptive Stastic and \n",
    "2. is Inferential Stastic"
   ]
  },
  {
   "cell_type": "markdown",
   "id": "04634910-5b7d-4948-9c2a-42f00ca305a1",
   "metadata": {},
   "source": [
    "### Q3 "
   ]
  },
  {
   "cell_type": "markdown",
   "id": "e69cedeb-d443-4175-9816-77684fd601ab",
   "metadata": {},
   "source": [
    "#### Data are specially in two types 1. Quantative and 2. Qualitative under that we have two more categories ---->\n",
    "#### Quantative Data are divided into two parts 1. is Discrete and 2. one is Continuos  data. \n",
    "#### Qualitative data are divided into two parts 1. is Nominal and 2. one is ordinal data. \n",
    "#### here if we talk about the Discrete data we found this data take as whole numberlike integer data, Where is Continous data take any value of data like. height, weight etc. "
   ]
  },
  {
   "cell_type": "code",
   "execution_count": null,
   "id": "a1b22654-659b-470f-8da8-1146673c1264",
   "metadata": {},
   "outputs": [],
   "source": []
  },
  {
   "cell_type": "markdown",
   "id": "ca020dbb-1ee0-44c9-ab6f-ac7517491d23",
   "metadata": {},
   "source": [
    "### Descriptive Stastic consists of organising and sumering data where is Inferential Stastic consists some conclusion or you can find some conclusion by the Inferential Stastics "
   ]
  },
  {
   "cell_type": "markdown",
   "id": "bbe8860a-fdf7-45d9-958d-2e291f9c36c9",
   "metadata": {},
   "source": [
    "### Q4 "
   ]
  },
  {
   "cell_type": "markdown",
   "id": "b55c3fdc-987a-4f78-aa79-abf0941fdc95",
   "metadata": {},
   "source": [
    "#### (i) Grading in exam: A+, A, B+, B, C+, C, D, E -->>> (this is Ordinal Dataset) \n",
    "#### (ii) Colour of mangoes: yellow, green, orange, red  -->>>  (this is Nominal Dataset)\n",
    "#### (iii) Height data of a class: [178.9, 179, 179.5, 176, 177.2, 178.3, 175.8,...] -->>>  (this is Continuos Dataset)\n",
    "#### (iv) Number of mangoes exported by a farm: [500, 600, 478, 672, ...]  -->>> (this is Discrete Dataset)"
   ]
  },
  {
   "cell_type": "markdown",
   "id": "a0a73eb3-4141-4209-acd9-dd92471e19e8",
   "metadata": {},
   "source": [
    "### Q5"
   ]
  },
  {
   "cell_type": "markdown",
   "id": "f0c1669c-b0df-45bd-b0af-d8017e9e04bd",
   "metadata": {},
   "source": [
    "#### level of measurement is the way where we can find the classification of data values how the values are distributed with each other. \n",
    "#### We have 4 type level of measurement is there 1. Nominal scale data 2. Ordinal Scale Data 3. Interval Scale data 4. Ratio Scale Data \n",
    "#### Fevorite color ia a example of Nominal Data \n",
    "#### race compition is the example of Ordinal Data \n",
    "#### temprature is the example of Interval data \n",
    "#### students marks is the example of ration data"
   ]
  },
  {
   "cell_type": "markdown",
   "id": "18804a7f-60b3-49f5-a301-d62ad1f96a97",
   "metadata": {},
   "source": [
    "### Q6 "
   ]
  },
  {
   "cell_type": "markdown",
   "id": "e8917ab5-cdf2-4dd6-b1c8-03d5c99748e4",
   "metadata": {},
   "source": [
    "#### level of mesurement is very much important because it help us to identify how data are spread, it will also help us to cetagories the when we are going to perform any stastical operation or any other. we can say level of mesurement or scale of mesurement is very much to analysing the data. \n",
    "#### nominal data here we understood data are cetagorical data have cetagorical like male and female here we can see there are two type of data is there. whwn we are find any conclusion either we have to pick male or female or both it will totaly depend on the situation or requirement ."
   ]
  },
  {
   "cell_type": "markdown",
   "id": "40212df8-bc80-4747-a123-8e2187c09fc7",
   "metadata": {},
   "source": [
    "### Q7 "
   ]
  },
  {
   "cell_type": "markdown",
   "id": "09fa1aff-8eae-415d-9095-fafa1ea8ce98",
   "metadata": {},
   "source": [
    "#### with respect to the nominal and ordinal data set we have follow some rules and restiction. "
   ]
  },
  {
   "cell_type": "markdown",
   "id": "83304468-5111-47b0-9833-331baecc9dba",
   "metadata": {
    "tags": []
   },
   "source": [
    "#### Nominal data follow qualititave data or categorical data\n",
    "#### Nominal data dose not follow order,\n",
    "                --------\n",
    "#### ordinal data follow the ranking pattern or Ranking must.\n",
    "#### ordinal data follow the order means oder must \n",
    "#### Ordinl data diffrence can bot be measured"
   ]
  },
  {
   "cell_type": "markdown",
   "id": "357f1179-4a34-4c0b-976c-6c5048281e32",
   "metadata": {},
   "source": [
    "### Q8 "
   ]
  },
  {
   "cell_type": "markdown",
   "id": "7e9d891a-4ab8-4ecf-8da9-39a2cd1bdade",
   "metadata": {},
   "source": [
    "#### Histogram plot is diplayed in terms of range. "
   ]
  },
  {
   "cell_type": "markdown",
   "id": "da01eae9-f566-452c-9a58-2f868f05246e",
   "metadata": {},
   "source": [
    "### Q9"
   ]
  },
  {
   "cell_type": "markdown",
   "id": "3b629d8a-e9d0-4fed-b0d8-b5dc3e18000e",
   "metadata": {},
   "source": [
    "#### Descriptive statisics is used to describe the data, means when we are just tying to analys the data we used descriptive stastic. \n",
    "#### when we are trying to find some conclution from the row data in that time we used inferential stastic. "
   ]
  },
  {
   "cell_type": "markdown",
   "id": "e5190666-2231-45d2-8981-c7a63d40712c",
   "metadata": {},
   "source": [
    "### Q10"
   ]
  },
  {
   "cell_type": "markdown",
   "id": "0a6eec53-87b2-4f8a-8f31-4a6b9ab2a101",
   "metadata": {},
   "source": [
    "#### some common used measures of central tendency are :- \n",
    "#### 1. mean 2. median 3. mode"
   ]
  },
  {
   "cell_type": "markdown",
   "id": "3cbf806f-a416-4a1c-aa04-a0df6effbe03",
   "metadata": {},
   "source": [
    "#### some common used variability. it is specially used analys the dispertion / diffrence or spread of the data. \n",
    "#### 1. range\n",
    "#### 2. Interquartile range\n",
    "#### 3. Variance\n",
    "#### 4. Standard deviation."
   ]
  },
  {
   "cell_type": "markdown",
   "id": "01d759af-e6cc-49e7-9490-fa62f1a3cf8a",
   "metadata": {},
   "source": [
    "# 1. mean is used find the mean value from the dataset column or row .\n",
    "#### 2. median is used to find the median value from the dataset column or row.\n",
    "#### 3. mode is used to find mode value from the dataset column or row. \n",
    "#### 4. range is used to find the actual range or find the biggest and smalest value from the dataset.\n",
    "#### 5. interquartile range is used to measure of variability for skewed distributions or data sets with outliers.\n",
    "#### 6. varianve is used to measures the degree of dispersion of data around the sample's mean.\n",
    "#### 7. Standard deviation is used to see how much value is deviated from the mean value. "
   ]
  },
  {
   "cell_type": "code",
   "execution_count": null,
   "id": "b6095ee2-473b-4592-b321-b49a8d96a9d7",
   "metadata": {},
   "outputs": [],
   "source": []
  }
 ],
 "metadata": {
  "kernelspec": {
   "display_name": "Python 3 (ipykernel)",
   "language": "python",
   "name": "python3"
  },
  "language_info": {
   "codemirror_mode": {
    "name": "ipython",
    "version": 3
   },
   "file_extension": ".py",
   "mimetype": "text/x-python",
   "name": "python",
   "nbconvert_exporter": "python",
   "pygments_lexer": "ipython3",
   "version": "3.10.8"
  }
 },
 "nbformat": 4,
 "nbformat_minor": 5
}
