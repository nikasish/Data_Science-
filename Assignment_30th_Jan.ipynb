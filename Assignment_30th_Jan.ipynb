{
 "cells": [
  {
   "cell_type": "markdown",
   "id": "1354199e-d33a-4fc4-975e-f753a4010ddb",
   "metadata": {},
   "source": [
    "### Q1"
   ]
  },
  {
   "cell_type": "code",
   "execution_count": 13,
   "id": "e0243144-6ca0-4850-8dd3-7ff37b269bb3",
   "metadata": {},
   "outputs": [
    {
     "name": "stdin",
     "output_type": "stream",
     "text": [
      " Enter Your Percentage  69\n"
     ]
    },
    {
     "name": "stdout",
     "output_type": "stream",
     "text": [
      " Your Grade is C\n"
     ]
    }
   ],
   "source": [
    "Percentage = int(input(\" Enter Your Percentage \"))\n",
    "\n",
    "if Percentage > 90:\n",
    "    print(\" Your Grade is A\")\n",
    "elif Percentage > 80 and Percentage <= 90:\n",
    "    print(\" Your Grade is B\")\n",
    "elif Percentage >=60 and Percentage <= 80:\n",
    "    print(\" Your Grade is C\")\n",
    "else:\n",
    "    print(\" Your Grade is D\")"
   ]
  },
  {
   "cell_type": "markdown",
   "id": "cb66b6f3-cf20-484f-bf7b-577723eeba67",
   "metadata": {},
   "source": [
    "### Q2"
   ]
  },
  {
   "cell_type": "code",
   "execution_count": 22,
   "id": "fd66bebb-449b-4e36-9560-26c4b189aed4",
   "metadata": {},
   "outputs": [
    {
     "name": "stdin",
     "output_type": "stream",
     "text": [
      "Enter The Bike Cost Price 50000\n"
     ]
    },
    {
     "name": "stdout",
     "output_type": "stream",
     "text": [
      " Road Text Will be 5% @ RS. 2500.0 /-\n"
     ]
    }
   ],
   "source": [
    "Cost_Price = int(input(\"Enter The Bike Cost Price\" ))\n",
    "\n",
    "if Cost_Price >100000:\n",
    "    print(\" Road Text Will be 15% @ Rs.\", Cost_Price * 15 / 100, \"/-\" )\n",
    "elif Cost_Price > 50000 and Cost_Price <= 100000:\n",
    "    print(\" Road Text Will be 10% @ Rs.\", Cost_Price * 10 / 100, \"/-\")\n",
    "else: \n",
    "    print(\" Road Text Will be 5% @ RS.\", Cost_Price * 5 / 100, \"/-\" )"
   ]
  },
  {
   "cell_type": "markdown",
   "id": "f58d390e-bd12-4db7-ab82-89dcdf024487",
   "metadata": {},
   "source": [
    "### Q3 "
   ]
  },
  {
   "cell_type": "code",
   "execution_count": 1,
   "id": "82b8bae9-39b8-4552-877a-2e27b6424c93",
   "metadata": {},
   "outputs": [
    {
     "name": "stdin",
     "output_type": "stream",
     "text": [
      " Please Enter Your City Name for Check The Monuments... maha\n"
     ]
    },
    {
     "name": "stdout",
     "output_type": "stream",
     "text": [
      " Jal Mahal \n"
     ]
    }
   ],
   "source": [
    "City = str(input(\" Please Enter Your City Name for Check The Monuments...\"))\n",
    "\n",
    "if City == \"Delhi\":\n",
    "    print(\" Red Fort \")\n",
    "elif City == \"Agra\":\n",
    "    print(\" Taj Mahal \")\n",
    "else:\n",
    "    print(\" Jal Mahal \")\n"
   ]
  },
  {
   "cell_type": "markdown",
   "id": "d6b7d9ac-1111-46de-a4b2-3a0b6c214fe2",
   "metadata": {},
   "source": [
    "### Q4"
   ]
  },
  {
   "cell_type": "code",
   "execution_count": 6,
   "id": "184ba347-f27e-4a79-b26d-44f7168b9a0b",
   "metadata": {},
   "outputs": [
    {
     "name": "stdin",
     "output_type": "stream",
     "text": [
      " Please Enter Number  30\n"
     ]
    },
    {
     "name": "stdout",
     "output_type": "stream",
     "text": [
      "7\n"
     ]
    }
   ],
   "source": [
    "value = int(input(' Please Enter Number '))\n",
    "\n",
    "i = 10\n",
    "count = 0\n",
    "\n",
    "while i <= value:\n",
    "    if value % 3 == 0:\n",
    "        count = count +1\n",
    "    value = value -1\n",
    "print ( count )\n",
    "    "
   ]
  },
  {
   "cell_type": "markdown",
   "id": "3239fad4-33e2-4aad-a3e0-056afe52d1cb",
   "metadata": {},
   "source": [
    "### Q5"
   ]
  },
  {
   "cell_type": "markdown",
   "id": "4581da5d-c590-44d8-ba87-9070a00e72b9",
   "metadata": {},
   "source": [
    "#### when we dont know the iteration times but we have satisfied condition and till the condition we have iterate the loop in that time we will use while loop "
   ]
  },
  {
   "cell_type": "markdown",
   "id": "fa9ec1f0-ae90-4624-946c-43eda26b0d1f",
   "metadata": {},
   "source": [
    "###### Example of while loop ------>\n",
    "#### Q:- print Hello World 10th time "
   ]
  },
  {
   "cell_type": "code",
   "execution_count": 3,
   "id": "34419c9f-14c0-4738-be1d-0536cb03e2af",
   "metadata": {},
   "outputs": [
    {
     "name": "stdout",
     "output_type": "stream",
     "text": [
      "0 ->  Hello World\n",
      "1 ->  Hello World\n",
      "2 ->  Hello World\n",
      "3 ->  Hello World\n",
      "4 ->  Hello World\n",
      "5 ->  Hello World\n",
      "6 ->  Hello World\n",
      "7 ->  Hello World\n",
      "8 ->  Hello World\n",
      "9 ->  Hello World\n"
     ]
    }
   ],
   "source": [
    "i =0\n",
    "while i < 10:\n",
    "    print ( i, '->', \" Hello World\" )\n",
    "    i = i+1"
   ]
  },
  {
   "cell_type": "markdown",
   "id": "92b9a9ad-28e5-44d0-9ce9-13e9d25c616e",
   "metadata": {},
   "source": [
    "### Q6"
   ]
  },
  {
   "cell_type": "markdown",
   "id": "03883ef9-ca10-43a0-848f-465ee556f395",
   "metadata": {},
   "source": [
    "### Pattern 1"
   ]
  },
  {
   "cell_type": "code",
   "execution_count": 1,
   "id": "756087af-d842-440c-a008-ba043e66bad2",
   "metadata": {},
   "outputs": [
    {
     "name": "stdout",
     "output_type": "stream",
     "text": [
      " *  \n",
      " *   *  \n",
      " *   *   *  \n",
      " *   *   *   *  \n"
     ]
    }
   ],
   "source": [
    "i = 1\n",
    "while i < 5:\n",
    "    j = 1\n",
    "    while j <=i:\n",
    "        print (\" * \", end = \" \")\n",
    "        j += 1\n",
    "    print ()\n",
    "    i += 1"
   ]
  },
  {
   "cell_type": "markdown",
   "id": "72f91158-c244-4e39-ad98-048684a1bd13",
   "metadata": {},
   "source": [
    "### Pattern 2"
   ]
  },
  {
   "cell_type": "code",
   "execution_count": 2,
   "id": "dde5cc52-4cd4-444d-bb7a-d954a6839cab",
   "metadata": {},
   "outputs": [
    {
     "name": "stdout",
     "output_type": "stream",
     "text": [
      "1 \n",
      "1 2 \n",
      "1 2 3 \n",
      "1 2 3 4 \n"
     ]
    }
   ],
   "source": [
    "i = 1\n",
    "while i < 5:\n",
    "    j = 1\n",
    "    while j <=i:\n",
    "        print (j , end = \" \")\n",
    "        j += 1\n",
    "    print ()\n",
    "    i += 1"
   ]
  },
  {
   "cell_type": "markdown",
   "id": "d499d0a2-e367-4513-87d6-fad819488e1f",
   "metadata": {},
   "source": [
    "### Pattern 3"
   ]
  },
  {
   "cell_type": "code",
   "execution_count": 3,
   "id": "cda8f83c-9d7d-4ef7-baf3-29184a716760",
   "metadata": {},
   "outputs": [
    {
     "name": "stdout",
     "output_type": "stream",
     "text": [
      "2 \n",
      "2 3 \n",
      "2 3 4 \n",
      "2 3 4 5 \n"
     ]
    }
   ],
   "source": [
    "i = 1\n",
    "while i < 5:\n",
    "    j = 1\n",
    "    while j <=i:\n",
    "        print ( j +1, end = \" \")\n",
    "        j += 1\n",
    "    print ()\n",
    "    i += 1"
   ]
  },
  {
   "cell_type": "markdown",
   "id": "ca333d42-0cc0-4163-81dd-0054b49a07e7",
   "metadata": {},
   "source": [
    "### Pattern 4 "
   ]
  },
  {
   "cell_type": "code",
   "execution_count": 9,
   "id": "9a7687e5-243e-4847-a9b0-9a30f560579c",
   "metadata": {},
   "outputs": [
    {
     "name": "stdout",
     "output_type": "stream",
     "text": [
      "1 \n",
      "1 3 \n",
      "1 3 5 \n",
      "1 3 5 7 \n",
      "1 3 5 7 9 \n"
     ]
    }
   ],
   "source": [
    "i = 1\n",
    "while i < 10:\n",
    "    j = 1\n",
    "    while j <=i:\n",
    "        print ( j , end = \" \")\n",
    "        j += 2\n",
    "    print ()\n",
    "    i += 2"
   ]
  },
  {
   "cell_type": "markdown",
   "id": "812a672c-aa18-4032-bb09-bc3c42bb174e",
   "metadata": {},
   "source": [
    "### Pattern 5"
   ]
  },
  {
   "cell_type": "code",
   "execution_count": 12,
   "id": "dda182cd-7893-41d2-a283-6f48ecb1a931",
   "metadata": {},
   "outputs": [
    {
     "name": "stdout",
     "output_type": "stream",
     "text": [
      " *   *   *   *   *   *  \n",
      " *   *   *   *   *  \n",
      " *   *   *   *  \n",
      " *   *   *  \n",
      " *   *  \n",
      " *  \n",
      "\n",
      " *  \n",
      " *   *  \n",
      " *   *   *  \n",
      " *   *   *   *  \n",
      " *   *   *   *   *  \n",
      " *   *   *   *   *   *  \n"
     ]
    }
   ],
   "source": [
    "i = 6\n",
    "while i > 0:\n",
    "    j = 1\n",
    "    while j <=i:\n",
    "        print ( \" * \" , end = \" \")\n",
    "        j += 1\n",
    "    print ()\n",
    "    i -= 1\n",
    "    \n",
    "i = 0\n",
    "while i <= 6:\n",
    "    j = 1\n",
    "    while j <=i:\n",
    "        print ( \" * \" , end = \" \")\n",
    "        j += 1\n",
    "    print ()\n",
    "    i += 1"
   ]
  },
  {
   "cell_type": "markdown",
   "id": "d7d87dc0-0400-48f3-94a6-ae7fd87639b3",
   "metadata": {},
   "source": [
    "### Q7"
   ]
  },
  {
   "cell_type": "code",
   "execution_count": 1,
   "id": "485cb87d-e38c-4277-9b37-a004d75fe339",
   "metadata": {},
   "outputs": [
    {
     "name": "stdout",
     "output_type": "stream",
     "text": [
      "10\n",
      "9\n",
      "8\n",
      "7\n",
      "6\n",
      "5\n",
      "4\n",
      "3\n",
      "2\n",
      "1\n"
     ]
    }
   ],
   "source": [
    "i = 10 \n",
    "while i> 0:\n",
    "    print (i)\n",
    "    i -= 1"
   ]
  },
  {
   "cell_type": "markdown",
   "id": "3bdddd69-0a8a-4214-ad7f-1dcc7e9f1f51",
   "metadata": {},
   "source": [
    "### Q8"
   ]
  },
  {
   "cell_type": "code",
   "execution_count": 2,
   "id": "3b12cbb0-7fdd-44d8-bfa6-9a0dac823465",
   "metadata": {},
   "outputs": [
    {
     "name": "stdout",
     "output_type": "stream",
     "text": [
      "10\n",
      "9\n",
      "8\n",
      "7\n",
      "6\n",
      "5\n",
      "4\n",
      "3\n",
      "2\n",
      "1\n"
     ]
    }
   ],
   "source": [
    "i = 10 \n",
    "while i> 0:\n",
    "    print (i)\n",
    "    i -= 1"
   ]
  }
 ],
 "metadata": {
  "kernelspec": {
   "display_name": "Python 3 (ipykernel)",
   "language": "python",
   "name": "python3"
  },
  "language_info": {
   "codemirror_mode": {
    "name": "ipython",
    "version": 3
   },
   "file_extension": ".py",
   "mimetype": "text/x-python",
   "name": "python",
   "nbconvert_exporter": "python",
   "pygments_lexer": "ipython3",
   "version": "3.10.8"
  }
 },
 "nbformat": 4,
 "nbformat_minor": 5
}
